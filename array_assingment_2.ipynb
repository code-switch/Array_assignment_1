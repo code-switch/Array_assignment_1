{
  "nbformat": 4,
  "nbformat_minor": 0,
  "metadata": {
    "colab": {
      "provenance": []
    },
    "kernelspec": {
      "name": "python3",
      "display_name": "Python 3"
    },
    "language_info": {
      "name": "python"
    }
  },
  "cells": [
    {
      "cell_type": "markdown",
      "source": [
        "<aside>\n",
        "💡 **Question 1**\n",
        "Given an integer array nums of 2n integers, group these integers into n pairs (a1, b1), (a2, b2),..., (an, bn) such that the sum of min(ai, bi) for all i is maximized. Return the maximized sum.\n",
        "\n",
        "**Example 1:**\n",
        "Input: nums = [1,4,3,2]\n",
        "Output: 4\n",
        "\n",
        "**Explanation:** All possible pairings (ignoring the ordering of elements) are:\n",
        "\n",
        "1. (1, 4), (2, 3) -> min(1, 4) + min(2, 3) = 1 + 2 = 3\n",
        "2. (1, 3), (2, 4) -> min(1, 3) + min(2, 4) = 1 + 2 = 3\n",
        "3. (1, 2), (3, 4) -> min(1, 2) + min(3, 4) = 1 + 3 = 4\n",
        "So the maximum possible sum is 4\n",
        "</aside>"
      ],
      "metadata": {
        "id": "xGsVb_UDrpGj"
      }
    },
    {
      "cell_type": "code",
      "source": [
        "def max_summation(nums): \n",
        "  nums = list(nums) \n",
        "  pair = []\n",
        "  max_sum = 0\n",
        "  idx_lst = []\n",
        "  for i,n in enumerate(nums):\n",
        "    if i not in idx_lst:  \n",
        "      diff={}\n",
        "      # print(np.where(nums==i))\n",
        "      for j,m in enumerate(nums[i+1:]):\n",
        "        diff[abs(n-m)] = j+i+1\n",
        "      #print(diff)\n",
        "      lowest_val = (min(diff.keys()), diff[min(diff.keys())])\n",
        "      idx = lowest_val[1]\n",
        "      \n",
        "\n",
        "      max_sum += min(n, nums[idx])\n",
        "      idx_lst.append(idx)\n",
        "\n",
        "  return max_sum\n",
        "  "
      ],
      "metadata": {
        "id": "5iI3dahTaIWU"
      },
      "execution_count": null,
      "outputs": []
    },
    {
      "cell_type": "code",
      "execution_count": null,
      "metadata": {
        "colab": {
          "base_uri": "https://localhost:8080/"
        },
        "id": "UyEWRSzTiIu0",
        "outputId": "85ef20cd-5da2-4548-c642-ad8095e98b54"
      },
      "outputs": [
        {
          "output_type": "stream",
          "name": "stdout",
          "text": [
            "[ 30  33  17 -12  12 -28 -30  46  12   5]\n",
            "8\n"
          ]
        }
      ],
      "source": [
        "#creating a array of random numbers of length 10\n",
        "import numpy as np\n",
        "\n",
        "nums = np.random.randint(-50,50,size=(10,))\n",
        "print(nums)\n",
        "result = max_summation(nums)\n",
        "print(result)"
      ]
    },
    {
      "cell_type": "markdown",
      "source": [
        "Question 2\n",
        "\n",
        "Alice has n candies, where the ith candy is of type candyType[i]. Alice noticed that she started to gain weight, so she visited a doctor. \n",
        "\n",
        "The doctor advised Alice to only eat n / 2 of the candies she has (n is always even). Alice likes her candies very much, and she wants to eat the maximum number of different types of candies while still following the doctor's advice. \n",
        "\n",
        "Given the integer array candyType of length n, return the maximum number of different types of candies she can eat if she only eats n / 2 of them.\n",
        "\n",
        "Example 1:\n",
        "Input: candyType = [1,1,2,2,3,3]\n",
        "Output: 3\n",
        "\n",
        "Explanation: Alice can only eat 6 / 2 = 3 candies. Since there are only 3 types, she can eat one of each type."
      ],
      "metadata": {
        "id": "imk0izrrefwD"
      }
    },
    {
      "cell_type": "code",
      "source": [
        "def max_candies(candies):\n",
        "\n",
        "  n = len(candies)\n",
        "  max_candies = n//2\n",
        "  candy_types = set(candies)\n",
        "  num_candy_types = len(candy_types)\n",
        "  return min(num_candy_types, max_candies)"
      ],
      "metadata": {
        "id": "A6iooGpBhTrY"
      },
      "execution_count": null,
      "outputs": []
    },
    {
      "cell_type": "code",
      "source": [
        "import numpy as np\n",
        "\n",
        "nums = np.random.randint(0,50,size=(20,))\n",
        "print(nums)\n",
        "result = max_candies(nums)\n",
        "print(result)"
      ],
      "metadata": {
        "colab": {
          "base_uri": "https://localhost:8080/"
        },
        "id": "nUzWh78acFsS",
        "outputId": "27a89365-d2ce-4ad7-8241-b31e43c88fc5"
      },
      "execution_count": null,
      "outputs": [
        {
          "output_type": "stream",
          "name": "stdout",
          "text": [
            "[42  3 42 29 23  7 39 16 23  1 27 32 30 28 28  1 40  7 34 17]\n",
            "10\n"
          ]
        }
      ]
    },
    {
      "cell_type": "markdown",
      "source": [
        "Question3 \n",
        "\n",
        "We define a harmonious array as an array where the difference between its maximum value\n",
        "and its minimum value is exactly 1.\n",
        "\n",
        "Given an integer array nums, return the length of its longest harmonious subsequence\n",
        "among all its possible subsequences.\n",
        "\n",
        "A subsequence of an array is a sequence that can be derived from the array by deleting some or no elements without changing the order of the remaining elements.\n",
        "\n",
        "Example 1:\n",
        "Input: nums = [1,3,2,2,5,2,3,7]\n",
        "Output: 5\n",
        "\n",
        "Explanation: The longest harmonious subsequence is [3,2,2,2,3]."
      ],
      "metadata": {
        "id": "s17SvhecwJxA"
      }
    },
    {
      "cell_type": "code",
      "source": [
        "def longest_subseq(nums):\n",
        "  l = list(nums)\n",
        "  \n",
        "  for i in nums: \n",
        "    unique_lst = []\n",
        "    for ele in l:\n",
        "      if ele not in unique_lst:\n",
        "        unique_lst.append(ele)\n",
        "    \n",
        "    large = max(unique_lst)\n",
        "    small = min(unique_lst)\n",
        "    if large-small == 1:\n",
        "      return len(l)\n",
        "    elif large-small == 0:\n",
        "      return 1\n",
        "    else:\n",
        "      diff = large-small\n",
        "      if l.count(large) >= l.count(small):\n",
        "        while l.count(small):\n",
        "          l.remove(small)\n",
        "      else:\n",
        "        while l.count(large):\n",
        "          l.remove(large)\n",
        "      "
      ],
      "metadata": {
        "id": "VzTRDaD0F6H4"
      },
      "execution_count": null,
      "outputs": []
    },
    {
      "cell_type": "code",
      "source": [
        "#creating a array of random numbers of length 10\n",
        "import numpy as np\n",
        "\n",
        "nums = np.random.randint(0,50,size=(10,))\n",
        "print(nums)\n",
        "result = longest_subseq(nums)\n",
        "print(result)"
      ],
      "metadata": {
        "colab": {
          "base_uri": "https://localhost:8080/"
        },
        "id": "vo166EZJQrf5",
        "outputId": "8869a648-dcc6-4c43-a849-9107f3a673c4"
      },
      "execution_count": null,
      "outputs": [
        {
          "output_type": "stream",
          "name": "stdout",
          "text": [
            "[42 12  1  6 11 37 12 16  9 13]\n",
            "3\n"
          ]
        }
      ]
    },
    {
      "cell_type": "markdown",
      "source": [
        "Question 4\n",
        "\n",
        "You have a long flowerbed in which some of the plots are planted, and some are not.\n",
        "However, flowers cannot be planted in adjacent plots.\n",
        "Given an integer array flowerbed containing 0's and 1's, where 0 means empty and 1 means not empty, and an integer n, return true if n new flowers can be planted in the flowerbed without violating the no-adjacent-flowers rule and false otherwise.\n",
        "\n",
        "Example 1:\n",
        "Input: flowerbed = [1,0,0,0,1], n = 1\n",
        "Output: true"
      ],
      "metadata": {
        "id": "X9OQhpRC5hnG"
      }
    },
    {
      "cell_type": "code",
      "source": [
        "def flower_feasible(arr, n):\n",
        "  l = list(arr)\n",
        "  flowerbed_counts = len(l)\n",
        "  if flowerbed_counts <= 2:\n",
        "    return False\n",
        "  elif n > (flowerbed_counts)//2:\n",
        "    return False\n",
        "  else:\n",
        "    zero_counts = 0\n",
        "    possible_flowerbeds = 0\n",
        "\n",
        "    for i in range(flowerbed_counts):\n",
        "      if l[i]==0:\n",
        "        zero_counts+=1\n",
        "        if (zero_counts == flowerbed_counts) and (zero_counts % 2 ==1):\n",
        "          possible_flowerbeds = zero_counts // 2 + 1\n",
        "        elif (zero_counts == flowerbed_counts) and (zero_counts % 2 ==0):\n",
        "          possible_flowerbeds = zero_counts // 2\n",
        "        elif ((zero_counts >= 3) and (zero_counts % 2 ==1) and (l[i]==l[-1])) or ((zero_counts >= 3) and (zero_counts % 2 ==1) and (l[i+1]==1)):\n",
        "          possible_flowerbeds += zero_counts // 2\n",
        "        else:\n",
        "          continue\n",
        "      else:\n",
        "        zero_counts = 0    \n",
        "      \n",
        "    if possible_flowerbeds == n:\n",
        "      return True     \n",
        "    else:\n",
        "      return False\n"
      ],
      "metadata": {
        "id": "AzmQif-NpbRr"
      },
      "execution_count": null,
      "outputs": []
    },
    {
      "cell_type": "code",
      "source": [
        "import numpy as np\n",
        "\n",
        "arr = np.random.randint(0,2,size=(10,))\n",
        "n = np.random.randint(1,6,size=(1,))[0]\n",
        "print(arr)\n",
        "print(n)\n",
        "flower_feasible(arr,n)"
      ],
      "metadata": {
        "colab": {
          "base_uri": "https://localhost:8080/"
        },
        "id": "Akgl3wCRg5PU",
        "outputId": "f482bfc3-b3e8-4ff9-ac56-6dade038582d"
      },
      "execution_count": null,
      "outputs": [
        {
          "output_type": "stream",
          "name": "stdout",
          "text": [
            "[1 0 1 1 1 0 0 0 1 0]\n",
            "1\n"
          ]
        },
        {
          "output_type": "execute_result",
          "data": {
            "text/plain": [
              "True"
            ]
          },
          "metadata": {},
          "execution_count": 49
        }
      ]
    },
    {
      "cell_type": "markdown",
      "source": [
        "Question 5\n",
        "\n",
        "Given an integer array nums, find three numbers whose product is maximum and return the maximum product.\n",
        "\n",
        "Example 1:\n",
        "Input: nums = [1,2,3]\n",
        "Output: 6"
      ],
      "metadata": {
        "id": "QELQT1VosvTr"
      }
    },
    {
      "cell_type": "code",
      "source": [
        "def max_product(nums):\n",
        "  l = list(nums)\n",
        "  if (0 in l) and len(l) == 3:\n",
        "    max_prod = 0\n",
        "  \n",
        "  else:\n",
        "    max_prod = 1\n",
        "    for i in range(3):\n",
        "      maxm = max(l)\n",
        "      max_prod *= maxm\n",
        "      l.remove(maxm)\n",
        "\n",
        "  return max_prod  "
      ],
      "metadata": {
        "id": "mS3VFX9Asv6Q"
      },
      "execution_count": null,
      "outputs": []
    },
    {
      "cell_type": "code",
      "source": [
        "import numpy as np\n",
        "arr_size = np.random.randint(3,10,size=(1,))[0]\n",
        "arr = np.random.randint(0,50,size=(arr_size,))\n",
        "print(arr)\n",
        "product = max_product(arr)\n",
        "print(product)"
      ],
      "metadata": {
        "colab": {
          "base_uri": "https://localhost:8080/"
        },
        "id": "n8eRi41tvedO",
        "outputId": "1bc7412a-eac5-4e93-a577-5d02b1bea61d"
      },
      "execution_count": null,
      "outputs": [
        {
          "output_type": "stream",
          "name": "stdout",
          "text": [
            "[15 31 34]\n",
            "15810\n"
          ]
        }
      ]
    },
    {
      "cell_type": "markdown",
      "source": [
        "Question 6\n",
        "\n",
        "Given an array of integers nums which is sorted in ascending order, and an integer target,\n",
        "write a function to search target in nums. If target exists, then return its index. Otherwise,\n",
        "return -1.\n",
        "\n",
        "You must write an algorithm with O(log n) runtime complexity.\n",
        "\n",
        "Input: nums = [-1,0,3,5,9,12], target = 9\n",
        "Output: 4\n",
        "\n",
        "Explanation: 9 exists in nums and its index is 4"
      ],
      "metadata": {
        "id": "VN6LVNw7vRaH"
      }
    },
    {
      "cell_type": "code",
      "source": [
        "def find_target(arr, target):\n",
        "  start= 0\n",
        "  end =  len(arr) - 1\n",
        "  while start <= end:\n",
        "      mid = (start + end) // 2\n",
        "      if arr[mid] == target:\n",
        "          return mid\n",
        "      elif arr[mid] < target:\n",
        "          start = mid + 1\n",
        "      else:\n",
        "          end = mid - 1\n",
        "  return -1"
      ],
      "metadata": {
        "id": "Q1JLoaUAvR9B"
      },
      "execution_count": 60,
      "outputs": []
    },
    {
      "cell_type": "code",
      "source": [
        "import numpy as np\n",
        "arr_size = np.random.randint(3,10,size=(1,))[0]\n",
        "arr = np.random.randint(0,50,size=(arr_size,))\n",
        "arr.sort()\n",
        "print(arr)\n",
        "n = int(input('Enter the target number to find in array:'))\n",
        "find_target(arr,n)"
      ],
      "metadata": {
        "colab": {
          "base_uri": "https://localhost:8080/"
        },
        "id": "6kJYtpQsiEqq",
        "outputId": "d5e05a56-4338-4e15-9bfb-a9be1b319bed"
      },
      "execution_count": 61,
      "outputs": [
        {
          "name": "stdout",
          "output_type": "stream",
          "text": [
            "[20 22 34 40 48 49]\n",
            "Enter the target number to find in array:47\n"
          ]
        },
        {
          "output_type": "execute_result",
          "data": {
            "text/plain": [
              "-1"
            ]
          },
          "metadata": {},
          "execution_count": 61
        }
      ]
    },
    {
      "cell_type": "markdown",
      "source": [
        "Question 7\n",
        "\n",
        "An array is monotonic if it is either monotone increasing or monotone decreasing.\n",
        "\n",
        "An array nums is monotone increasing if for all i <= j, nums[i] <= nums[j]. An array nums is\n",
        "monotone decreasing if for all i <= j, nums[i] >= nums[j].\n",
        "\n",
        "Given an integer array nums, return true if the given array is monotonic, or false otherwise.\n",
        "\n",
        "Example 1:\n",
        "Input: nums = [1,2,2,3]\n",
        "Output: true"
      ],
      "metadata": {
        "id": "4isZu8GFpGPL"
      }
    },
    {
      "cell_type": "code",
      "source": [
        "def is_monotonic(nums):\n",
        "  nums = list(nums)\n",
        "  minm = min(nums)\n",
        "  maxm = max(nums)\n",
        "  \n",
        "  if nums[0]==maxm:\n",
        "    nums.sort()\n",
        "    \n",
        "  for ele in nums:\n",
        "    if ele ==nums[0]:\n",
        "      if ele == minm:\n",
        "        continue\n",
        "      else:\n",
        "        return False\n",
        "    elif nums[nums.index(ele)-1] <= ele:\n",
        "      continue\n",
        "\n",
        "  return True    \n",
        "    "
      ],
      "metadata": {
        "id": "UyCoThQ2pAy0"
      },
      "execution_count": 83,
      "outputs": []
    },
    {
      "cell_type": "code",
      "source": [
        "import numpy as np\n",
        "arr_size = np.random.randint(3,10,size=(1,))[0]\n",
        "arr = np.random.randint(0,50,size=(arr_size,))\n",
        "print(arr)\n",
        "res = input('want sorted array (y/n):')\n",
        "if res == 'y':\n",
        "  res_2 = input('Sorted in increasing or decreasing (i/d):')\n",
        "  if res_2 == 'i':\n",
        "    arr.sort()\n",
        "  elif res_2 == 'd':\n",
        "    arr[::-1].sort()\n",
        "print(arr)\n",
        "print(is_monotonic(arr))"
      ],
      "metadata": {
        "colab": {
          "base_uri": "https://localhost:8080/"
        },
        "id": "_sfKTgUisNS9",
        "outputId": "5d652750-eab3-4c17-d3db-c231b600a88b"
      },
      "execution_count": 85,
      "outputs": [
        {
          "output_type": "stream",
          "name": "stdout",
          "text": [
            "[34 32 43  8 48 31 40  2]\n",
            "want sorted array (y/n):y\n",
            "Sorted in increasing or decreasing (i/d):d\n",
            "[48 43 40 34 32 31  8  2]\n",
            "True\n"
          ]
        }
      ]
    },
    {
      "cell_type": "markdown",
      "source": [
        "Question 8\n",
        "\n",
        "You are given an integer array nums and an integer k.\n",
        "\n",
        "In one operation, you can choose any index i where 0 <= i < nums.length and change nums[i] to nums[i] + x where x is an integer from the range [-k, k]. You can apply this operation at most once for each index i.\n",
        "\n",
        "The score of nums is the difference between the maximum and minimum elements in nums.\n",
        "\n",
        "Return the minimum score of nums after applying the mentioned operation at most once for each index in it.\n",
        "\n",
        "Example 1:\n",
        "Input: nums = [1], k = 0\n",
        "Output: 0\n",
        "\n",
        "Explanation: The score is max(nums) - min(nums) = 1 - 1 = 0."
      ],
      "metadata": {
        "id": "765dWanruLv7"
      }
    },
    {
      "cell_type": "code",
      "source": [
        "def min_score(nums,k):\n",
        "  l = list(nums)\n",
        "  maxm = max(l)\n",
        "  minm = min(l)\n",
        "  score = maxm-minm\n",
        "  if score == 0:\n",
        "    return 0\n",
        "  \n",
        "  else:\n",
        "    for i in range(len(l)):\n",
        "      if l[i] != maxm and (maxm-l[i]) <= k:\n",
        "        l[i]+= (maxm-l[i])\n",
        "      elif l[i] != maxm and (maxm-l[i]) > k:\n",
        "        l[i]+= k\n",
        "      else:\n",
        "        continue\n",
        "    score = max(l) - min(l)\n",
        "\n",
        "    return score  \n",
        "      \n",
        "      \n",
        "\n",
        "    "
      ],
      "metadata": {
        "id": "-_J_nI48uMaS"
      },
      "execution_count": 88,
      "outputs": []
    },
    {
      "cell_type": "code",
      "source": [
        "import numpy as np\n",
        "arr_size = np.random.randint(3,10,size=(1,))[0]\n",
        "arr = np.random.randint(0,50,size=(arr_size,))\n",
        "print(arr)\n",
        "k = int(input('Enter the k value for range [-k,k]:'))\n",
        "print(min_score(arr,k))"
      ],
      "metadata": {
        "id": "34CKWOXez0ah",
        "colab": {
          "base_uri": "https://localhost:8080/"
        },
        "outputId": "b3351094-1708-4db5-b5f4-11119fcf3702"
      },
      "execution_count": 89,
      "outputs": [
        {
          "output_type": "stream",
          "name": "stdout",
          "text": [
            "[40 12 25 34 27 40  0 48]\n",
            "Enter the k value for range [-k,k]:12\n",
            "36\n"
          ]
        }
      ]
    }
  ]
}