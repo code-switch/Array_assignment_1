{
  "nbformat": 4,
  "nbformat_minor": 0,
  "metadata": {
    "colab": {
      "provenance": []
    },
    "kernelspec": {
      "name": "python3",
      "display_name": "Python 3"
    },
    "language_info": {
      "name": "python"
    }
  },
  "cells": [
    {
      "cell_type": "markdown",
      "source": [
        "Q1. <aside>\n",
        "💡 **Q1.** Given an array of integers nums and an integer target, return indices of the two numbers such that they add up to target.\n",
        "\n",
        "You may assume that each input would have exactly one solution, and you may not use the same element twice.\n",
        "\n",
        "You can return the answer in any order.\n",
        "\n",
        "**Example:**\n",
        "Input: nums = [2,7,11,15], target = 9\n",
        "Output0 [0,1]\n",
        "\n",
        "**Explanation:** Because nums[0] + nums[1] == 9, we return [0, 1][\n",
        "\n",
        "</aside>"
      ],
      "metadata": {
        "id": "xGsVb_UDrpGj"
      }
    },
    {
      "cell_type": "code",
      "execution_count": null,
      "metadata": {
        "colab": {
          "base_uri": "https://localhost:8080/"
        },
        "id": "UyEWRSzTiIu0",
        "outputId": "cb459aae-1b44-401e-f241-359237b1cdf9"
      },
      "outputs": [
        {
          "output_type": "stream",
          "name": "stdout",
          "text": [
            "[ 26 -25 -29 -43 -41 -18  15 -42 -10 -45]\n"
          ]
        }
      ],
      "source": [
        "#creating a array of random numbers of length 10\n",
        "import numpy as np\n",
        "nums = np.random.randint(-50,50,size=(10,))\n",
        "print(nums)\n"
      ]
    },
    {
      "cell_type": "code",
      "source": [
        "# creating the target number randomly from the array 'nums'\n",
        "num_1,num_2 = np.random.choice(nums,2, replace = False)\n",
        "target = num_1 + num_2\n",
        "print(f'number 1: {num_1}')\n",
        "print(f'number 2: {num_2}')\n",
        "print(f'Target num: {target}')"
      ],
      "metadata": {
        "colab": {
          "base_uri": "https://localhost:8080/"
        },
        "id": "5iI3dahTaIWU",
        "outputId": "425fe7d3-0fd0-4e4f-fb54-0b669295c815"
      },
      "execution_count": null,
      "outputs": [
        {
          "output_type": "stream",
          "name": "stdout",
          "text": [
            "number 1: 1\n",
            "number 2: -35\n",
            "Target num: -34\n"
          ]
        }
      ]
    },
    {
      "cell_type": "code",
      "source": [
        "#creating a dictionary to store the difference as key & index as value\n",
        "diff_dict = {}\n",
        "for i,num in enumerate(nums):\n",
        "  diff = target - num\n",
        "  if diff in nums:\n",
        "    print(f'Two numbers are at index: {list(nums).index(diff)} and {i}')\n",
        "    break \n",
        "  else:\n",
        "    diff_dict[diff]=i\n",
        "  "
      ],
      "metadata": {
        "colab": {
          "base_uri": "https://localhost:8080/"
        },
        "id": "nUzWh78acFsS",
        "outputId": "7d5255e0-b7da-46dc-bf1a-44776a793d63"
      },
      "execution_count": null,
      "outputs": [
        {
          "output_type": "stream",
          "name": "stdout",
          "text": [
            "Two numbers are at index: 7 and 0\n"
          ]
        }
      ]
    },
    {
      "cell_type": "markdown",
      "source": [
        "<aside>\n",
        "💡 **Q2.** Given an integer array nums and an integer val, remove all occurrences of val in nums in-place. The order of the elements may be changed. Then return the number of elements in nums which are not equal to val.\n",
        "\n",
        "Consider the number of elements in nums which are not equal to val be k, to get accepted, you need to do the following things:\n",
        "\n",
        "- Change the array nums such that the first k elements of nums contain the elements which are not equal to val. The remaining elements of nums are not important as well as the size of nums.\n",
        "- Return k.\n",
        "\n",
        "**Example :**\n",
        "Input: nums = [3,2,2,3], val = 3\n",
        "Output: 2, nums = [2,2,_*,_*]\n",
        "\n",
        "**Explanation:** Your function should return k = 2, with the first two elements of nums being 2. It does not matter what you leave beyond the returned k (hence they are underscores)[\n",
        "\n",
        "</aside>"
      ],
      "metadata": {
        "id": "s17SvhecwJxA"
      }
    },
    {
      "cell_type": "code",
      "source": [
        "#creating a function to do the above task\n",
        "def remove_val(arr, val):\n",
        "  l = list(arr)\n",
        "  if val in l:\n",
        "    for ele in l:\n",
        "      if ele == val:\n",
        "        l.remove(ele)\n",
        "        l.append('_')\n",
        "    print(l)\n",
        "  else:\n",
        "    print(f'value {val} is not found in array {l}')\n",
        "\n",
        "    \n"
      ],
      "metadata": {
        "id": "FbYaWmrIkAip"
      },
      "execution_count": null,
      "outputs": []
    },
    {
      "cell_type": "code",
      "source": [
        "A= np.random.randint(-50,50,size=(10,))\n",
        "num = 4\n",
        "remove_val(A, num)"
      ],
      "metadata": {
        "colab": {
          "base_uri": "https://localhost:8080/"
        },
        "id": "vo166EZJQrf5",
        "outputId": "d1b2d929-a779-4864-8027-52b5acd3bc7f"
      },
      "execution_count": null,
      "outputs": [
        {
          "output_type": "stream",
          "name": "stdout",
          "text": [
            "[6, 88, 8, 3, 6, -1, 7, 0, '_', '_']\n"
          ]
        }
      ]
    },
    {
      "cell_type": "markdown",
      "source": [
        "<aside>\n",
        "💡 **Q3.** Given a sorted array of distinct integers and a target value, return the index if the target is found. If not, return the index where it would be if it were inserted in order.\n",
        "\n",
        "You must write an algorithm with O(log n) runtime complexity.\n",
        "\n",
        "**Example 1:**\n",
        "Input: nums = [1,3,5,6], target = 5\n",
        "\n",
        "Output: 2\n",
        "\n",
        "</aside>"
      ],
      "metadata": {
        "id": "X9OQhpRC5hnG"
      }
    },
    {
      "cell_type": "code",
      "source": [
        "def findTarget(arr, target):\n",
        "  start= 0\n",
        "  end =  len(arr) - 1\n",
        "  while start <= end:\n",
        "      mid = (start + end) // 2\n",
        "      if arr[mid] == target:\n",
        "          return mid\n",
        "      elif arr[mid] < target:\n",
        "          start = mid + 1\n",
        "      else:\n",
        "          end = mid - 1\n",
        "  return f\"Number should be index:{start}\""
      ],
      "metadata": {
        "id": "AzmQif-NpbRr"
      },
      "execution_count": 13,
      "outputs": []
    },
    {
      "cell_type": "code",
      "source": [
        "import numpy as np\n",
        "\n",
        "A= np.random.randint(-50,50,size=(10,))\n",
        "num = np.random.choice(A,1, replace = False)[0]\n",
        "A= np.sort(A)\n",
        "print(A)\n",
        "findTarget(A,16)"
      ],
      "metadata": {
        "colab": {
          "base_uri": "https://localhost:8080/",
          "height": 53
        },
        "id": "Akgl3wCRg5PU",
        "outputId": "c8761c3d-9165-4f0c-b8c4-86a5d6d6d8b5"
      },
      "execution_count": 14,
      "outputs": [
        {
          "output_type": "stream",
          "name": "stdout",
          "text": [
            "[-39 -36 -28 -20 -15 -14 -10  12  17  22]\n"
          ]
        },
        {
          "output_type": "execute_result",
          "data": {
            "text/plain": [
              "'Number should be index:8'"
            ],
            "application/vnd.google.colaboratory.intrinsic+json": {
              "type": "string"
            }
          },
          "metadata": {},
          "execution_count": 14
        }
      ]
    },
    {
      "cell_type": "markdown",
      "source": [
        "<aside>\n",
        "💡 **Q4.** You are given a large integer represented as an integer array digits, where each digits[i] is the ith digit of the integer. The digits are ordered from most significant to least significant in left-to-right order. The large integer does not contain any leading 0's.\n",
        "\n",
        "Increment the large integer by one and return the resulting array of digits.\n",
        "\n",
        "**Example 1:**\n",
        "Input: digits = [1,2,3]\n",
        "Output: [1,2,4]\n",
        "\n",
        "**Explanation:** The array represents the integer 123.\n",
        "\n",
        "Incrementing by one gives 123 + 1 = 124.\n",
        "Thus, the result should be [1,2,4].\n",
        "\n",
        "</aside>"
      ],
      "metadata": {
        "id": "QELQT1VosvTr"
      }
    },
    {
      "cell_type": "code",
      "source": [
        "integer = str(input('Enter a large integer=2'))\n",
        "print(integer)\n",
        "int_lst = integer.split(',')\n",
        "int_lst[-1] = str(int(int_lst[-1])+1)\n",
        "integer = ''.join(int_lst)\n",
        "print(integer)"
      ],
      "metadata": {
        "colab": {
          "base_uri": "https://localhost:8080/"
        },
        "id": "mS3VFX9Asv6Q",
        "outputId": "9b8b8a77-2368-4397-d985-350aaa82f6e2"
      },
      "execution_count": 18,
      "outputs": [
        {
          "output_type": "stream",
          "name": "stdout",
          "text": [
            "Enter a large integer=23455\n",
            "23455\n",
            "23456\n"
          ]
        }
      ]
    },
    {
      "cell_type": "markdown",
      "source": [
        "<aside>\n",
        "💡 **Q5.** You are given two integer arrays nums1 and nums2, sorted in non-decreasing order, and two integers m and n, representing the number of elements in nums1 and nums2 respectively.\n",
        "\n",
        "Merge nums1 and nums2 into a single array sorted in non-decreasing order.\n",
        "\n",
        "The final sorted array should not be returned by the function, but instead be stored inside the array nums1. To accommodate this, nums1 has a length of m + n, where the first m elements denote the elements that should be merged, and the last n elements are set to 0 and should be ignored. nums2 has a length of n.\n",
        "\n",
        "**Example 1:**\n",
        "Input: nums1 = [1,2,3,0,0,0], m = 3, nums2 = [2,5,6], n = 3\n",
        "Output: [1,2,2,3,5,6]\n",
        "\n",
        "**Explanation:** The arrays we are merging are [1,2,3] and [2,5,6].\n",
        "The result of the merge is [1,2,2,3,5,6] with the underlined elements coming from nums1.\n",
        "\n",
        "</aside>"
      ],
      "metadata": {
        "id": "VN6LVNw7vRaH"
      }
    },
    {
      "cell_type": "code",
      "source": [
        "response_1 = input('Enter integer elements of array separeted by space like 3 5 66 7 4 = ')\n",
        "num1 = response_1.split(' ')\n",
        "# num1 = map(int(),num1)\n",
        "num1 = [int(n) for n in num1]\n",
        "num1.sort()\n",
        "response_2 = input('Enter integer elements of array separeted by space like 3 5 66 7 4 = ')\n",
        "num2 = response_2.split(' ')\n",
        "num2 = [int(m) for m in num2]\n",
        "num2.sort()\n"
      ],
      "metadata": {
        "colab": {
          "base_uri": "https://localhost:8080/"
        },
        "id": "Q1JLoaUAvR9B",
        "outputId": "921170f5-40d9-4608-cba0-fd3357b9108d"
      },
      "execution_count": 61,
      "outputs": [
        {
          "name": "stdout",
          "output_type": "stream",
          "text": [
            "Enter integer elements of array separeted by space like 3 5 66 7 4 = 2 3 5 6 7 8 9 11 33 0 4 2\n",
            "Enter integer elements of array separeted by space like 3 5 66 7 4 = 4 62 2 6 8\n"
          ]
        }
      ]
    },
    {
      "cell_type": "code",
      "source": [
        "print(num1)\n",
        "print(num2)"
      ],
      "metadata": {
        "colab": {
          "base_uri": "https://localhost:8080/"
        },
        "id": "6kJYtpQsiEqq",
        "outputId": "a884601e-b85f-4543-cc7a-eab7e53bc7ab"
      },
      "execution_count": 62,
      "outputs": [
        {
          "output_type": "stream",
          "name": "stdout",
          "text": [
            "[0, 2, 2, 3, 4, 5, 6, 7, 8, 9, 11, 33]\n",
            "[2, 4, 6, 8, 62]\n"
          ]
        }
      ]
    },
    {
      "cell_type": "code",
      "source": [
        "for ele in num2:\n",
        "  num1.append(ele)\n",
        "num1.sort()"
      ],
      "metadata": {
        "id": "ZEK9WVvl73BR"
      },
      "execution_count": 63,
      "outputs": []
    },
    {
      "cell_type": "code",
      "source": [
        "print(num1)"
      ],
      "metadata": {
        "colab": {
          "base_uri": "https://localhost:8080/"
        },
        "id": "jjOTfJZjohqF",
        "outputId": "394dec61-19a0-44d7-e49a-a46216c92d65"
      },
      "execution_count": 64,
      "outputs": [
        {
          "output_type": "stream",
          "name": "stdout",
          "text": [
            "[0, 2, 2, 2, 3, 4, 4, 5, 6, 6, 7, 8, 8, 9, 11, 33, 62]\n"
          ]
        }
      ]
    },
    {
      "cell_type": "markdown",
      "source": [
        "<aside>\n",
        "💡 **Q6.** Given an integer array nums, return true if any value appears at least twice in the array, and return false if every element is distinct.\n",
        "\n",
        "**Example 1:**\n",
        "Input: nums = [1,2,3,1]\n",
        "\n",
        "Output: true\n",
        "\n",
        "</aside>"
      ],
      "metadata": {
        "id": "4isZu8GFpGPL"
      }
    },
    {
      "cell_type": "code",
      "source": [
        "\n",
        "def duplicate_find(nums):\n",
        "  l = list(nums)\n",
        "  length = len(l)\n",
        "  count = 0\n",
        "  for ele in l:\n",
        "    idx = l.index(ele)\n",
        "    if ele in l[idx+1:]:\n",
        "      return True\n",
        "    \n",
        "    else:\n",
        "      count+=1\n",
        "  \n",
        "  if count == length:\n",
        "    return False\n"
      ],
      "metadata": {
        "id": "UyCoThQ2pAy0"
      },
      "execution_count": 77,
      "outputs": []
    },
    {
      "cell_type": "code",
      "source": [
        "nums = np.random.randint(-50,50,size=(10,))\n",
        "print(nums)\n",
        "duplicate_find(nums)"
      ],
      "metadata": {
        "colab": {
          "base_uri": "https://localhost:8080/"
        },
        "id": "_sfKTgUisNS9",
        "outputId": "d0cd2197-04f4-49eb-a9f2-df4ad7d86f3c"
      },
      "execution_count": 79,
      "outputs": [
        {
          "output_type": "stream",
          "name": "stdout",
          "text": [
            "[-24  14 -27 -40  34  28 -24  -4 -19 -24]\n"
          ]
        },
        {
          "output_type": "execute_result",
          "data": {
            "text/plain": [
              "True"
            ]
          },
          "metadata": {},
          "execution_count": 79
        }
      ]
    },
    {
      "cell_type": "markdown",
      "source": [
        "<aside>\n",
        "💡 **Q7.** Given an integer array nums, move all 0's to the end of it while maintaining the relative order of the nonzero elements.\n",
        "\n",
        "Note that you must do this in-place without making a copy of the array.\n",
        "\n",
        "**Example 1:**\n",
        "Input: nums = [0,1,0,3,12]\n",
        "Output: [1,3,12,0,0]\n",
        "\n",
        "</aside>"
      ],
      "metadata": {
        "id": "765dWanruLv7"
      }
    },
    {
      "cell_type": "code",
      "source": [
        "def moveZeroes(nums):\n",
        "    \n",
        "    i = 0\n",
        "    for j in range(len(nums)):\n",
        "        if nums[j] != 0:\n",
        "            nums[i], nums[j] = nums[j], nums[i]\n",
        "            i += 1"
      ],
      "metadata": {
        "id": "-_J_nI48uMaS"
      },
      "execution_count": 80,
      "outputs": []
    },
    {
      "cell_type": "code",
      "source": [
        "nums = [1,0,3,21,4,6,4,0,4]\n",
        "moveZeroes(nums)"
      ],
      "metadata": {
        "id": "34CKWOXez0ah"
      },
      "execution_count": 81,
      "outputs": []
    },
    {
      "cell_type": "code",
      "source": [
        "print(nums)"
      ],
      "metadata": {
        "colab": {
          "base_uri": "https://localhost:8080/"
        },
        "id": "q8z-CPpy0O_J",
        "outputId": "5b0df1c0-d1fc-4490-9b19-f0babb4f4152"
      },
      "execution_count": 82,
      "outputs": [
        {
          "output_type": "stream",
          "name": "stdout",
          "text": [
            "[1, 3, 21, 4, 6, 4, 4, 0, 0]\n"
          ]
        }
      ]
    },
    {
      "cell_type": "markdown",
      "source": [
        "<aside>\n",
        "💡 **Q8.** You have a set of integers s, which originally contains all the numbers from 1 to n. Unfortunately, due to some error, one of the numbers in s got duplicated to another number in the set, which results in repetition of one number and loss of another number.\n",
        "\n",
        "You are given an integer array nums representing the data status of this set after the error.\n",
        "\n",
        "Find the number that occurs twice and the number that is missing and return them in the form of an array.\n",
        "\n",
        "**Example 1:**\n",
        "Input: nums = [1,2,2,4]\n",
        "Output: [2,3]\n",
        "\n",
        "</aside>"
      ],
      "metadata": {
        "id": "kxUwPGPt0Tgl"
      }
    },
    {
      "cell_type": "code",
      "source": [
        "def findErrorNums(nums):\n",
        "    n = len(nums)\n",
        "    nums_set = set(nums)\n",
        "    duplicate = sum(nums) - sum(nums_set)\n",
        "    missing = n * (n + 1) // 2 - sum(nums_set)\n",
        "    return [duplicate, missing]"
      ],
      "metadata": {
        "id": "DdTGe1nx0VyG"
      },
      "execution_count": 84,
      "outputs": []
    },
    {
      "cell_type": "code",
      "source": [
        "nums = [1,2,3,4,5,5,7]\n",
        "findErrorNums(nums)"
      ],
      "metadata": {
        "colab": {
          "base_uri": "https://localhost:8080/"
        },
        "id": "UAK9HND_00Pg",
        "outputId": "06d4ebae-015d-4f1f-c01b-160bd6364685"
      },
      "execution_count": 87,
      "outputs": [
        {
          "output_type": "execute_result",
          "data": {
            "text/plain": [
              "[5, 6]"
            ]
          },
          "metadata": {},
          "execution_count": 87
        }
      ]
    }
  ]
}