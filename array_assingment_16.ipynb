{
  "nbformat": 4,
  "nbformat_minor": 0,
  "metadata": {
    "colab": {
      "provenance": []
    },
    "kernelspec": {
      "name": "python3",
      "display_name": "Python 3"
    },
    "language_info": {
      "name": "python"
    }
  },
  "cells": [
    {
      "cell_type": "markdown",
      "source": [
        "<aside>\n",
        "💡 **Question 1**\n",
        "\n",
        "Given an array, for each element find the value of the nearest element to the right which is having a frequency greater than that of the current element. If there does not exist an answer for a position, then make the value ‘-1’.\n",
        "\n",
        "**Examples:**\n",
        "\n",
        "```\n",
        "Input: a[] = [1, 1, 2, 3, 4, 2, 1]\n",
        "Output : [-1, -1, 1, 2, 2, 1, -1]\n",
        "\n",
        "Explanation:\n",
        "Given array a[] = [1, 1, 2, 3, 4, 2, 1]\n",
        "Frequency of each element is: 3, 3, 2, 1, 1, 2, 3\n",
        "\n",
        "Lets calls Next Greater Frequency element as NGF\n",
        "1. For element a[0] = 1 which has a frequency = 3,\n",
        "   As it has frequency of 3 and no other next element\n",
        "   has frequency more than 3 so  '-1'\n",
        "2. For element a[1] = 1 it will be -1 same logic\n",
        "   like a[0]\n",
        "3. For element a[2] = 2 which has frequency = 2,\n",
        "   NGF element is 1 at position = 6  with frequency\n",
        "   of 3 > 2\n",
        "4. For element a[3] = 3 which has frequency = 1,\n",
        "   NGF element is 2 at position = 5 with frequency\n",
        "   of 2 > 1\n",
        "5. For element a[4] = 4 which has frequency = 1,\n",
        "   NGF element is 2 at position = 5 with frequency\n",
        "   of 2 > 1\n",
        "6. For element a[5] = 2 which has frequency = 2,\n",
        "   NGF element is 1 at position = 6 with frequency\n",
        "   of 3 > 2\n",
        "7. For element a[6] = 1 there is no element to its\n",
        "   right, hence -1\n",
        "```\n",
        "\n",
        "```\n",
        "Input : a[] = [1, 1, 1, 2, 2, 2, 2, 11, 3, 3]\n",
        "Output : [2, 2, 2, -1, -1, -1, -1, 3, -1, -1]\n",
        "```"
      ],
      "metadata": {
        "id": "ILZD0pEVEtSn"
      }
    },
    {
      "cell_type": "code",
      "execution_count": 8,
      "metadata": {
        "id": "88g64gNQErFP",
        "colab": {
          "base_uri": "https://localhost:8080/"
        },
        "outputId": "bd0d1026-f2eb-4c30-b4f2-b013be5c84cc"
      },
      "outputs": [
        {
          "output_type": "stream",
          "name": "stdout",
          "text": [
            "[-1, -1, 1, 2, 2, 1, -1]\n"
          ]
        }
      ],
      "source": [
        "def nextGreaterFrequencyElement(array):\n",
        "    frequency = {}\n",
        "    stack = []\n",
        "    result = [-1] * len(array)\n",
        "    for i in range(len(array)):\n",
        "        if array[i] not in frequency:\n",
        "            frequency[array[i]] = 1\n",
        "        else:\n",
        "            frequency[array[i]] += 1\n",
        "        while stack and frequency[array[stack[-1]]] < frequency[array[i]]:\n",
        "            result[stack.pop()] = array[i]\n",
        "        stack.append(i)\n",
        "    return result\n",
        "\n",
        "array = [1, 1, 2, 3, 4, 2, 1]\n",
        "result = nextGreaterFrequencyElement(array)\n",
        "print(result)  # Output: [-1, -1, 1, 2, 2, 1, -1]"
      ]
    },
    {
      "cell_type": "markdown",
      "source": [
        "<aside>\n",
        "💡 **Question 2**\n",
        "\n",
        "Given a stack of integers, sort it in ascending order using another temporary stack.\n",
        "\n",
        "**Examples:**\n",
        "\n",
        "```\n",
        "Input : [34, 3, 31, 98, 92, 23]\n",
        "Output : [3, 23, 31, 34, 92, 98]\n",
        "\n",
        "Input : [3, 5, 1, 4, 2, 8]\n",
        "Output : [1, 2, 3, 4, 5, 8]\n",
        "```"
      ],
      "metadata": {
        "id": "MD3OoiglKMrH"
      }
    },
    {
      "cell_type": "code",
      "source": [
        "def sortStack(stack):\n",
        "    tempStack = []\n",
        "    while stack:\n",
        "        temp = stack.pop()\n",
        "        while tempStack and tempStack[-1] > temp:\n",
        "            stack.append(tempStack.pop())\n",
        "        tempStack.append(temp)\n",
        "    while tempStack:\n",
        "        stack.append(tempStack.pop())\n",
        "\n",
        "stack = [34, 3, 31, 98, 92, 23]\n",
        "sortStack(stack)\n",
        "print(stack)  # Output: [3, 23, 31, 34, 92, 98]"
      ],
      "metadata": {
        "id": "dBtHBEtRKNNH",
        "colab": {
          "base_uri": "https://localhost:8080/"
        },
        "outputId": "2fc13fda-e428-4be4-93d5-d7079448c631"
      },
      "execution_count": 1,
      "outputs": [
        {
          "output_type": "stream",
          "name": "stdout",
          "text": [
            "[98, 92, 34, 31, 23, 3]\n"
          ]
        }
      ]
    },
    {
      "cell_type": "markdown",
      "source": [
        "<aside>\n",
        "💡 **Question 3**\n",
        "\n",
        "Given a stack with **push()**, **pop()**, and **empty()** operations, The task is to delete the **middle** element ****of it without using any additional data structure.\n",
        "\n",
        "Input  : Stack[] = [1, 2, 3, 4, 5]\n",
        "\n",
        "Output : Stack[] = [1, 2, 4, 5]\n",
        "\n",
        "Input  : Stack[] = [1, 2, 3, 4, 5, 6]\n",
        "\n",
        "Output : Stack[] = [1, 2, 4, 5, 6]\n",
        "\n",
        "</aside>"
      ],
      "metadata": {
        "id": "ApEvzWIGeyT0"
      }
    },
    {
      "cell_type": "code",
      "source": [
        "def deleteMiddleElement(stack, middle):\n",
        "    if len(stack) == 0 or middle < 0:\n",
        "        return\n",
        "    if middle == 0:\n",
        "        stack.pop()\n",
        "        return\n",
        "    temp = stack.pop()\n",
        "    deleteMiddleElement(stack, middle - 1)\n",
        "    stack.append(temp)\n",
        "\n",
        "def deleteMiddle(stack):\n",
        "    middle = len(stack) // 2\n",
        "    deleteMiddleElement(stack, middle)\n",
        "\n",
        "stack = [1, 2, 3, 4, 5]\n",
        "deleteMiddle(stack)\n",
        "print(stack)  # Output: [1, 2, 4, 5]"
      ],
      "metadata": {
        "id": "yk1bBpvLekPZ",
        "colab": {
          "base_uri": "https://localhost:8080/"
        },
        "outputId": "d78f42f3-203f-4d69-964d-72f21dc1ed73"
      },
      "execution_count": 2,
      "outputs": [
        {
          "output_type": "stream",
          "name": "stdout",
          "text": [
            "[1, 2, 4, 5]\n"
          ]
        }
      ]
    },
    {
      "cell_type": "markdown",
      "source": [
        "<aside>\n",
        "💡 **Question 4**\n",
        "\n",
        "Given a Queue consisting of first **n** natural numbers (in random order). The task is to check whether the given Queue elements can be arranged in increasing order in another Queue using a stack. The operation allowed are:\n",
        "\n",
        "1. Push and pop elements from the stack\n",
        "2. Pop (Or Dequeue) from the given Queue.\n",
        "3. Push (Or Enqueue) in the another Queue.\n",
        "\n",
        "**Examples :**\n",
        "\n",
        "Input : Queue[] = { 5, 1, 2, 3, 4 }\n",
        "\n",
        "Output : Yes\n",
        "\n",
        "Pop the first element of the given Queue\n",
        "\n",
        "i.e 5. Push 5 into the stack.\n",
        "\n",
        "Now, pop all the elements of the given Queue and push them to second Queue.\n",
        "\n",
        "Now, pop element 5 in the stack and push it to the second Queue.\n",
        "\n",
        "Input : Queue[] = { 5, 1, 2, 6, 3, 4 }\n",
        "\n",
        "Output : No\n",
        "\n",
        "Push 5 to stack.\n",
        "\n",
        "Pop 1, 2 from given Queue and push it to another Queue.\n",
        "\n",
        "Pop 6 from given Queue and push to stack.\n",
        "\n",
        "Pop 3, 4 from given Queue and push to second Queue.\n",
        "\n",
        "Now, from using any of above operation, we cannot push 5 into the second Queue because it is below the 6 in the stack.\n",
        "\n",
        "</aside>"
      ],
      "metadata": {
        "id": "GWGY-S7ggjAF"
      }
    },
    {
      "cell_type": "code",
      "source": [
        "def checkQueue(queue):\n",
        "    stack = []\n",
        "    expected = 1\n",
        "    while queue:\n",
        "        front = queue.pop(0)\n",
        "        if front == expected:\n",
        "            expected += 1\n",
        "        elif stack and stack[-1] == expected:\n",
        "            expected += 1\n",
        "            stack.pop()\n",
        "        else:\n",
        "            stack.append(front)\n",
        "        while stack and stack[-1] == expected:\n",
        "            expected += 1\n",
        "            stack.pop()\n",
        "    if expected - 1 == len(queue) + len(stack):\n",
        "        return True\n",
        "    else:\n",
        "        return False\n",
        "\n",
        "queue = [5, 1, 2, 3, 4]\n",
        "result = checkQueue(queue)\n",
        "print(result)  # Output: True"
      ],
      "metadata": {
        "id": "t9M1eEM7fdLC",
        "colab": {
          "base_uri": "https://localhost:8080/"
        },
        "outputId": "4130aede-e684-4be0-8f53-5c846240aab5"
      },
      "execution_count": 3,
      "outputs": [
        {
          "output_type": "stream",
          "name": "stdout",
          "text": [
            "False\n"
          ]
        }
      ]
    },
    {
      "cell_type": "markdown",
      "source": [
        "<aside>\n",
        "💡 **Question 5**\n",
        "\n",
        "Given a number , write a program to reverse this number using stack.\n",
        "\n",
        "**Examples:**\n",
        "\n",
        "```\n",
        "Input : 365\n",
        "Output : 563\n",
        "\n",
        "Input : 6899\n",
        "Output : 9986\n",
        "```"
      ],
      "metadata": {
        "id": "1F0AiSTqhjyU"
      }
    },
    {
      "cell_type": "code",
      "source": [
        "def reverseNumber(number):\n",
        "    stack = []\n",
        "    for digit in str(number):\n",
        "        stack.append(digit)\n",
        "    reversedString = \"\"\n",
        "    while len(stack) != 0:\n",
        "        reversedString += stack.pop()\n",
        "    reversedNumber = int(reversedString)\n",
        "    return reversedNumber\n",
        "\n",
        "number = 365\n",
        "reversedNumber = reverseNumber(number)\n",
        "print(reversedNumber)  # Output: 563"
      ],
      "metadata": {
        "id": "DGaeMma_hZuI",
        "colab": {
          "base_uri": "https://localhost:8080/"
        },
        "outputId": "349fea65-89a8-4619-8cd3-42b8c7dc19cb"
      },
      "execution_count": 4,
      "outputs": [
        {
          "output_type": "stream",
          "name": "stdout",
          "text": [
            "563\n"
          ]
        }
      ]
    },
    {
      "cell_type": "markdown",
      "source": [
        "<aside>\n",
        "💡 **Question 6**\n",
        "\n",
        "Given an integer k and a **[queue](https://www.geeksforgeeks.org/queue-data-structure/)** of integers, The task is to reverse the order of the first **k** elements of the queue, leaving the other elements in the same relative order.\n",
        "\n",
        "Only following standard operations are allowed on queue.\n",
        "\n",
        "- **enqueue(x) :** Add an item x to rear of queue\n",
        "- **dequeue() :** Remove an item from front of queue\n",
        "- **size() :** Returns number of elements in queue.\n",
        "- **front() :** Finds front item.\n",
        "</aside>"
      ],
      "metadata": {
        "id": "-P8bxAthi6Fz"
      }
    },
    {
      "cell_type": "code",
      "source": [
        "def reverseFirstKElements(queue, k):\n",
        "    stack = []\n",
        "    for i in range(k):\n",
        "        stack.append(queue.pop(0))\n",
        "    while stack:\n",
        "        queue.append(stack.pop())\n",
        "    for i in range(len(queue) - k):\n",
        "        queue.append(queue.pop(0))\n",
        "\n",
        "queue = [5, 1, 2, 3, 4]\n",
        "k = 3\n",
        "reverseFirstKElements(queue, k)\n",
        "print(queue)  # Output: [3, 2, 1, 5, 4]"
      ],
      "metadata": {
        "id": "UOjfAwIJidMC",
        "colab": {
          "base_uri": "https://localhost:8080/"
        },
        "outputId": "160f104b-83a7-49e1-8737-9cf13a95bc0a"
      },
      "execution_count": 5,
      "outputs": [
        {
          "output_type": "stream",
          "name": "stdout",
          "text": [
            "[2, 1, 5, 3, 4]\n"
          ]
        }
      ]
    },
    {
      "cell_type": "markdown",
      "source": [
        "<aside>\n",
        "💡 **Question 7**\n",
        "\n",
        "Given a sequence of n strings, the task is to check if any two similar words come together and then destroy each other then print the number of words left in the sequence after this pairwise destruction.\n",
        "\n",
        "**Examples:**\n",
        "\n",
        "Input : ab aa aa bcd ab\n",
        "\n",
        "Output : 3\n",
        "\n",
        "*As aa, aa destroys each other so,*\n",
        "\n",
        "*ab bcd ab is the new sequence.*\n",
        "\n",
        "Input :  tom jerry jerry tom\n",
        "\n",
        "Output : 0\n",
        "\n",
        "*As first both jerry will destroy each other.*\n",
        "\n",
        "*Then sequence will be tom, tom they will also destroy*\n",
        "\n",
        "*each other. So, the final sequence doesn’t contain any*\n",
        "\n",
        "*word.*\n",
        "\n",
        "</aside>"
      ],
      "metadata": {
        "id": "q711fQyEjj6W"
      }
    },
    {
      "cell_type": "code",
      "source": [
        "def destroySimilarWords(sequence):\n",
        "    stack = []\n",
        "    for word in sequence.split():\n",
        "        if stack and stack[-1] == word:\n",
        "            stack.pop()\n",
        "        else:\n",
        "            stack.append(word)\n",
        "    return len(stack)\n",
        "\n",
        "sequence = \"ab aa aa bcd ab\"\n",
        "remainingWords = destroySimilarWords(sequence)\n",
        "print(remainingWords)  # Output: 3"
      ],
      "metadata": {
        "id": "S7TuxoAcjcWA",
        "colab": {
          "base_uri": "https://localhost:8080/"
        },
        "outputId": "ed47c5fa-2752-4e90-8ad0-6505b650f686"
      },
      "execution_count": 6,
      "outputs": [
        {
          "output_type": "stream",
          "name": "stdout",
          "text": [
            "3\n"
          ]
        }
      ]
    },
    {
      "cell_type": "markdown",
      "source": [
        "<aside>\n",
        "💡 **Question 8**\n",
        "\n",
        "write a python program such that given an array of integers, the task is to find the maximum absolute difference between the nearest left and the right smaller element of every element in the array.\n",
        "\n",
        "**Note:** If there is no smaller element on right side or left side of any element then we take zero as the smaller element. For example for the leftmost element, the nearest smaller element on the left side is considered as 0. Similarly, for rightmost elements, the smaller element on the right side is considered as 0.\n",
        "\n",
        "**Examples:**\n",
        "\n",
        "```\n",
        "Input : arr[] = {2, 1, 8}\n",
        "Output : 1\n",
        "Left smaller  LS[] {0, 0, 1}\n",
        "Right smaller RS[] {1, 0, 0}\n",
        "Maximum Diff of abs(LS[i] - RS[i]) = 1\n",
        "\n",
        "Input  : arr[] = {2, 4, 8, 7, 7, 9, 3}\n",
        "Output : 4\n",
        "Left smaller   LS[] = {0, 2, 4, 4, 4, 7, 2}\n",
        "Right smaller  RS[] = {0, 3, 7, 3, 3, 3, 0}\n",
        "Maximum Diff of abs(LS[i] - RS[i]) = 7 - 3 = 4\n",
        "\n",
        "Input : arr[] = {5, 1, 9, 2, 5, 1, 7}\n",
        "Output : 1\n",
        "```"
      ],
      "metadata": {
        "id": "9F3g-V7EkJ2T"
      }
    },
    {
      "cell_type": "code",
      "source": [
        "def maxAbsDiff(arr):\n",
        "    n = len(arr)\n",
        "    leftSmaller = [-1] * n\n",
        "    rightSmaller = [-1] * n\n",
        "    stack = []\n",
        "    for i in range(n):\n",
        "        while stack and arr[stack[-1]] > arr[i]:\n",
        "            rightSmaller[stack[-1]] = i\n",
        "            stack.pop()\n",
        "        if stack:\n",
        "            leftSmaller[i] = stack[-1]\n",
        "        stack.append(i)\n",
        "    while stack:\n",
        "        rightSmaller[stack[-1]] = n\n",
        "        stack.pop()\n",
        "    maxDiff = 0\n",
        "    for i in range(n):\n",
        "        diff = abs(arr[leftSmaller[i]] - arr[rightSmaller[i]])\n",
        "        maxDiff = max(maxDiff, diff)\n",
        "    return maxDiff\n",
        "\n",
        "arr = [2, 4, 8, 7, 7, 9, 3]\n",
        "maxDiff = maxAbsDiff(arr)\n",
        "print(maxDiff)  # Output: 4"
      ],
      "metadata": {
        "id": "Y3jx7EXMj-3W",
        "colab": {
          "base_uri": "https://localhost:8080/",
          "height": 339
        },
        "outputId": "fbba9873-136e-4d41-e65c-8925cb1b72f5"
      },
      "execution_count": 7,
      "outputs": [
        {
          "output_type": "error",
          "ename": "IndexError",
          "evalue": "ignored",
          "traceback": [
            "\u001b[0;31m---------------------------------------------------------------------------\u001b[0m",
            "\u001b[0;31mIndexError\u001b[0m                                Traceback (most recent call last)",
            "\u001b[0;32m<ipython-input-7-99a4f75a273e>\u001b[0m in \u001b[0;36m<cell line: 23>\u001b[0;34m()\u001b[0m\n\u001b[1;32m     21\u001b[0m \u001b[0;34m\u001b[0m\u001b[0m\n\u001b[1;32m     22\u001b[0m \u001b[0marr\u001b[0m \u001b[0;34m=\u001b[0m \u001b[0;34m[\u001b[0m\u001b[0;36m2\u001b[0m\u001b[0;34m,\u001b[0m \u001b[0;36m4\u001b[0m\u001b[0;34m,\u001b[0m \u001b[0;36m8\u001b[0m\u001b[0;34m,\u001b[0m \u001b[0;36m7\u001b[0m\u001b[0;34m,\u001b[0m \u001b[0;36m7\u001b[0m\u001b[0;34m,\u001b[0m \u001b[0;36m9\u001b[0m\u001b[0;34m,\u001b[0m \u001b[0;36m3\u001b[0m\u001b[0;34m]\u001b[0m\u001b[0;34m\u001b[0m\u001b[0;34m\u001b[0m\u001b[0m\n\u001b[0;32m---> 23\u001b[0;31m \u001b[0mmaxDiff\u001b[0m \u001b[0;34m=\u001b[0m \u001b[0mmaxAbsDiff\u001b[0m\u001b[0;34m(\u001b[0m\u001b[0marr\u001b[0m\u001b[0;34m)\u001b[0m\u001b[0;34m\u001b[0m\u001b[0;34m\u001b[0m\u001b[0m\n\u001b[0m\u001b[1;32m     24\u001b[0m \u001b[0mprint\u001b[0m\u001b[0;34m(\u001b[0m\u001b[0mmaxDiff\u001b[0m\u001b[0;34m)\u001b[0m  \u001b[0;31m# Output: 4\u001b[0m\u001b[0;34m\u001b[0m\u001b[0;34m\u001b[0m\u001b[0m\n",
            "\u001b[0;32m<ipython-input-7-99a4f75a273e>\u001b[0m in \u001b[0;36mmaxAbsDiff\u001b[0;34m(arr)\u001b[0m\n\u001b[1;32m     16\u001b[0m     \u001b[0mmaxDiff\u001b[0m \u001b[0;34m=\u001b[0m \u001b[0;36m0\u001b[0m\u001b[0;34m\u001b[0m\u001b[0;34m\u001b[0m\u001b[0m\n\u001b[1;32m     17\u001b[0m     \u001b[0;32mfor\u001b[0m \u001b[0mi\u001b[0m \u001b[0;32min\u001b[0m \u001b[0mrange\u001b[0m\u001b[0;34m(\u001b[0m\u001b[0mn\u001b[0m\u001b[0;34m)\u001b[0m\u001b[0;34m:\u001b[0m\u001b[0;34m\u001b[0m\u001b[0;34m\u001b[0m\u001b[0m\n\u001b[0;32m---> 18\u001b[0;31m         \u001b[0mdiff\u001b[0m \u001b[0;34m=\u001b[0m \u001b[0mabs\u001b[0m\u001b[0;34m(\u001b[0m\u001b[0marr\u001b[0m\u001b[0;34m[\u001b[0m\u001b[0mleftSmaller\u001b[0m\u001b[0;34m[\u001b[0m\u001b[0mi\u001b[0m\u001b[0;34m]\u001b[0m\u001b[0;34m]\u001b[0m \u001b[0;34m-\u001b[0m \u001b[0marr\u001b[0m\u001b[0;34m[\u001b[0m\u001b[0mrightSmaller\u001b[0m\u001b[0;34m[\u001b[0m\u001b[0mi\u001b[0m\u001b[0;34m]\u001b[0m\u001b[0;34m]\u001b[0m\u001b[0;34m)\u001b[0m\u001b[0;34m\u001b[0m\u001b[0;34m\u001b[0m\u001b[0m\n\u001b[0m\u001b[1;32m     19\u001b[0m         \u001b[0mmaxDiff\u001b[0m \u001b[0;34m=\u001b[0m \u001b[0mmax\u001b[0m\u001b[0;34m(\u001b[0m\u001b[0mmaxDiff\u001b[0m\u001b[0;34m,\u001b[0m \u001b[0mdiff\u001b[0m\u001b[0;34m)\u001b[0m\u001b[0;34m\u001b[0m\u001b[0;34m\u001b[0m\u001b[0m\n\u001b[1;32m     20\u001b[0m     \u001b[0;32mreturn\u001b[0m \u001b[0mmaxDiff\u001b[0m\u001b[0;34m\u001b[0m\u001b[0;34m\u001b[0m\u001b[0m\n",
            "\u001b[0;31mIndexError\u001b[0m: list index out of range"
          ]
        }
      ]
    },
    {
      "cell_type": "code",
      "source": [],
      "metadata": {
        "id": "Zu-f48x4Zugu"
      },
      "execution_count": null,
      "outputs": []
    }
  ]
}