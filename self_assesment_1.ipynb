{
  "nbformat": 4,
  "nbformat_minor": 0,
  "metadata": {
    "colab": {
      "provenance": []
    },
    "kernelspec": {
      "name": "python3",
      "display_name": "Python 3"
    },
    "language_info": {
      "name": "python"
    }
  },
  "cells": [
    {
      "cell_type": "markdown",
      "source": [
        "Given an integer array nums, move all 0's to the end of it while maintaining the relative order of the non-zero elements.\n",
        "\n",
        "Note that you must do this in-place without making a copy of the array.\n",
        "\n",
        "Example 1:\n",
        "Input: nums = [0,1,0,3,12]\n",
        "Output: [1,3,12,0,0]\n",
        "\n",
        "Example 2:\n",
        "Input: nums = [0]\n",
        "Output: [0]"
      ],
      "metadata": {
        "id": "ILZD0pEVEtSn"
      }
    },
    {
      "cell_type": "code",
      "execution_count": 3,
      "metadata": {
        "id": "88g64gNQErFP"
      },
      "outputs": [],
      "source": [
        "def move_zeros(nums):\n",
        "  nums=list(nums)\n",
        "  for ele in nums:\n",
        "    if ele == 0:\n",
        "      nums.remove(ele)\n",
        "      nums.append(ele)\n",
        "    \n",
        "  return nums\n"
      ]
    },
    {
      "cell_type": "code",
      "source": [
        "nums = [0,1,0,3,12] \n",
        "result = move_zeros(nums)\n",
        "print(result)"
      ],
      "metadata": {
        "colab": {
          "base_uri": "https://localhost:8080/"
        },
        "id": "jQSOBFoXE7vg",
        "outputId": "04b4916d-4e52-47d2-9e18-de303141fbb2"
      },
      "execution_count": 4,
      "outputs": [
        {
          "output_type": "stream",
          "name": "stdout",
          "text": [
            "[1, 3, 12, 0, 0]\n"
          ]
        }
      ]
    },
    {
      "cell_type": "markdown",
      "source": [
        "First Unique Character in a String\n",
        "\n",
        "Given a string s, find the first non-repeating character in it and return its index. If it does not exist, return -1.\n",
        "\n",
        "Example 1:\n",
        "Input: s = \"leetcode\"\n",
        "Output: 0\n",
        "\n",
        "Example 2:\n",
        "Input: s = \"loveleetcode\"\n",
        "Output: 2\n",
        "\n",
        "Example 3:\n",
        "Input: s = \"aabb\"\n",
        "Output: -1\n",
        "\n",
        "Constraints:\n",
        "a. 1 <= s.length <= 10^5\n",
        "b. s consists of only lowercase English letters."
      ],
      "metadata": {
        "id": "MD3OoiglKMrH"
      }
    },
    {
      "cell_type": "code",
      "source": [
        "def First_Unique_Character(strg):\n",
        "  for ch in strg:\n",
        "    cnt = strg.count(ch)\n",
        "    if cnt > 1:\n",
        "      continue\n",
        "    else:\n",
        "      return strg.index(ch)"
      ],
      "metadata": {
        "id": "dBtHBEtRKNNH"
      },
      "execution_count": 7,
      "outputs": []
    },
    {
      "cell_type": "code",
      "source": [
        "strg = 'loveleetcode'\n",
        "result = First_Unique_Character(strg)\n",
        "print(result)"
      ],
      "metadata": {
        "colab": {
          "base_uri": "https://localhost:8080/"
        },
        "id": "jS39mkvWKXB_",
        "outputId": "e1170589-2730-42e6-f4a2-51f0189ad38c"
      },
      "execution_count": 8,
      "outputs": [
        {
          "output_type": "stream",
          "name": "stdout",
          "text": [
            "2\n"
          ]
        }
      ]
    }
  ]
}