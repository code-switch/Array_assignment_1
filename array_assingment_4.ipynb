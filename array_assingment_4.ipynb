{
  "nbformat": 4,
  "nbformat_minor": 0,
  "metadata": {
    "colab": {
      "provenance": []
    },
    "kernelspec": {
      "name": "python3",
      "display_name": "Python 3"
    },
    "language_info": {
      "name": "python"
    }
  },
  "cells": [
    {
      "cell_type": "markdown",
      "source": [
        "Question 1\n",
        "\n",
        "Given three integer arrays arr1, arr2 and arr3 **sorted** in **strictly increasing** order, return a sorted array of **only** the integers that appeared in **all** three arrays.\n",
        "\n",
        "**Example 1:**\n",
        "\n",
        "Input: arr1 = [1,2,3,4,5], arr2 = [1,2,5,7,9], arr3 = [1,3,4,5,8]\n",
        "\n",
        "Output: [1,5]\n",
        "\n",
        "**Explanation:** Only 1 and 5 appeared in the three arrays.\n"
      ],
      "metadata": {
        "id": "xGsVb_UDrpGj"
      }
    },
    {
      "cell_type": "code",
      "source": [
        "def array_intersection(arr1, arr2,arr3): \n",
        "  arr1.sort()\n",
        "  arr2.sort()\n",
        "  arr3.sort()\n",
        "  final =[]\n",
        "  for ele in arr1:\n",
        "    if (ele in arr2) and (ele in arr3):\n",
        "      final.append(ele)\n",
        "    else:\n",
        "      continue  \n",
        "  \n",
        "  return final          \n",
        "  "
      ],
      "metadata": {
        "id": "5iI3dahTaIWU"
      },
      "execution_count": 1,
      "outputs": []
    },
    {
      "cell_type": "code",
      "execution_count": 2,
      "metadata": {
        "colab": {
          "base_uri": "https://localhost:8080/"
        },
        "id": "UyEWRSzTiIu0",
        "outputId": "91d91130-0ac8-4769-f7e0-49e4b4951635"
      },
      "outputs": [
        {
          "output_type": "stream",
          "name": "stdout",
          "text": [
            "[3, 6]\n"
          ]
        }
      ],
      "source": [
        "#creating a array of random numbers of length 10\n",
        "import numpy as np\n",
        "arr1 = [1,2,3,4,5,6]\n",
        "arr2 = [3,6,9,10,14,19]\n",
        "arr3 = [1,3,4,6,7,12]\n",
        "result = array_intersection(arr1, arr2, arr3)\n",
        "print(result)"
      ]
    },
    {
      "cell_type": "markdown",
      "source": [
        "<aside>\n",
        "💡 **Question 2**\n",
        "\n",
        "Given two **0-indexed** integer arrays nums1 and nums2, return *a list* answer *of size* 2 *where:*\n",
        "\n",
        "- answer[0] *is a list of all **distinct** integers in* nums1 *which are **not** present in* nums2*.*\n",
        "- answer[1] *is a list of all **distinct** integers in* nums2 *which are **not** present in* nums1.\n",
        "\n",
        "**Note** that the integers in the lists may be returned in **any** order.\n",
        "\n",
        "**Example 1:**\n",
        "\n",
        "**Input:** nums1 = [1,2,3], nums2 = [2,4,6]\n",
        "\n",
        "**Output:** [[1,3],[4,6]]\n",
        "\n",
        "**Explanation:**\n",
        "\n",
        "For nums1, nums1[1] = 2 is present at index 0 of nums2, whereas nums1[0] = 1 and nums1[2] = 3 are not present in nums2. Therefore, answer[0] = [1,3].\n",
        "\n",
        "For nums2, nums2[0] = 2 is present at index 1 of nums1, whereas nums2[1] = 4 and nums2[2] = 6 are not present in nums2. Therefore, answer[1] = [4,6].\n",
        "\n",
        "</aside>"
      ],
      "metadata": {
        "id": "imk0izrrefwD"
      }
    },
    {
      "cell_type": "code",
      "source": [
        "def array_unique(arr1,arr2):\n",
        "  arr1.sort()\n",
        "  arr2.sort()\n",
        "  main_lst =[]\n",
        "  arr1_lst =[]\n",
        "  arr2_lst =[]\n",
        "  for ele in arr1:\n",
        "    if ele not in arr2:\n",
        "      arr1_lst.append(ele)\n",
        "    else:\n",
        "      continue\n",
        "  main_lst.append(arr1_lst)\n",
        "  for ele in arr2:\n",
        "    if ele not in arr1:\n",
        "      arr2_lst.append(ele)\n",
        "    else:\n",
        "      continue\n",
        "  main_lst.append(arr2_lst)\n",
        "  return main_lst"
      ],
      "metadata": {
        "id": "A6iooGpBhTrY"
      },
      "execution_count": 3,
      "outputs": []
    },
    {
      "cell_type": "code",
      "source": [
        "#creating a array of random numbers of length 10\n",
        "import numpy as np\n",
        "arr1 = [1,2,3,4,5,6]\n",
        "arr2 = [1,3,4,7,10,13]\n",
        "result = array_unique(arr1,arr2)\n",
        "print(result)"
      ],
      "metadata": {
        "colab": {
          "base_uri": "https://localhost:8080/"
        },
        "id": "nUzWh78acFsS",
        "outputId": "1b8ab3ee-6d3c-4763-8a79-2405a5cfbacc"
      },
      "execution_count": 4,
      "outputs": [
        {
          "output_type": "stream",
          "name": "stdout",
          "text": [
            "[[2, 5, 6], [7, 10, 13]]\n"
          ]
        }
      ]
    },
    {
      "cell_type": "markdown",
      "source": [
        "\n",
        "💡 **Question 3**\n",
        "\n",
        "Given a 2D integer array matrix, return *the **transpose** of* matrix.\n",
        "\n",
        "The **transpose** of a matrix is the matrix flipped over its main diagonal, switching the matrix's row and column indices.\n",
        "\n",
        "**Example 1:**\n",
        "\n",
        "Input: matrix = [[1,2,3],[4,5,6],[7,8,9]]\n",
        "\n",
        "Output: [[1,4,7],[2,5,8],[3,6,9]]\n",
        "\n"
      ],
      "metadata": {
        "id": "s17SvhecwJxA"
      }
    },
    {
      "cell_type": "code",
      "source": [
        "def transpose(matrix):\n",
        "    row =len(matrix)\n",
        "    col = len(matrix[0])\n",
        "    \n",
        "    row_lst=[]\n",
        "    for i in range(col):\n",
        "      col_lst=[]\n",
        "      for j in range(row):\n",
        "        col_lst.append(matrix[j][i])\n",
        "      row_lst.append(col_lst)\n",
        "    \n",
        "    return row_lst"
      ],
      "metadata": {
        "id": "VzTRDaD0F6H4"
      },
      "execution_count": 5,
      "outputs": []
    },
    {
      "cell_type": "code",
      "source": [
        "#creating a array of random numbers of length 10\n",
        "import numpy as np\n",
        "matrix = [[1,2,3],[4,5,6],[7,8,9]]\n",
        "result = transpose(matrix)\n",
        "print(result)"
      ],
      "metadata": {
        "colab": {
          "base_uri": "https://localhost:8080/"
        },
        "id": "vo166EZJQrf5",
        "outputId": "a342516f-2daf-4963-9f13-28ddac6204bd"
      },
      "execution_count": 6,
      "outputs": [
        {
          "output_type": "stream",
          "name": "stdout",
          "text": [
            "[[1, 4, 7], [2, 5, 8], [3, 6, 9]]\n"
          ]
        }
      ]
    },
    {
      "cell_type": "markdown",
      "source": [
        "**Question 4**\n",
        "\n",
        "Given an integer array nums of 2n integers, group these integers into n pairs (a1, b1), (a2, b2), ..., (an, bn) such that the sum of min(ai, bi) for all i is **maximized**. Return *the maximized sum*.\n",
        "\n",
        "**Example 1:**\n",
        "\n",
        "Input: nums = [1,4,3,2]\n",
        "\n",
        "Output: 4\n",
        "\n",
        "**Explanation:** All possible pairings (ignoring the ordering of elements) are:\n",
        "\n",
        "1. (1, 4), (2, 3) -> min(1, 4) + min(2, 3) = 1 + 2 = 3\n",
        "\n",
        "2. (1, 3), (2, 4) -> min(1, 3) + min(2, 4) = 1 + 2 = 3\n",
        "\n",
        "3. (1, 2), (3, 4) -> min(1, 2) + min(3, 4) = 1 + 3 = 4\n",
        "\n",
        "So the maximum possible sum is 4.\n"
      ],
      "metadata": {
        "id": "X9OQhpRC5hnG"
      }
    },
    {
      "cell_type": "code",
      "source": [
        "def max_summation(nums): \n",
        "  nums = list(nums) \n",
        "  pair = []\n",
        "  max_sum = 0\n",
        "  idx_lst = []\n",
        "  for i,n in enumerate(nums):\n",
        "    if i not in idx_lst:  \n",
        "      diff={}\n",
        "      # print(np.where(nums==i))\n",
        "      for j,m in enumerate(nums[i+1:]):\n",
        "        diff[abs(n-m)] = j+i+1\n",
        "      #print(diff)\n",
        "      lowest_val = (min(diff.keys()), diff[min(diff.keys())])\n",
        "      idx = lowest_val[1]\n",
        "      \n",
        "\n",
        "      max_sum += min(n, nums[idx])\n",
        "      idx_lst.append(idx)\n",
        "\n",
        "  return max_sum\n",
        "  "
      ],
      "metadata": {
        "id": "AzmQif-NpbRr"
      },
      "execution_count": 7,
      "outputs": []
    },
    {
      "cell_type": "code",
      "source": [
        "#creating a array of random numbers of length 10\n",
        "import numpy as np\n",
        "\n",
        "nums = np.random.randint(-50,50,size=(10,))\n",
        "print(nums)\n",
        "result = max_summation(nums)\n",
        "print(result)"
      ],
      "metadata": {
        "colab": {
          "base_uri": "https://localhost:8080/"
        },
        "id": "Akgl3wCRg5PU",
        "outputId": "f2b7011c-d4fe-4d65-82f0-d500a1fc362d"
      },
      "execution_count": 8,
      "outputs": [
        {
          "output_type": "stream",
          "name": "stdout",
          "text": [
            "[-12  -1   1 -22   3  -3 -25 -35  20  -8]\n",
            "-82\n"
          ]
        }
      ]
    },
    {
      "cell_type": "markdown",
      "source": [
        "**Question 5**\n",
        "\n",
        "You have n coins and you want to build a staircase with these coins. The staircase consists of k rows where the ith row has exactly i coins. The last row of the staircase **may be** incomplete.\n",
        "\n",
        "Given the integer n, return *the number of **complete rows** of the staircase you will build*.\n",
        "\n"
      ],
      "metadata": {
        "id": "QELQT1VosvTr"
      }
    },
    {
      "cell_type": "code",
      "source": [
        "def staircase(n):\n",
        "  i=0\n",
        "  sum = 0\n",
        "  while sum <= n and (n-sum)>i:\n",
        "    i+=1\n",
        "    sum +=i\n",
        "    # n-=i\n",
        "\n",
        "  return i"
      ],
      "metadata": {
        "id": "mS3VFX9Asv6Q"
      },
      "execution_count": 9,
      "outputs": []
    },
    {
      "cell_type": "code",
      "source": [
        "coins = int(input(\"Enter the no. of coins:\"))\n",
        "result = staircase(coins)\n",
        "print(result)"
      ],
      "metadata": {
        "colab": {
          "base_uri": "https://localhost:8080/"
        },
        "id": "g6qolupI35sM",
        "outputId": "26299f80-e544-4e43-dac5-607c461128cc"
      },
      "execution_count": 10,
      "outputs": [
        {
          "output_type": "stream",
          "name": "stdout",
          "text": [
            "Enter the no. of coins:14\n",
            "4\n"
          ]
        }
      ]
    },
    {
      "cell_type": "markdown",
      "source": [
        "*Question 6**\n",
        "\n",
        "Given an integer array nums sorted in **non-decreasing** order, return *an array of **the squares of each number** sorted in non-decreasing order*.\n",
        "\n",
        "**Example 1:**\n",
        "\n",
        "Input: nums = [-4,-1,0,3,10]\n",
        "\n",
        "Output: [0,1,9,16,100]\n",
        "\n",
        "**Explanation:** After squaring, the array becomes [16,1,0,9,100].\n",
        "After sorting, it becomes [0,1,9,16,100]\n"
      ],
      "metadata": {
        "id": "VN6LVNw7vRaH"
      }
    },
    {
      "cell_type": "code",
      "source": [
        "def square_sort(nums):\n",
        "  nums.sort()\n",
        "  sqr_lst=[]\n",
        "  for ele in nums:\n",
        "    sqr_lst.append(ele*ele)\n",
        "  return sqr_lst"
      ],
      "metadata": {
        "id": "Q1JLoaUAvR9B"
      },
      "execution_count": 11,
      "outputs": []
    },
    {
      "cell_type": "code",
      "source": [
        "import numpy as np\n",
        "nums = [1,1,4,5,6,5,4,2,7,7]\n",
        "result = square_sort(nums)\n",
        "print(result)"
      ],
      "metadata": {
        "colab": {
          "base_uri": "https://localhost:8080/"
        },
        "id": "6kJYtpQsiEqq",
        "outputId": "0ebfa16d-2386-42eb-df34-324e4b4f0fd5"
      },
      "execution_count": 12,
      "outputs": [
        {
          "output_type": "stream",
          "name": "stdout",
          "text": [
            "[1, 1, 4, 16, 16, 25, 25, 36, 49, 49]\n"
          ]
        }
      ]
    },
    {
      "cell_type": "markdown",
      "source": [
        "**Question 7**\n",
        "\n",
        "You are given an m x n matrix M initialized with all 0's and an array of operations ops, where ops[i] = [ai, bi] means M[x][y] should be incremented by one for all 0 <= x < ai and 0 <= y < bi.\n",
        "\n",
        "Count and return *the number of maximum integers in the matrix after performing all the operations*\n",
        "\n",
        "**Example 1:**\n",
        "\n",
        "![q4.jpg](https://s3-us-west-2.amazonaws.com/secure.notion-static.com/4d0890d0-7bc7-4f59-be8e-352d9f3c1c52/q4.jpg)\n",
        "\n",
        "**Input:** m = 3, n = 3, ops = [[2,2],[3,3]]\n",
        "\n",
        "**Output:** 4\n",
        "\n",
        "**Explanation:** The maximum integer in M is 2, and there are four of it in M. So return 4.\n"
      ],
      "metadata": {
        "id": "4isZu8GFpGPL"
      }
    },
    {
      "cell_type": "code",
      "source": [
        "def maximum_integers(m, n, ops):\n",
        "  l=len(ops)\n",
        "  matrix = np.zeros([m,n])\n",
        "  for t,ele in enumerate(ops):\n",
        "    \n",
        "\n",
        "    if ele[0]>m or ele[1]>n:\n",
        "      return print(\" ops size should be less than or equal to matrix size\")\n",
        "    else:\n",
        "\n",
        "      for i in range(ele[0]):\n",
        "        \n",
        "        if i < ele[0]:\n",
        "\n",
        "          for j in range(ele[1]):  \n",
        "            if j < ele[1]:\n",
        "              matrix[i][j]+=1\n",
        "            \n",
        "        else:\n",
        "          for j in range(ele[1]): \n",
        "            if j < ele[1]: \n",
        "              matrix[i][j]+=1\n",
        "\n",
        "  return matrix"
      ],
      "metadata": {
        "id": "UyCoThQ2pAy0"
      },
      "execution_count": 32,
      "outputs": []
    },
    {
      "cell_type": "code",
      "source": [
        "import numpy as np\n",
        "m=3\n",
        "n=3\n",
        "ops=[[2,2],[3,3]]\n",
        "result = maximum_integers(m, n, ops)\n",
        "print(result)"
      ],
      "metadata": {
        "id": "_sfKTgUisNS9",
        "colab": {
          "base_uri": "https://localhost:8080/"
        },
        "outputId": "437d390e-91fd-495b-c0c9-69fe922fb688"
      },
      "execution_count": 33,
      "outputs": [
        {
          "output_type": "stream",
          "name": "stdout",
          "text": [
            "[[2. 2. 1.]\n",
            " [2. 2. 1.]\n",
            " [1. 1. 1.]]\n"
          ]
        }
      ]
    },
    {
      "cell_type": "markdown",
      "source": [
        "*Question 8**\n",
        "\n",
        "Given the array nums consisting of 2n elements in the form [x1,x2,...,xn,y1,y2,...,yn].\n",
        "\n",
        "*Return the array in the form* [x1,y1,x2,y2,...,xn,yn].\n",
        "\n",
        "**Example 1:**\n",
        "\n",
        "**Input:** nums = [2,5,1,3,4,7], n = 3\n",
        "\n",
        "**Output:** [2,3,5,4,1,7]\n",
        "\n",
        "**Explanation:** Since x1=2, x2=5, x3=1, y1=3, y2=4, y3=7 then the answer is [2,3,5,4,1,7].\n"
      ],
      "metadata": {
        "id": "765dWanruLv7"
      }
    },
    {
      "cell_type": "code",
      "source": [
        "def rearrange_arr(nums):\n",
        "    l = len(nums)\n",
        "    half = int(l/2)\n",
        "    rearrange_lst=[]\n",
        "    for i in range(half):\n",
        "      rearrange_lst.append(nums[i])\n",
        "      rearrange_lst.append(nums[i+half])\n",
        "      \n",
        "    return rearrange_lst\n",
        "    "
      ],
      "metadata": {
        "id": "-_J_nI48uMaS"
      },
      "execution_count": 40,
      "outputs": []
    },
    {
      "cell_type": "code",
      "source": [
        "import numpy as np\n",
        "nums= [4,6,8,3,4,2,0,1]\n",
        "result =rearrange_arr(nums)\n",
        "print(result)"
      ],
      "metadata": {
        "id": "34CKWOXez0ah",
        "colab": {
          "base_uri": "https://localhost:8080/"
        },
        "outputId": "5f7671e9-82cc-4e93-ba79-f79b888f9c36"
      },
      "execution_count": 41,
      "outputs": [
        {
          "output_type": "stream",
          "name": "stdout",
          "text": [
            "[4, 4, 6, 2, 8, 0, 3, 1]\n"
          ]
        }
      ]
    }
  ]
}