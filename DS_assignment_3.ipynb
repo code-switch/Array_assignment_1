{
  "nbformat": 4,
  "nbformat_minor": 0,
  "metadata": {
    "colab": {
      "provenance": []
    },
    "kernelspec": {
      "name": "python3",
      "display_name": "Python 3"
    },
    "language_info": {
      "name": "python"
    }
  },
  "cells": [
    {
      "cell_type": "markdown",
      "source": [
        "#DS Assignment 3"
      ],
      "metadata": {
        "id": "XFTOFQ_d5fla"
      }
    },
    {
      "cell_type": "markdown",
      "source": [
        "1) Scenario: A company wants to analyze the sales performance of its products in different regions. They have collected the following data: Region A: [10, 15, 12, 8, 14] Region B: [18, 20, 16, 22, 25] Calculate the mean sales for each region."
      ],
      "metadata": {
        "id": "qb6WTKqmdhPv"
      }
    },
    {
      "cell_type": "code",
      "source": [
        "import numpy as np\n",
        "\n",
        "A = [10, 15, 12, 8, 14]\n",
        "B = [18, 20, 16, 22, 25]\n",
        "A_mean_sales = np.mean(A)\n",
        "B_mean_sales = np.mean(B)\n",
        "print(f'Mean sales of region A = {A_mean_sales}')\n",
        "print(f'Mean sales of region B = {B_mean_sales}')"
      ],
      "metadata": {
        "id": "5iI3dahTaIWU",
        "colab": {
          "base_uri": "https://localhost:8080/"
        },
        "outputId": "07fb276d-005a-47fd-ced7-e024785223a2"
      },
      "execution_count": 3,
      "outputs": [
        {
          "output_type": "stream",
          "name": "stdout",
          "text": [
            "Mean sales of region A = 11.8\n",
            "Mean sales of region B = 20.2\n"
          ]
        }
      ]
    },
    {
      "cell_type": "markdown",
      "source": [
        "2) Scenario: A survey is conducted to measure customer satisfaction on a scale of 1 to 5. The data collected is as follows: [4, 5, 2, 3, 5, 4, 3, 2, 4, 5] Calculate the mode of the survey responses."
      ],
      "metadata": {
        "id": "NpHMzthCetu8"
      }
    },
    {
      "cell_type": "code",
      "source": [
        "import statistics as stat\n",
        "\n",
        "data = [4, 5, 2, 3, 5, 4, 3, 2, 4, 5]\n",
        "survey_mode = stat.mode(data)\n",
        "print(f'Mode of survey response is = {survey_mode}')"
      ],
      "metadata": {
        "colab": {
          "base_uri": "https://localhost:8080/"
        },
        "id": "jvTM3-FjaNfk",
        "outputId": "fa61f900-41d5-461b-eea7-0c92093bad1a"
      },
      "execution_count": 6,
      "outputs": [
        {
          "output_type": "stream",
          "name": "stdout",
          "text": [
            "Mode of survey response is = 4\n"
          ]
        }
      ]
    },
    {
      "cell_type": "markdown",
      "source": [
        "3) Scenario: A company wants to compare the salaries of two departments. The salary data for Department A and Department B are as follows: Department A: [5000, 6000, 5500, 7000] Department B: [4500, 5500, 5800, 6000, 5200] Calculate the median salary for each department."
      ],
      "metadata": {
        "id": "imk0izrrefwD"
      }
    },
    {
      "cell_type": "code",
      "source": [
        "import statistics as stats\n",
        "\n",
        "Department_A=[5000, 6000, 5500, 7000]\n",
        "Department_B= [4500, 5500, 5800, 6000, 5200]\n",
        "\n",
        "print(f'Median of salary of Department_A is = {stats.median(Department_A)}')\n",
        "print(f'Median of salary of Department_B is = {stats.median(Department_B)}')"
      ],
      "metadata": {
        "id": "A6iooGpBhTrY",
        "colab": {
          "base_uri": "https://localhost:8080/"
        },
        "outputId": "ef10e388-1fec-4ead-9abb-821443b202f6"
      },
      "execution_count": 2,
      "outputs": [
        {
          "output_type": "stream",
          "name": "stdout",
          "text": [
            "Median of salary of Department_A is = 5750.0\n",
            "Median of salary of Department_B is = 5500\n"
          ]
        }
      ]
    },
    {
      "cell_type": "markdown",
      "source": [
        "4) Scenario: A data analyst wants to determine the variability in the daily stock prices of a company. The data collected is as follows: [25.5, 24.8, 26.1, 25.3, 24.9] Calculate the range of the stock prices."
      ],
      "metadata": {
        "id": "qj5XQCm8xYDA"
      }
    },
    {
      "cell_type": "code",
      "source": [
        "import numpy as np\n",
        "\n",
        "stock_price = [25.5, 24.8, 26.1, 25.3, 24.9]\n",
        "print(f'Range of stock prices of the company is=[{np.min(stock_price)},{np.max(stock_price)}]')"
      ],
      "metadata": {
        "colab": {
          "base_uri": "https://localhost:8080/"
        },
        "id": "nUzWh78acFsS",
        "outputId": "86d2b5cb-c8fe-4505-cd3e-8b0c1bde853a"
      },
      "execution_count": 5,
      "outputs": [
        {
          "output_type": "stream",
          "name": "stdout",
          "text": [
            "Range of stock prices of the company is=[24.8,26.1]\n"
          ]
        }
      ]
    },
    {
      "cell_type": "markdown",
      "source": [
        "5) Scenario: A study is conducted to compare the performance of two different teaching methods. The test scores of the students in each group are as follows: Group A: [85, 90, 92, 88, 91] Group B: [82, 88, 90, 86, 87] Perform a t-test to determine if there is a significant difference in the mean scores between the two groups."
      ],
      "metadata": {
        "id": "s17SvhecwJxA"
      }
    },
    {
      "cell_type": "code",
      "source": [
        "import numpy as np\n",
        "from scipy.stats import ttest_ind\n",
        "\n",
        "# Define the test scores for each group\n",
        "group_a = np.array([85, 90, 92, 88, 91])\n",
        "group_b = np.array([82, 88, 90, 86, 87])\n",
        "\n",
        "# Perform the t-test\n",
        "t_statistic, p_value = ttest_ind(group_a, group_b)\n",
        "\n",
        "# Print the results\n",
        "print(\"T-Statistic:\", t_statistic)\n",
        "print(\"P-Value:\", p_value)"
      ],
      "metadata": {
        "colab": {
          "base_uri": "https://localhost:8080/"
        },
        "id": "R3Nld6B2y0aP",
        "outputId": "750562f5-ab91-4cb0-d8de-35d02b9ea1ef"
      },
      "execution_count": 6,
      "outputs": [
        {
          "output_type": "stream",
          "name": "stdout",
          "text": [
            "T-Statistic: 1.4312528946642733\n",
            "P-Value: 0.19023970239078333\n"
          ]
        }
      ]
    },
    {
      "cell_type": "markdown",
      "source": [
        "6) Scenario: A company wants to analyze the relationship between advertising expenditure and sales. The data collected is as follows: Advertising Expenditure (in thousands): [10, 15, 12, 8, 14] Sales (in thousands): [25, 30, 28, 20, 26] Calculate the correlation coefficient between advertising expenditure and sales."
      ],
      "metadata": {
        "id": "VF12kRSw2SlA"
      }
    },
    {
      "cell_type": "code",
      "source": [
        "import numpy as np\n",
        "\n",
        "# Define the advertising expenditure and sales data\n",
        "advertising_expenditure = np.array([10, 15, 12, 8, 14])\n",
        "sales = np.array([25, 30, 28, 20, 26])\n",
        "\n",
        "# Calculate the correlation coefficient\n",
        "correlation_coefficient = np.corrcoef(advertising_expenditure, sales)[0, 1]\n",
        "\n",
        "# Print the correlation coefficient\n",
        "print(\"Correlation Coefficient:\", correlation_coefficient)"
      ],
      "metadata": {
        "colab": {
          "base_uri": "https://localhost:8080/"
        },
        "id": "LtTWTLEazMn4",
        "outputId": "f8278c57-ea70-4a9a-f6a4-46b0d786de3a"
      },
      "execution_count": 7,
      "outputs": [
        {
          "output_type": "stream",
          "name": "stdout",
          "text": [
            "Correlation Coefficient: 0.8757511375750132\n"
          ]
        }
      ]
    },
    {
      "cell_type": "markdown",
      "source": [
        "7) Scenario: A survey is conducted to measure the heights of a group of people. The data collected is as follows: [160, 170, 165, 155, 175, 180, 170] Calculate the standard deviation of the heights.\n",
        "\n"
      ],
      "metadata": {
        "id": "NijdICkN2g7-"
      }
    },
    {
      "cell_type": "code",
      "source": [
        "import numpy as np\n",
        "\n",
        "# Define the heights data\n",
        "heights = np.array([160, 170, 165, 155, 175, 180, 170])\n",
        "\n",
        "# Calculate the standard deviation\n",
        "standard_deviation = np.std(heights)\n",
        "\n",
        "# Print the standard deviation\n",
        "print(\"Standard Deviation:\", standard_deviation)"
      ],
      "metadata": {
        "id": "VzTRDaD0F6H4",
        "colab": {
          "base_uri": "https://localhost:8080/"
        },
        "outputId": "6183f16b-4f91-42fb-ee68-d20889858c22"
      },
      "execution_count": 8,
      "outputs": [
        {
          "output_type": "stream",
          "name": "stdout",
          "text": [
            "Standard Deviation: 7.953949089757174\n"
          ]
        }
      ]
    },
    {
      "cell_type": "markdown",
      "source": [
        "8) Scenario: A company wants to analyze the relationship between employee tenure and job satisfaction. The data collected is as follows: Employee Tenure (in years): [2, 3, 5, 4, 6, 2, 4] Job Satisfaction (on a scale of 1 to 10): [7, 8, 6, 9, 5, 7, 6] Perform a linear regression analysis to predict job satisfaction based on employee tenure."
      ],
      "metadata": {
        "id": "7-EARZPZ2viO"
      }
    },
    {
      "cell_type": "code",
      "source": [
        "import numpy as np\n",
        "from sklearn.linear_model import LinearRegression\n",
        "\n",
        "# Define the employee tenure and job satisfaction data\n",
        "employee_tenure = np.array([2, 3, 5, 4, 6, 2, 4]).reshape(-1, 1)\n",
        "job_satisfaction = np.array([7, 8, 6, 9, 5, 7, 6])\n",
        "\n",
        "# Create a linear regression model\n",
        "model = LinearRegression()\n",
        "\n",
        "# Fit the model to the data\n",
        "model.fit(employee_tenure, job_satisfaction)\n",
        "\n",
        "# Predict job satisfaction based on employee tenure\n",
        "predicted_job_satisfaction = model.predict(employee_tenure)\n",
        "\n",
        "# Print the coefficients and intercept of the linear regression model\n",
        "print(\"Coefficient:\", model.coef_[0])\n",
        "print(\"Intercept:\", model.intercept_)"
      ],
      "metadata": {
        "colab": {
          "base_uri": "https://localhost:8080/"
        },
        "id": "nvhSArANlj2C",
        "outputId": "deab1032-7693-46aa-a3af-33fef1536180"
      },
      "execution_count": 9,
      "outputs": [
        {
          "output_type": "stream",
          "name": "stdout",
          "text": [
            "Coefficient: -0.4680851063829786\n",
            "Intercept: 8.595744680851062\n"
          ]
        }
      ]
    },
    {
      "cell_type": "markdown",
      "source": [
        "9) Scenario: A study is conducted to compare the effectiveness of two different medications. The recovery times of the patients in each group are as follows: Medication A: [10, 12, 14, 11, 13] Medication B: [15, 17, 16, 14, 18] Perform an analysis of variance (ANOVA) to determine if there is a significant difference in the mean recovery times between the two medications."
      ],
      "metadata": {
        "id": "nNREITEM28hG"
      }
    },
    {
      "cell_type": "code",
      "source": [
        "import numpy as np\n",
        "from scipy.stats import f_oneway\n",
        "\n",
        "# Define the recovery times for each medication\n",
        "medication_a = np.array([10, 12, 14, 11, 13])\n",
        "medication_b = np.array([15, 17, 16, 14, 18])\n",
        "\n",
        "# Perform the ANOVA\n",
        "f_statistic, p_value = f_oneway(medication_a, medication_b)\n",
        "\n",
        "# Print the results\n",
        "print(\"F-Statistic:\", f_statistic)\n",
        "print(\"P-Value:\", p_value)"
      ],
      "metadata": {
        "id": "OI05b96wtro1",
        "colab": {
          "base_uri": "https://localhost:8080/"
        },
        "outputId": "58c26f19-94c8-4e70-cb6c-19e61b7c0cfb"
      },
      "execution_count": 10,
      "outputs": [
        {
          "output_type": "stream",
          "name": "stdout",
          "text": [
            "F-Statistic: 16.0\n",
            "P-Value: 0.003949772803445326\n"
          ]
        }
      ]
    },
    {
      "cell_type": "markdown",
      "source": [
        "10) Scenario: A company wants to analyze customer feedback ratings on a scale of 1 to 10. The data collected is\n",
        "\n",
        "as follows: [8, 9, 7, 6, 8, 10, 9, 8, 7, 8] Calculate the 75th percentile of the feedback ratings."
      ],
      "metadata": {
        "id": "4I5TB48b3KX3"
      }
    },
    {
      "cell_type": "code",
      "source": [
        "import numpy as np\n",
        "\n",
        "# Define the feedback ratings data\n",
        "feedback_ratings = np.array([8, 9, 7, 6, 8, 10, 9, 8, 7, 8])\n",
        "\n",
        "# Calculate the 75th percentile\n",
        "percentile_75 = np.percentile(feedback_ratings, 75)\n",
        "\n",
        "# Print the 75th percentile\n",
        "print(\"75th Percentile:\", percentile_75)"
      ],
      "metadata": {
        "id": "GpXKVas89J_Q",
        "colab": {
          "base_uri": "https://localhost:8080/"
        },
        "outputId": "a3282195-d065-4e6d-fa43-399a0c7598e0"
      },
      "execution_count": 11,
      "outputs": [
        {
          "output_type": "stream",
          "name": "stdout",
          "text": [
            "75th Percentile: 8.75\n"
          ]
        }
      ]
    },
    {
      "cell_type": "markdown",
      "source": [
        "11) Scenario: A quality control department wants to test the weight consistency of a product. The weights of a sample of products are as follows: [10.2, 9.8, 10.0, 10.5, 10.3, 10.1] Perform a hypothesis test to determine if the mean weight differs significantly from 10 grams."
      ],
      "metadata": {
        "id": "X9OQhpRC5hnG"
      }
    },
    {
      "cell_type": "code",
      "source": [
        "import numpy as np\n",
        "from scipy.stats import ttest_1samp\n",
        "\n",
        "# Define the weight data\n",
        "weights = np.array([10.2, 9.8, 10.0, 10.5, 10.3, 10.1])\n",
        "\n",
        "# Perform the one-sample t-test\n",
        "t_statistic, p_value = ttest_1samp(weights, 10)\n",
        "\n",
        "# Print the results\n",
        "print(\"T-Statistic:\", t_statistic)\n",
        "print(\"P-Value:\", p_value)"
      ],
      "metadata": {
        "id": "oM0H4dcrK0ba",
        "colab": {
          "base_uri": "https://localhost:8080/"
        },
        "outputId": "fba316f9-a0bc-45cb-e1c9-5e81dbfa5cb2"
      },
      "execution_count": 12,
      "outputs": [
        {
          "output_type": "stream",
          "name": "stdout",
          "text": [
            "T-Statistic: 1.5126584522688367\n",
            "P-Value: 0.19077595151110102\n"
          ]
        }
      ]
    },
    {
      "cell_type": "markdown",
      "source": [
        "12) Scenario: A company wants to analyze the click-through rates of two different website designs. The number of clicks for each design is as follows: Design A: [100, 120, 110, 90, 95] Design B: [80, 85, 90, 95, 100] Perform a chi-square test to determine if there is a significant difference in the click-through rates between the two designs.\n",
        "\n"
      ],
      "metadata": {
        "id": "iLF0v-my3pQJ"
      }
    },
    {
      "cell_type": "code",
      "source": [
        "import numpy as np\n",
        "from scipy.stats import chisquare\n",
        "\n",
        "# Define the click-through rates data\n",
        "design_a = np.array([100, 120, 110, 90, 95])\n",
        "design_b = np.array([80, 85, 90, 95, 100])\n",
        "\n",
        "# Convert the click-through rates into categories\n",
        "categories = ['low', 'medium', 'high']\n",
        "design_a_categories = np.digitize(design_a, bins=[0, 100, 110, np.inf], right=True)\n",
        "design_b_categories = np.digitize(design_b, bins=[0, 100, 110, np.inf], right=True)\n",
        "\n",
        "# Perform the chi-square test\n",
        "observed = np.histogram2d(design_a_categories, design_b_categories, bins=len(categories))[0]\n",
        "chi2, p_value = chisquare(observed.flatten())\n",
        "\n",
        "# Print the results\n",
        "print(\"Chi-Square Statistic:\", chi2)\n",
        "print(\"P-Value:\", p_value)"
      ],
      "metadata": {
        "id": "Z47pVR8gVj_Z",
        "colab": {
          "base_uri": "https://localhost:8080/"
        },
        "outputId": "ab05d0ad-01e3-44d7-8a47-106a535e4045"
      },
      "execution_count": 13,
      "outputs": [
        {
          "output_type": "stream",
          "name": "stdout",
          "text": [
            "Chi-Square Statistic: 14.8\n",
            "P-Value: 0.06315300527254444\n"
          ]
        }
      ]
    },
    {
      "cell_type": "markdown",
      "source": [
        "13) Scenario: A survey is conducted to measure customer satisfaction with a product on a scale of 1 to 10. The data collected is as follows: [7, 9, 6, 8, 10, 7, 8, 9, 7, 8] Calculate the 95% confidence interval for the population mean satisfaction score."
      ],
      "metadata": {
        "id": "r0bujdZv339Q"
      }
    },
    {
      "cell_type": "code",
      "source": [
        "import numpy as np\n",
        "from scipy.stats import t\n",
        "\n",
        "# Define the satisfaction score data\n",
        "satisfaction_scores = np.array([7, 9, 6, 8, 10, 7, 8, 9, 7, 8])\n",
        "\n",
        "# Calculate the sample mean and standard error\n",
        "sample_mean = np.mean(satisfaction_scores)\n",
        "standard_error = np.std(satisfaction_scores, ddof=1) / np.sqrt(len(satisfaction_scores))\n",
        "\n",
        "# Calculate the t-value for a 95% confidence interval with 9 degrees of freedom\n",
        "t_value = t.ppf(0.975, df=9)\n",
        "\n",
        "# Calculate the confidence interval\n",
        "lower_bound = sample_mean - t_value * standard_error\n",
        "upper_bound = sample_mean + t_value * standard_error\n",
        "\n",
        "# Print the confidence interval\n",
        "print(\"95% Confidence Interval:\", (lower_bound, upper_bound))"
      ],
      "metadata": {
        "colab": {
          "base_uri": "https://localhost:8080/"
        },
        "id": "6a517ApwMlaJ",
        "outputId": "805288a8-4425-419b-9f3c-f48454756d27"
      },
      "execution_count": 14,
      "outputs": [
        {
          "output_type": "stream",
          "name": "stdout",
          "text": [
            "95% Confidence Interval: (7.043561120599888, 8.756438879400113)\n"
          ]
        }
      ]
    },
    {
      "cell_type": "markdown",
      "source": [
        "14) Scenario: A company wants to analyze the effect of temperature on product performance. The data collected is as follows: Temperature (in degrees Celsius): [20, 22, 23, 19, 21] Performance (on a scale of 1 to 10): [8, 7, 9, 6, 8] Perform a simple linear regression to predict performance based on temperature."
      ],
      "metadata": {
        "id": "QELQT1VosvTr"
      }
    },
    {
      "cell_type": "code",
      "source": [
        "import numpy as np\n",
        "from scipy.stats import linregress\n",
        "\n",
        "# Define the temperature and performance data\n",
        "temperature = np.array([20, 22, 23, 19, 21])\n",
        "performance = np.array([8, 7, 9, 6, 8])\n",
        "\n",
        "# Perform the linear regression\n",
        "slope, intercept, r_value, p_value, std_err = linregress(temperature, performance)\n",
        "\n",
        "# Print the results\n",
        "print(\"Slope:\", slope)\n",
        "print(\"Intercept:\", intercept)\n",
        "print(\"R-Value:\", r_value)\n",
        "print(\"P-Value:\", p_value)\n",
        "print(\"Standard Error:\", std_err)"
      ],
      "metadata": {
        "id": "mS3VFX9Asv6Q",
        "colab": {
          "base_uri": "https://localhost:8080/"
        },
        "outputId": "f24b2665-8732-4e4b-e7ff-2a14e6eca9a9"
      },
      "execution_count": 15,
      "outputs": [
        {
          "output_type": "stream",
          "name": "stdout",
          "text": [
            "Slope: 0.5\n",
            "Intercept: -2.9000000000000004\n",
            "R-Value: 0.6933752452815364\n",
            "P-Value: 0.19417134561205843\n",
            "Standard Error: 0.30000000000000004\n"
          ]
        }
      ]
    },
    {
      "cell_type": "markdown",
      "source": [
        "15) Scenario: A study is conducted to compare the preferences of two groups of participants. The preferences are measured on a Likert scale from 1 to 5. The data collected is as follows: Group A: [4, 3, 5, 2, 4] Group B: [3, 2, 4, 3, 3] Perform a Mann-Whitney U test to determine if there is a significant difference in the median preferences between the two groups.\n",
        "\n"
      ],
      "metadata": {
        "id": "J_KYeStzud0g"
      }
    },
    {
      "cell_type": "code",
      "source": [
        "import numpy as np\n",
        "from scipy.stats import mannwhitneyu\n",
        "\n",
        "# Define the preference data for each group\n",
        "group_a = np.array([4, 3, 5, 2, 4])\n",
        "group_b = np.array([3, 2, 4, 3, 3])\n",
        "\n",
        "# Perform the Mann-Whitney U test\n",
        "statistic, p_value = mannwhitneyu(group_a, group_b)\n",
        "\n",
        "# Print the results\n",
        "print(\"Mann-Whitney U Statistic:\", statistic)\n",
        "print(\"P-Value:\", p_value)"
      ],
      "metadata": {
        "id": "O-j3zK65ckBF",
        "colab": {
          "base_uri": "https://localhost:8080/"
        },
        "outputId": "a47de872-cdbb-49e0-e359-64f1b70fa8fd"
      },
      "execution_count": 16,
      "outputs": [
        {
          "output_type": "stream",
          "name": "stdout",
          "text": [
            "Mann-Whitney U Statistic: 17.0\n",
            "P-Value: 0.380836480306712\n"
          ]
        }
      ]
    },
    {
      "cell_type": "markdown",
      "source": [
        "16) Scenario: A company wants to analyze the distribution of customer ages. The data collected is as follows: [25, 30, 35, 40, 45, 50, 55, 60, 65, 70] Calculate the interquartile range (IQR) of the ages."
      ],
      "metadata": {
        "id": "EukK6Tl44gNH"
      }
    },
    {
      "cell_type": "code",
      "source": [
        "import numpy as np\n",
        "\n",
        "# Define the age data\n",
        "ages = np.array([25, 30, 35, 40, 45, 50, 55, 60, 65, 70])\n",
        "\n",
        "# Calculate the 25th and 75th percentiles\n",
        "q1 = np.percentile(ages, 25)\n",
        "q3 = np.percentile(ages, 75)\n",
        "\n",
        "# Calculate the interquartile range (IQR)\n",
        "iqr = q3 - q1\n",
        "\n",
        "# Print the IQR\n",
        "print(\"Interquartile Range (IQR):\", iqr)"
      ],
      "metadata": {
        "id": "_DWmWGEKufUf",
        "colab": {
          "base_uri": "https://localhost:8080/"
        },
        "outputId": "c9e36165-201a-4573-c846-1f23bcd14a41"
      },
      "execution_count": 17,
      "outputs": [
        {
          "output_type": "stream",
          "name": "stdout",
          "text": [
            "Interquartile Range (IQR): 22.5\n"
          ]
        }
      ]
    },
    {
      "cell_type": "markdown",
      "source": [
        "17) Scenario: A study is conducted to compare the performance of three different machine learning algorithms. The accuracy scores for each algorithm are as follows: Algorithm A: [0.85, 0.80, 0.82, 0.87, 0.83] Algorithm B: [0.78, 0.82, 0.84, 0.80, 0.79] Algorithm C: [0.90, 0.88, 0.89, 0.86, 0.87] Perform a Kruskal-Wallis test to determine if there is a significant difference in the median accuracy scores between the algorithms."
      ],
      "metadata": {
        "id": "VN6LVNw7vRaH"
      }
    },
    {
      "cell_type": "code",
      "source": [
        "import numpy as np\n",
        "from scipy.stats import kruskal\n",
        "\n",
        "# Define the accuracy score data for each algorithm\n",
        "algorithm_a = np.array([0.85, 0.80, 0.82, 0.87, 0.83])\n",
        "algorithm_b = np.array([0.78, 0.82, 0.84, 0.80, 0.79])\n",
        "algorithm_c = np.array([0.90, 0.88, 0.89, 0.86, 0.87])\n",
        "\n",
        "# Perform the Kruskal-Wallis test\n",
        "statistic, p_value = kruskal(algorithm_a, algorithm_b, algorithm_c)\n",
        "\n",
        "# Print the results\n",
        "print(\"Kruskal-Wallis Statistic:\", statistic)\n",
        "print(\"P-Value:\", p_value)"
      ],
      "metadata": {
        "id": "Q1JLoaUAvR9B",
        "colab": {
          "base_uri": "https://localhost:8080/"
        },
        "outputId": "08f7c2f9-fabc-47ab-ac36-8a9cd1f98cb8"
      },
      "execution_count": 18,
      "outputs": [
        {
          "output_type": "stream",
          "name": "stdout",
          "text": [
            "Kruskal-Wallis Statistic: 9.696947935368053\n",
            "P-Value: 0.007840333026249539\n"
          ]
        }
      ]
    },
    {
      "cell_type": "markdown",
      "source": [
        "18) Scenario: A company wants to analyze the effect of price on sales. The data collected is as follows: Price (in dollars): [10, 15, 12, 8, 14] Sales: [100, 80, 90, 110, 95] Perform a simple linear regression to predict\n",
        "\n",
        "sales based on price."
      ],
      "metadata": {
        "id": "4isZu8GFpGPL"
      }
    },
    {
      "cell_type": "code",
      "source": [
        "import numpy as np\n",
        "from scipy.stats import linregress\n",
        "\n",
        "# Define the price and sales data\n",
        "price = np.array([10, 15, 12, 8, 14])\n",
        "sales = np.array([100, 80, 90, 110, 95])\n",
        "\n",
        "# Perform the linear regression\n",
        "slope, intercept, r_value, p_value, std_err = linregress(price, sales)\n",
        "\n",
        "# Print the results\n",
        "print(\"Slope:\", slope)\n",
        "print(\"Intercept:\", intercept)\n",
        "print(\"R-Value:\", r_value)\n",
        "print(\"P-Value:\", p_value)\n",
        "print(\"Standard Error:\", std_err)"
      ],
      "metadata": {
        "id": "UyCoThQ2pAy0",
        "colab": {
          "base_uri": "https://localhost:8080/"
        },
        "outputId": "4b5403e7-de51-478e-d8f7-614abf291c7b"
      },
      "execution_count": 19,
      "outputs": [
        {
          "output_type": "stream",
          "name": "stdout",
          "text": [
            "Slope: -3.506097560975609\n",
            "Intercept: 136.3719512195122\n",
            "R-Value: -0.8979991308594848\n",
            "P-Value: 0.03850178234753776\n",
            "Standard Error: 0.9918303504036147\n"
          ]
        }
      ]
    },
    {
      "cell_type": "markdown",
      "source": [
        "19) Scenario: A survey is conducted to measure the satisfaction levels of customers with a new product. The data collected is as follows: [7, 8, 9, 6, 8, 7, 9, 7, 8, 7] Calculate the standard error of the mean satisfaction score."
      ],
      "metadata": {
        "id": "UOApPksm5IeH"
      }
    },
    {
      "cell_type": "code",
      "source": [
        "import numpy as np\n",
        "from scipy.stats import sem\n",
        "\n",
        "# Define the satisfaction score data\n",
        "satisfaction_scores = np.array([7, 8, 9, 6, 8, 7, 9, 7, 8, 7])\n",
        "\n",
        "# Calculate the standard error of the mean\n",
        "standard_error = sem(satisfaction_scores)\n",
        "\n",
        "# Print the standard error of the mean\n",
        "print(\"Standard Error of the Mean:\", standard_error)"
      ],
      "metadata": {
        "colab": {
          "base_uri": "https://localhost:8080/"
        },
        "id": "x3gucFoy5KFs",
        "outputId": "491dd0c0-8abe-4b75-ec4a-4844b3620377"
      },
      "execution_count": 20,
      "outputs": [
        {
          "output_type": "stream",
          "name": "stdout",
          "text": [
            "Standard Error of the Mean: 0.30550504633038933\n"
          ]
        }
      ]
    },
    {
      "cell_type": "markdown",
      "source": [
        "20) Scenario: A company wants to analyze the relationship between advertising expenditure and sales. The data collected is as follows: Advertising Expenditure (in thousands): [10, 15, 12, 8, 14] Sales (in thousands): [25, 30, 28, 20, 26] Perform a multiple regression analysis to predict sales based on advertising expenditure."
      ],
      "metadata": {
        "id": "h3cQPYBB5TAD"
      }
    },
    {
      "cell_type": "code",
      "source": [
        "import numpy as np\n",
        "import statsmodels.api as sm\n",
        "\n",
        "# Define the advertising expenditure and sales data\n",
        "advertising_expenditure = np.array([10, 15, 12, 8, 14])\n",
        "sales = np.array([25, 30, 28, 20, 26])\n",
        "\n",
        "# Add a constant to the advertising expenditure data\n",
        "advertising_expenditure = sm.add_constant(advertising_expenditure)\n",
        "\n",
        "# Fit the multiple regression model\n",
        "model = sm.OLS(sales, advertising_expenditure).fit()\n",
        "\n",
        "# Print the model summary\n",
        "print(model.summary())"
      ],
      "metadata": {
        "colab": {
          "base_uri": "https://localhost:8080/"
        },
        "id": "uM_QnIVn5UOH",
        "outputId": "6c3e101e-1c9d-4a17-8891-1f72e8b82239"
      },
      "execution_count": 21,
      "outputs": [
        {
          "output_type": "stream",
          "name": "stdout",
          "text": [
            "                            OLS Regression Results                            \n",
            "==============================================================================\n",
            "Dep. Variable:                      y   R-squared:                       0.767\n",
            "Model:                            OLS   Adj. R-squared:                  0.689\n",
            "Method:                 Least Squares   F-statistic:                     9.872\n",
            "Date:                Fri, 14 Jul 2023   Prob (F-statistic):             0.0516\n",
            "Time:                        14:54:40   Log-Likelihood:                -9.5288\n",
            "No. Observations:                   5   AIC:                             23.06\n",
            "Df Residuals:                       3   BIC:                             22.28\n",
            "Df Model:                           1                                         \n",
            "Covariance Type:            nonrobust                                         \n",
            "==============================================================================\n",
            "                 coef    std err          t      P>|t|      [0.025      0.975]\n",
            "------------------------------------------------------------------------------\n",
            "const         12.2012      4.429      2.755      0.070      -1.893      26.296\n",
            "x1             1.1524      0.367      3.142      0.052      -0.015       2.320\n",
            "==============================================================================\n",
            "Omnibus:                          nan   Durbin-Watson:                   1.136\n",
            "Prob(Omnibus):                    nan   Jarque-Bera (JB):                0.546\n",
            "Skew:                          -0.267   Prob(JB):                        0.761\n",
            "Kurtosis:                       1.471   Cond. No.                         57.3\n",
            "==============================================================================\n",
            "\n",
            "Notes:\n",
            "[1] Standard Errors assume that the covariance matrix of the errors is correctly specified.\n"
          ]
        },
        {
          "output_type": "stream",
          "name": "stderr",
          "text": [
            "/usr/local/lib/python3.10/dist-packages/statsmodels/stats/stattools.py:74: ValueWarning: omni_normtest is not valid with less than 8 observations; 5 samples were given.\n",
            "  warn(\"omni_normtest is not valid with less than 8 observations; %i \"\n"
          ]
        }
      ]
    }
  ]
}