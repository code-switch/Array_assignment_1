{
  "nbformat": 4,
  "nbformat_minor": 0,
  "metadata": {
    "colab": {
      "provenance": []
    },
    "kernelspec": {
      "name": "python3",
      "display_name": "Python 3"
    },
    "language_info": {
      "name": "python"
    }
  },
  "cells": [
    {
      "cell_type": "markdown",
      "source": [
        "<aside>\n",
        "💡 **Question 1**\n",
        "\n",
        "Given a linked list of **N** nodes such that it may contain a loop.\n",
        "\n",
        "A loop here means that the last node of the link list is connected to the node at position X(1-based index). If the link list does not have any loop, X=0.\n",
        "\n",
        "Remove the loop from the linked list, if it is present, i.e. unlink the last node which is forming the loop.\n",
        "\n",
        "**Example 1:**\n",
        "\n",
        "```\n",
        "Input:\n",
        "N = 3\n",
        "value[] = {1,3,4}\n",
        "X = 2\n",
        "Output:1\n",
        "Explanation:The link list looks like\n",
        "1 -> 3 -> 4\n",
        "     ^    |\n",
        "     |____|\n",
        "A loop is present. If you remove it\n",
        "successfully, the answer will be 1.\n",
        "\n",
        "```\n",
        "Example 2:\n",
        "```\n",
        "Input:\n",
        "N = 4\n",
        "value[] = {1,8,3,4}\n",
        "X = 0\n",
        "Output:1\n",
        "Explanation:The Linked list does not\n",
        "contains any loop.\n",
        "```\n",
        "Example 3:\n",
        "```\n",
        "Input:\n",
        "N = 4\n",
        "value[] = {1,2,3,4}\n",
        "X = 1\n",
        "Output:1\n",
        "Explanation:The link list looks like\n",
        "1 -> 2 -> 3 -> 4\n",
        "^              |\n",
        "|______________|\n",
        "A loop is present.\n",
        "If you remove it successfully,\n",
        "the answer will be 1.\n",
        "```"
      ],
      "metadata": {
        "id": "ILZD0pEVEtSn"
      }
    },
    {
      "cell_type": "code",
      "execution_count": null,
      "metadata": {
        "id": "88g64gNQErFP"
      },
      "outputs": [],
      "source": [
        "class Node:\n",
        "    def __init__(self, data):\n",
        "        self.head = data\n",
        "        self.next = None\n",
        "\n",
        "def removeLoop(head):\n",
        "    if (head == None) or (head.next == None):\n",
        "        return False\n",
        "\n",
        "    slow = head\n",
        "    fast = head\n",
        "\n",
        "    while (fast != None) and (fast.next != None):\n",
        "        slow = slow.next\n",
        "        fast = fast.next.next\n",
        "\n",
        "        if slow == fast:\n",
        "            break\n",
        "\n",
        "    if slow != fast:\n",
        "        return False\n",
        "\n",
        "    slow = head\n",
        "\n",
        "    while slow.next != fast.next:\n",
        "        slow = slow.next\n",
        "        fast = fast.next\n",
        "\n",
        "    fast.next = None\n",
        "\n",
        "    return True"
      ]
    },
    {
      "cell_type": "markdown",
      "source": [
        "<aside>\n",
        "💡 **Question 2**\n",
        "\n",
        "A number **N** is represented in Linked List such that each digit corresponds to a node in linked list. You need to add 1 to it.\n",
        "\n",
        "**Example 1:**\n",
        "\n",
        "```\n",
        "Input:\n",
        "LinkedList: 4->5->6\n",
        "Output:457\n",
        "\n",
        "```\n",
        "```\n",
        "Input:\n",
        "LinkedList: 1->2->3\n",
        "Output:124\n",
        "```"
      ],
      "metadata": {
        "id": "MD3OoiglKMrH"
      }
    },
    {
      "cell_type": "code",
      "source": [
        "class Node:\n",
        "    def __init__(self, data=None):\n",
        "        self.data = data\n",
        "        self.next = None\n",
        "\n",
        "def add_one(head):\n",
        "    # Reverse the linked list\n",
        "    prev = None\n",
        "    current = head\n",
        "    while current is not None:\n",
        "        next = current.next\n",
        "        current.next = prev\n",
        "        prev = current\n",
        "        current = next\n",
        "    head = prev\n",
        "\n",
        "    # Add 1 to the linked list\n",
        "    carry = 1\n",
        "    current = head\n",
        "    while current is not None:\n",
        "        sum = current.data + carry\n",
        "        carry = 1 if sum >= 10 else 0\n",
        "        current.data = sum % 10\n",
        "        if carry == 0:\n",
        "            break\n",
        "        current = current.next\n",
        "\n",
        "    # Reverse the linked list again\n",
        "    prev = None\n",
        "    current = head\n",
        "    while current is not None:\n",
        "        next = current.next\n",
        "        current.next = prev\n",
        "        prev = current\n",
        "        current = next\n",
        "    head = prev\n",
        "\n",
        "    # Return the linked list\n",
        "    return head\n",
        "\n",
        "# Test the function\n",
        "head1 = Node(4)\n",
        "head1.next = Node(5)\n",
        "head1.next.next = Node(6)\n",
        "result1 = add_one(head1)\n",
        "output1 = \"\"\n",
        "current = result1\n",
        "while current is not None:\n",
        "    output1 += str(current.data)\n",
        "    current = current.next\n",
        "print(output1) # Output: 457\n",
        "\n",
        "head2 = Node(1)\n",
        "head2.next = Node(2)\n",
        "head2.next.next = Node(3)\n",
        "result2 = add_one(head2)\n",
        "output2 = \"\"\n",
        "current = result2\n",
        "while current is not None:\n",
        "    output2 += str(current.data)\n",
        "    current = current.next\n",
        "print(output2) # Output: 124"
      ],
      "metadata": {
        "id": "dBtHBEtRKNNH",
        "colab": {
          "base_uri": "https://localhost:8080/"
        },
        "outputId": "8bcfcb37-9504-4367-9800-7864283e47f2"
      },
      "execution_count": null,
      "outputs": [
        {
          "output_type": "stream",
          "name": "stdout",
          "text": [
            "457\n",
            "124\n"
          ]
        }
      ]
    },
    {
      "cell_type": "markdown",
      "source": [
        "<aside>\n",
        "💡 **Question 3**\n",
        "\n",
        "Given a Linked List of size N, where every node represents a sub-linked-list and contains two pointers:(i) a **next** pointer to the next node,(ii) a **bottom** pointer to a linked list where this node is head.Each of the sub-linked-list is in sorted order.Flatten the Link List such that all the nodes appear in a single level while maintaining the sorted order. **Note:** The flattened list will be printed using the bottom pointer instead of next pointer.\n",
        "\n",
        "**Example 1:**\n",
        "\n",
        "```\n",
        "Input:\n",
        "5 -> 10 -> 19 -> 28\n",
        "|     |     |     |\n",
        "7     20    22   35\n",
        "|           |     |\n",
        "8          50    40\n",
        "|                 |\n",
        "30               45\n",
        "Output: 5-> 7-> 8- > 10 -> 19-> 20->\n",
        "22-> 28-> 30-> 35-> 40-> 45-> 50.\n",
        "Explanation:\n",
        "The resultant linked lists has every\n",
        "node in a single level.(Note:| represents the bottom pointer.)\n",
        "\n",
        "```\n",
        "```\n",
        "Input:\n",
        "5 -> 10 -> 19 -> 28\n",
        "|          |\n",
        "7          22\n",
        "|          |\n",
        "8          50\n",
        "|\n",
        "30\n",
        "Output: 5->7->8->10->19->22->28->30->50\n",
        "Explanation:\n",
        "The resultant linked lists has every\n",
        "node in a single level.\n",
        "\n",
        "(Note:| represents the bottom pointer.)\n",
        "```"
      ],
      "metadata": {
        "id": "ApEvzWIGeyT0"
      }
    },
    {
      "cell_type": "code",
      "source": [
        "class Node:\n",
        "    def __init__(self, data=None, down=None, right=None):\n",
        "        self.data = data\n",
        "        self.down = down\n",
        "        self.right = right\n",
        "\n",
        "def merge(a, b):\n",
        "    if a is None:\n",
        "        return b\n",
        "    if b is None:\n",
        "        return a\n",
        "    if a.data < b.data:\n",
        "        result = a\n",
        "        result.down = merge(a.down, b)\n",
        "    else:\n",
        "        result = b\n",
        "        result.down = merge(a, b.down)\n",
        "    return result\n",
        "\n",
        "def flatten(head):\n",
        "    if head is None or head.right is None:\n",
        "        return head\n",
        "    return merge(head, flatten(head.right))\n",
        "\n",
        "# Test the function\n",
        "head1 = Node(5, Node(7, Node(8, Node(30))), Node(10, Node(20), Node(19, Node(22), Node(28, None, Node(35, None, Node(40, None, Node(50)))))))\n",
        "current = flatten(head1)\n",
        "output1 = \"\"\n",
        "while current is not None:\n",
        "    output1 += str(current.data) + \"->\"\n",
        "    current = current.down\n",
        "print(output1[:-2]) # Output: 5->7->8->10->19->20->22->28->30->35->40->45->50\n",
        "\n",
        "head2 = Node(5, Node(7, Node(8, Node(30))), Node(10, None, Node(19, Node(22), Node(28, None, Node(50)))))\n",
        "current = flatten(head2)\n",
        "output2 = \"\"\n",
        "while current is not None:\n",
        "    output2 += str(current.data) + \"->\"\n",
        "    current = current.down\n",
        "print(output2[:-2]) # Output: 5->7->8->10->19->22->28->30->50"
      ],
      "metadata": {
        "colab": {
          "base_uri": "https://localhost:8080/"
        },
        "id": "yk1bBpvLekPZ",
        "outputId": "4fc69d1b-16fa-4ef5-8ffe-57ca1b41c828"
      },
      "execution_count": null,
      "outputs": [
        {
          "output_type": "stream",
          "name": "stdout",
          "text": [
            "5->7->8->10->19->20->22->28->30->35->40->50\n",
            "5->7->8->10->19->22->28->30->50\n"
          ]
        }
      ]
    },
    {
      "cell_type": "markdown",
      "source": [
        "<aside>\n",
        "💡 **Question 4**\n",
        "\n",
        "You are given a special linked list with **N** nodes where each node has a next pointer pointing to its next node. You are also given **M** random pointers, where you will be given **M** number of pairs denoting two nodes **a** and **b**  **i.e. a->arb = b** (arb is pointer to random node)**.**\n",
        "\n",
        "Construct a copy of the given list. The copy should consist of exactly **N** new nodes, where each new node has its value set to the value of its corresponding original node. Both the next and random pointer of the new nodes should point to new nodes in the copied list such that the pointers in the original list and copied list represent the same list state. None of the pointers in the new list should point to nodes in the original list.\n",
        "\n",
        "For example, if there are two nodes **X** and **Y** in the original list, where **X.arb** **-->** **Y**, then for the corresponding two nodes **x** and **y** in the copied list, **x.arb --> y.**\n",
        "\n",
        "Return the head of the copied linked list.\n",
        "\n",
        "![1.jpg](data:image/jpeg;base64,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)\n",
        "\n",
        "**Note** :- The diagram isn't part of any example, it just depicts an example of how the linked list may look like.\n",
        "\n",
        "**Example 1:**\n",
        "\n",
        "```\n",
        "Input:\n",
        "N = 4, M = 2\n",
        "value = {1,2,3,4}\n",
        "pairs = {{1,2},{2,4}}\n",
        "Output:1\n",
        "Explanation:In this test case, there\n",
        "are 4 nodes in linked list.  Among these\n",
        "4 nodes,  2 nodes have arbitrary pointer\n",
        "set, rest two nodes have arbitrary pointer\n",
        "as NULL. Second line tells us the value\n",
        "of four nodes. The third line gives the\n",
        "information about arbitrary pointers.\n",
        "The first node arbitrary pointer is set to\n",
        "node 2.  The second node arbitrary pointer\n",
        "is set to node 4.\n",
        "\n",
        "```\n",
        "Example 2:\n",
        "```\n",
        "Input:\n",
        "N = 4, M = 2\n",
        "value[] = {1,3,5,9}\n",
        "pairs[] = {{1,1},{3,4}}\n",
        "Output:1\n",
        "Explanation:In the given testcase ,\n",
        "applying the method as stated in the\n",
        "above example, the output will be 1.\n",
        "```"
      ],
      "metadata": {
        "id": "GWGY-S7ggjAF"
      }
    },
    {
      "cell_type": "code",
      "source": [
        "class Node:\n",
        "    def __init__(self, data=None, next=None, random=None):\n",
        "        self.data = data\n",
        "        self.next = next\n",
        "        self.random = random\n",
        "\n",
        "def copy_random_list(head):\n",
        "    if head is None:\n",
        "        return None\n",
        "    mapping = {}\n",
        "    current = head\n",
        "    while current is not None:\n",
        "        mapping[current] = Node(current.data)\n",
        "        current = current.next\n",
        "    current = head\n",
        "    while current is not None:\n",
        "        mapping[current].next = mapping.get(current.next)\n",
        "        mapping[current].random = mapping.get(current.random)\n",
        "        current = current.next\n",
        "    return mapping[head]\n",
        "\n",
        "# Test the function\n",
        "head1 = Node(1, Node(2), Node(2))\n",
        "head1.random = head1.next\n",
        "head1.next.random = head1.next\n",
        "current = copy_random_list(head1)\n",
        "output1 = \"\"\n",
        "while current is not None:\n",
        "    output1 += str(current.data) + \"->\"\n",
        "    current = current.next\n",
        "print(output1[:-2]) # Output: 1->2\n",
        "\n",
        "head2 = Node(1, Node(2), None)\n",
        "head2.random = head2.next\n",
        "current = copy_random_list(head2)\n",
        "output2 = \"\"\n",
        "while current is not None:\n",
        "    output2 += str(current.data) + \"->\"\n",
        "    current = current.next\n",
        "print(output2[:-2]) # Output: 1->2"
      ],
      "metadata": {
        "colab": {
          "base_uri": "https://localhost:8080/"
        },
        "id": "t9M1eEM7fdLC",
        "outputId": "c0a3c2af-a113-488f-c45c-01c6562cd315"
      },
      "execution_count": null,
      "outputs": [
        {
          "output_type": "stream",
          "name": "stdout",
          "text": [
            "1->2\n",
            "1->2\n"
          ]
        }
      ]
    },
    {
      "cell_type": "markdown",
      "source": [
        "<aside>\n",
        "💡 **Question 5**\n",
        "\n",
        "Given the `head` of a singly linked list, group all the nodes with odd indices together followed by the nodes with even indices, and return *the reordered list*.\n",
        "\n",
        "The **first** node is considered **odd**, and the **second** node is **even**, and so on.\n",
        "\n",
        "Note that the relative order inside both the even and odd groups should remain as it was in the input.\n",
        "\n",
        "You must solve the problem in `O(1)` extra space complexity and `O(n)` time complexity.\n",
        "\n",
        "**Example 1:**\n",
        "\n",
        "![2.jpg](data:image/jpeg;base64,/9j/2wBDAAYEBQYFBAYGBQYHBwYIChAKCgkJChQODwwQFxQYGBcUFhYaHSUfGhsjHBYWICwgIyYnKSopGR8tMC0oMCUoKSj/2wBDAQcHBwoIChMKChMoGhYaKCgoKCgoKCgoKCgoKCgoKCgoKCgoKCgoKCgoKCgoKCgoKCgoKCgoKCgoKCgoKCgoKCj/wAARCAD2AlgDASIAAhEBAxEB/8QAHQABAQACAwEBAQAAAAAAAAAAAAcFBgEECAMCCf/EAE0QAAEDAwIDBQMIBwUFBwUBAAEAAgMEBQYHERIhMRNBUWFxIjKBCBQVFlaRlNEjM0JSYqHBJEN1sbM2N3Ki8BclNFNjkuEYRHOC8ZP/xAAYAQEBAQEBAAAAAAAAAAAAAAAAAgEDBP/EAB0RAQEBAQADAQEBAAAAAAAAAAABEQISITFRQQP/2gAMAwEAAhEDEQA/APVK+NXUw0lPLUVU0cFPE0vkllcGtY0dSSeQCVdRDSU01TVSshp4WOkkkedmsaBuST3AAbrz/DFc9dr4+qrH1FBpzRzFsMDSWvuTwfeP8KDOXLWG45FXS2zSnH5r3I0lj7pUbw0cR8i7Yv28OXluvg/AtSMjZKcqz5lBFMBxUVrpA6MeW7tj/mqxaLZRWe3w0NqpYaSjiaGsiiaGtaF3EENHyfKeN/aw5fd46kcxL2TDz9F334xqxjRM2P5hR5BAxuwpLrT9kSB3NLeW/qQrGiCYYxrNT/S7LHqBaqjFL048MZqTxU0x/hlHL7+Xmq23nzH3rWssxiz5baZLbf6KOrpnj9oe0w+LT1BUrxW83bSPKaTE8qq31uJV7+C03SU84Hd0Uh8P+u9BekXC5QEREBERAREQEKHotD1dz6LBMfifBD88vde/5vbqJvN00njt+6Nxv6gd6DI59nlgwW3CqyCtEb5OUFNGOOac+DGDn5bnYc+ZUulzHU7Nw443aqXFbQ8ENqrlu+oeO5wYB7J8iD6r94Hp9LHXnJ85l+lcrqT2hdJzjpAejGDy6bqkrpzx+rnP6ktdpTe77wPyjPbnXygbbMpmMaPIHdcW/SW7WNxlxnO7pQT7Ebup2PB9efRVtFXjG+MTKPKNU8IaH3qhosvtMY9uai3jqmjfmS0j2jt3AfFUzT3UTH88o3yWSqcKqIf2iinbwTwHwc315bjcea5U9z/Txt0qmX/FZvojLKY8cNVEeFsxH7Mncd+m6m8fjLz+Li3ouVO9HtQTmlrqaS6wChya2O7G4UZ5EOHLjA/dP+aogXNAiIgIiICIiAiLg9UA9VMcv1coLbdX2LFaCpyfIxyNJQ/q4T/6svutH37d+ywmd5Dec9yqpwbCal1HQ0uwvd4j/ugf7mM/vEdfDmO4rfsMxCy4baW0Fho2QR9ZJDzkmd+893UlBoYs+rWT7S3bI7bitM7pTW6H5xMweDnH2SfQr4u0WrJiZKrPL5LUd8ghjHP0VhRBI24NqNYgH41qA2vaz3aW7UYEfpxM3P8AJfWi1bueM1cdDqpj8tlD3cDLrS7z0bz/ABEc2b+BVXXXuNFS3Kimo7hTxVNLM0tkilaHNcD4hB3aOqp62liqaOaOenlbxxyxuDmuHiCOq7CgVbR3DRC7fStnNRW6fVMg+fUJJe62lx27WP8Ag3PMf/CutDVwV9FBV0crZqadgkjkYdw5p5ggoOwiDoiAiIgIiICIiAsXkd+teNWma53yuhoqGIe1LK7bn4AdSfIblfHL8kt+J45W3q8SiKjpWcR583nua3xJPIBQvHscuWpl1jy/UKNwt5PHa7KSezij7nvHeSNj5rZNbJrL1Gq2XZlK6PTTHRBbd9heLxuyN48WRjmR3g8/MBdCp09zHIKfhyzUGrlYXcRp6SlZ2bT5E7Hb4KqRRsijbHExrI2jZrWjYAeS/S6Tif1c5iP0uistumbUWnMbtR1TTxNk7Fj9j6LJsl1cxJxmprlb8wog7ifBUt7CoI8GuHsj7yqaieEPGMLp7q5ZcrrvoiuhnseRt5Ptte3gc4/+m48nj7jy6bKkt6qS57gtozOh4K6PsK+LnTV0Psywu6gg+G/cuppDm92pMgkwLPHg3yBnHQVx92vhHge9wA3+B8FHXOIsxZkXAXKlgiIgIiICIiAhQqZar5xcLbWUeKYdE2qy25g9nvzbSRd8z/Dbu3QZXUDUuxYXJHSVTpq68zD9BbKGMy1Ep7vZHT4rThUat5gO0iFswy2v5tbJ/aavbuPL2R6HZbJp1pzbcPifVzOdcshqd3VlzqPakkeeuxPut8lvCCPy6PXaud2l41CvVZOeZc2njjH3c1+o9M8xs7eLG9R65pB3EFZRsdG71IO/8lXkQSP6/wCc4Q8DULHI7lawdnXeybvDB4viPtAeJVSxjI7TlNoiudhroa2ik6SRnmD4OB5tPkRuuy4BzS1wBaRsQRuCo/mWD3DD7rJmWmMfY1bSX3Czt5Q1zOri1vc/qUFuHRFruBZXb80xikvVrcRFMNpIne9DIPeY4dxB/oiCb69V9Vkd6x/Te0Slkl4k7e5SMPOOkjPER5cRHL/h271UrRbaSz2ult1uhZDR00YiijaNgGgKTaZObkWtefZG6UTxUTYLbSP26RkcZ2+Lf5qyICIsZkd8oMctE9zu03Y0kO3E7bck9wHmgyaBRDEdTbvlGq9NQwiSisUsTnMppImh8gAJDySNxv5HZW9AWu6gYpR5piddZa5oImZxQyd8co91w8wf81sSIJ38n7J6u9YjNaL07/v2wTm3VYPVwbyY/wBCBtv38JKqKidlb9XvlPXWlY8R0uQ2hlW5gHJ88buAD1DeI/FWzdARN03QETdN0BFwStMOpGP02X1OM3Wp+jbtEQY21Pssna4btcx/Q8u47bHkg3GWRkMT5JXBsbAXOcegA6leecDDtQdRbzntxbx0FHIbdZWHm1rG+9IPM78j/EfBUzXC9Psuk+Q11LOI53UxjheOe7nkDl8CVhtM7RHYsAsNBGAOCkY93m544zv8XKuJtVzPbZkRF2dBFF87zbL7tn0uHaeimpqmmjD6isqGg7HbfYcQIAG/gV9dM83ylmdVWF52yCa5Rw9tHVQAAOHLrtsCOfcB0U+U1mrGiIqak+qcMuF5VaNRbQzYwSNpbrG3++gdy3PmBy37tgvQVHUxVdLDU0z2yQTMbJG9p3Dmkbgj1BCn2YWqO+YrdrZPt2dTTPjO/dy6r4/Jwu8l40dsLqmQvqqVj6OQHq3s3ua1v/sDVy7mVz6ntTURN1CRE3TdARN1jsgun0NZa25Op5aiOkjMz44Ru8sbzdwjvIG5279tkGRWg62ZbNiWEVE1vHHd61wo6FgG5Mr+QO3eB1Waw3N8fzKibU49coKoEe1FvwyMPg5p5qfZ6Pp7X3CrLLs6lttLLdnt23HaAlrd/uCDa9LsPhwnEKS1t9utcO2rZyd3TVDub3E9/Pl6ALbURAT/AK2XUu9Ybfa6qsbC+d0EbniJg3c8gcgPVQatyzVKOyzZbIaKjssTzvQSxgO2B26FvEf/AHIPQiLDYbe/rHjFuu3YmA1UQeY/3T37eW6zKD4V1JT19FPSVkTZqadjo5I3DcOa4bEfEFSvReoqMSyy+6cXCV8kFJ/bbRJIdy+med+DfvLd/gq2pLqyPoXUvTnJIjwOfXG1TuHfHL3n70FnRN03QETdN0BE3TdAQrUcuz+zYheLfRZHI+iguDXfN6xzd4S9u27HEe6ebdvHc+C2IXGkfbnV8dRFLRtYZDLG4Obwgbk7hBCs7k/7SdY4cccRJjeMgVNa0Hds1QejD6HkR6qogAAAcgOXJS35PcUlVityyGrdx1t6uM1TK89Ts4gKpLtzMjpzBEXxrKmGjpJqmqkbFTwsMkj3HYNaOZKpT7BFBdPtVLxmGsclBDUGLHXMkMNOY27uDQdnl23Fz69dlelkusl0U+1nxmW842262k9lf7I759QzNHtbs9pzPMEDp4gKgpy7wCO8EbgrbNL7djTTKYsywq13uLhD6iICZgO/Zyjk5p+K2hRH5Orjab5nmLGbeG33LtqeM9zHglxHlvsravO5OUTdN0BE3TdARfl7iGktbxHbkPFadimpGO5HX1NthqxSXilkdDPQVX6OVrmnY7b8nDfoR1HPZBsGT3mmx7Hrjd6521NRQPnf58I32HmTsB6qY6F2KoloKzNr+0uv+ROM+7hzgp992Rt8B0O3kvp8pWZ9RiVmx+NxH09eKahlAOx7Mu4nH/lCplNAylpoqeJobHEwMa0DYAAbIPoiIOqAiheWZTmd11Fu1mw+90VvpKCNnH877JrA7v8Aacxx35jl5Kgaa02YwU1W/NrlR17pC00rqYsIDee/NrG+Xig3RERBHY2f9mmtMPYDs8azDcPZvsyCubz4vAcQPxPoiyvyiaD5xpnVXCJv9qs9RDcYSOvEx4B/k4/ciDWvkth0dJmEU24qWXBnab9fc5K5KOYc8418oTMbJOWMhvtNFc6UDkCWeyWjz2Lj6BWNAXWuFBSXKn7Cvp46iHiD+zkG7dx0O3euyiCITNaz5TNO1jQ1jaLYNaNgBwu5BW9T2XBq9+rseWiqpfmLYOyMPtdrvsRv027/ABVCQERBz5IILqzS3iv17xCnxeugobsLfM8TzR9o1jdz1aPito+rOr322sv4A/mujhchyf5R2UXiItkobFbo7Ux3cZHu4yR6bOBVtQSD6s6vfbay/gD+afVnV77bWX8AfzVfRBIPqzq99trL+AP5p9WdXvttZfwB/NV9EEfOM6vfbay/gD+a89fKKt2TTZfabVfLlS3+/CD2I7dSOa+NhO4aQNySeo5dF7lIWIocctVDdqy6U9FCLlVu4pqlzd5HbdBuegA5AIPHt1xTUqx6P1MuV3AxWETwObbqh3azN9r3t/2B5bn0C9PWYh1mt5Z7ppotvTgC7Wr1kkyHTTIrZBw9tNSOLOL95vtD/JafpBe23/TiyVYIMscAp5W/uuZ7Ox89gD8Vf+dVy3FERdXRpuoWX2XBaL59PTRS3ap3ZTQQxjtp3Hu3A32371q+k+IXmTI67OMya2K8VzeCClb/APbx+B89gOX9Vg830pza/Z9NklvyK2Uj2O2o93ScULByA9wjdbHgeJ6jWrJIKvKMxiulsa1wfTNkkcXE9DsWAfzUe9T71U/VEXKtT5z8qeXfpwO/yUN0LsufXDFK+oxLI7fbbU+5T8ENRSmRxO43cD4Kp6h3xmOYTeLm9zQ6GncIwT7zyNg0eZWR0BscmP6RY3R1AAnfTmpft1/SuMg38wHAfBc/9K591gfqzq99trL+AP5p9WdXvttZfwB/NV9FzSkH1Z1e+21l/AH80+rOr322sv4A/mq+iCQfVnV77bWX8AfzXyqrBqxTU009VnFijp4mF8j30J4WtA3JPPpsrIuleLZS3i21FBcIxNSVDeCWMnYPb3tPkeh8kH898IxnMMiyuWowWCr7Vs7iK2n3gibz6lxOwHfw7k+S9HYBRZDa9d4qXNLlT3K8mw/r4GcLSA47jflufPYeivttt1JbKOOkt1NDS00YDWxxNDWgfBSTVR31c1iwTJ5Dw0lQJLRUPPRged2k/EoKwiEbHYog61xr6a2UU1ZXztgpom8UkjujR4qS6r48M6srcosl+bLbqSnc8Ujmv7Go4TuS48Q28PdVZutBT3S21NDWM7SmqI3RSN8QRsoodGskpmTWi3ZcYsZmcS+nIcHkE8xwgbfzQUTSTIG5JgtvrW0sVIWAwGKIbMBZy9kdw5LcVicUsFHjFhpbTbgewgbtxO6vPUuPmSssgKPfKXZPNjuNwUEjYrhLeYG0z3Dfhk3Gx2VhUk1Ed9YdZsCxyEh7bdK681O3MM4B7APqg7P1Z1e+21l/AH80+rOr322sv4A/mq+iCQfVnV77bWX8AfzT6s6vfbay/gD+ar6IJB9WdXvttZfwB/NPqzq99tbL+AP5qvpsg8jfKQoMyt2G0cGY5Ja7o2pq2ilpaejLJS8A7uB36AHY/wDEFgdK8I1TpcculZR1M1nsLqOYyQV257dnAd2siPME+Ps/HovYFZjlqrr1T3auooaivp4zHBJK3i7IHrwg8gTy3PkFlHsa9jmPALHDYtPQjwQQ/wCT+5rtJrJwdweHbeIdzVDUq0Ec+1UeRYlVOb87sdylZsP2mOcTxem6qq78/HWfBQ3X7L6U3e3YbV1/0ZbqktmuVWWud+h39xoaCdzt4K5LXb7hGM3+u+eXux0VdV8IZ2szSXbDoORS7/CvPOP5ViFr12juNvr4osejpG00MzYZA3fs+EDbh4uvfsvU7HB7Guad2uG4Pko5Donbo9S3Xj5lafq12ezLds/iD+Hbi22268+qsbWhjQ1o2aBsAs5ljOXKIvzLLHBE+Wd7WRRtL3uPRrQNyT8FSkSsduym565Zv9SrvSWySOONtRJUQGVr+Y5ADoVQPqzq99trL+AP5rpfJpjluceX5XMG8N6ubjD48Ee4+47q2LhXG/Ug+rOr322sv4A/mn1Z1e+21l/AH81X0WCQfVnV77bWX8AfzT6s6vfbay/gD+ar6IJB9WdXt/8AbWy/gD+a8t6h2fJb5q7cqOgk+nMgikYyeptkBjb2gaBvvv7O3JpJ25gr+gL28TS0nkRtyWMsGPWvH6d8NoooaYSOMkjmN9qRxO5c49SSeaDzKbHnVgrdN26g3WGsiN5Y2ng/WSQEsIAfJ0Ppz9V6jPU+qmnylKGZ2n9PeaVhkqLBcae6Na3qQx2zv5O3+CoFprobpa6OvppGyQVMTZWOb0II3QdpCeEEnkAN0RBDLZpdieZXu+1f1lq7lK6YmVlK3shC8k8nbg8W223d0XZ0Cra2iveSYxPUvq6O3SDsHvO/Dz22/n/Jfe/6TXmnyGsueDZF9DiuJNRC4uA59QC0Hl3rcdNMFpsJtk8bah1XX1TuOpqXDYvPgPJBuSIiDTdZHMZpXk7pfdFE4Hf1G380WvfKLrScGgsFOeKsv9bDQMY33iwu4nkenCN/VEH7+UBYK/5pac2x1hfesZmNQY2jnNTHlKz7ufpxLd8OyOgy3HKK82mQSU1SwHbvY7vafAgrZdtxsRuPBQbIMevekmQVeR4XSSXHEqt3a3KzM5ugPUyReX/XNBbUWu4VmlizS2trLBXRz7j24XezLGfBzeoK2JARE69Bugf5eK0nVvNYsJxOWqjHa3WrPzagpmn2pZnchsPAb/5JqHqTYcJpwyslNbdZPZgt1N7c0ru4bDoFrmnWEXu/ZO3O9R2htyaNrZah7lAzuJH76DZ9E8Pmw3B4Ke4OMl4rpHV1wkPUzSbEg+g2Hrv4rf1xsVygIiICIiAiIg4cNxseYPcvO9Iw6W6sVtlrC5mM5NKau3zO9yKp/bjJ89x97V6JPRazqHhttznGZ7RdWuaCRJBOz34JR7r2nxH+RK2XGy46y4UlsmX3bT+4RYxqa17Y9+CgvjQTDUM7g89xVXp5oqmBk1PKyWF43a9jg5pHqF2lldJdftERa0XK/EsjIYnSzPbHG0bue8hoHqSpXkWc3LLblJi2l0Rq60ngq7tt+go29CQe9yy3GW4+WVB2p2pFBhdvc51ktMjau8zsPslwO7Ytx3/13XoljWtaGsAa0DYADYALUtMsFt+BY2y20DnT1Eju1q6t/v1Ep6uP9PJbeFxt32526IiLGCIiAiIgLUtU8SjzXCrhZy4MqHAS00n/AJczebHfettXB6oJro7mEmT42aS7NMGR2h3zO507+ThI3lx+jtt9/Hdb8prqZgt0Zfo82wB7IMngYGVNM47RXGIfsOH7wHQ+nkshgGpVoywvopg+1X+A8NTbKz2JGO7+Hf3h5oN6RDy6ogIiwWX5ZZMQtj67IK6KliaPZYTu+Q+DW9SUHbyS90OOWOtu92mEVHSRmSR2/XboB5k8gFoOhdnr7hNd89yGF0Nzv7t6eF45wUg9xvxGxWGtdlvWsF7pbzlNJLbMIo5BNQ2mTlJXPHSSYfu+SujGBjWtaA1rRsAOgQfodEREBERAREQEKIggmsNLPgeoVBqFRxyPtFW1tDeo4xvwt6Mk+HL4hUelqIaumiqKaRssErA+ORh3Dmkbgg+i2i622lu9sqbfcoGT0dTGYpYnjcOaRsQV56ey9aI3B9LXx1V20+lefm9Wwcctv3PuP8W/9clfPWelc3FhRdGyXe332gjrbRWQ1dNINw+J2/3+C7y6ugnci5/p3+CBspjrLe6upjo8Hxwukv8Af3dieDn83p/7yR3gOHf4brt5tqTT22sFjxanN8yio9mGlp/aZGfGQjuHgti0f05nxp9XkOT1Ar8uuQ/tM/VsDOvZM8um/oPBR11/EdVu+HWClxbGbbZaEfoKOFsQJ6uI6k+p3WZXAGxXK5IEREBERAREQdW6UNPc7dVUFawSU1TE6GVh/aa4bEfcVHdG7jU4teK/TbIHkVVvLprVM/kKqlJ3Ab5t8PVWwrRNVMBizO301RR1LrdkNud21uuEfJ0T+ux8WnvCDbkUtwvU58dxZjOolOLHlEfsB8nKnrNuj43dOfgqkCC0OaQWnmCOYKAiIgL8vc2NjnyODWNBc5xOwAHUlda6XGitNDJWXSrhpKWNvE6WZwa0BR243e86zVT7NigqLZhLXcNdd3t4X1gHWOIfunx//iDuYYXal6rz5YWuOM46HUdqLvdnqD+slHkBsPuRVzH7NQ4/ZaS1WinbT0NKwRxRt7h4nxJPMnxKIMkuO9cogl2Y6L2C83B12sc9Vjd96irtjuAOP8bByI5d22/esG206049xso7rjuS0kfJjq2N0E7x6N9kfElW1EEP+smszz2bcItDH9O0fWbt9dgd1+5cV1fyZxivmUWfHaF49plogdLIfIl+23qCraiDQMD0oxnDZ3V1NBNcLw87yXG4P7acnyJ5N9QN/MrfhvuuUQEREBERAREQEREBD0REGOv1ltuQWyW33qigraKT3opm7jptuPA8+o5qP1mit0sE0lRppltZaWHd30dWt+cU5Pg0nmwfAnzVxRPggkw1otQbHPZMcu4A/WUk72E+vHtz+CQO1nuZMcGP47adx+srJ3P29OAn/JXtFvlW+VQ2m0ZvuSSMl1KzCqroO+225ogh69C7q4eoB81XMcx+04zbY7fYbfBQ0jByZE3bfzcerj5nmssixgOiIiAiIgIiICIiAiIg4K07OtN8czUMlutI6K4R/qq+ld2VRGe7Z46/HdbkiCNMw3VDGto8YzCgvVE39XT3yAhzR4dozm71K5+l9YozwSYtjsrhy7SOseG/ceasiII2bXrLfPYq7rjeOU7uXHRRPqJmj/8Af2Vl8U0csVquLbrfqiryW9jmKq5v42sP8Efut/nsqaiD87bcu5fpEQEREBERAREQEREBfKogiqYJIKmJksMjeF8cjQ5rh3gg9QvqiCOX/Q2hZcJLlgd5rsVuDzxOZT/paZ584iR19dh4LEPt2tNlj2dFjV/jB2DmufFM4eJHJoV6RbtbtiBR1uslW8RRYjZaNx5drU1XE0eoad12GaY6g5O7hzbMobfQcXt0VjiI4x3jtHbOb9xV1RPKm1qmCYDjuDUZgx+3tileP0tTJ7c0p5c3PPPu6DYeS2oLlFjBERAREQEREBERAQ9ERBgcuxKx5fbXUORW2Ctg/ZLxs9h8WuHNp9FNxplmOLk/UHNpjRA7tt15j7dg8AJBs4Dy2VmRBG/pHWak/R1GPYvXOH95TVUjGn4OQjWi7ew2HFbJCeshdJPK30Hun4qyIgkVt0XiuFdHcNQ8guGVVjCHthl/Q0rT49k3r9/wVWpKWCjpoqakhjgp4hwsjiaGtYPAAdF90QB0REQEREBERAREQEREBERAREQEREBERAREQEREBERAREQEREBERAREQEREBERAREQEU+1uyy7YhidPV2BtMa6orIaVhqGlzW8btt9lr4ptauX/AHjjH/8AiUFhRTHRzK8ivlyyi05YaJ9dZ6tsHaUrOFpBaCqcgIiICIiAiIgIiICIiAiIgIiICIiAiIgIiICIiAiIgIiICIiAiIgIiICIiAiIgIiICIiAiIgIiICIiAiIgIiICIiAiIgIiICIiAiIgIiICIiAiIgIiICIiAiIgkXyl/8AY+zf4zSf6gVbZ7rfRST5TH+x9m/xmk/1Aq4z3W+iCRaN/wC8jU//ABRn+mFXlIdG/wDeRqf/AIoz/TCryAiIgIiICIiAiIgIiICIiAiIgIiICIiAiIgIiICIiAiIgIiICIiAiIgIiICIiAiIgIiICIiAiIgIiICIiAiIgIiICIiAiIgIiICIiAiIgIiICIiAiIgIiICIiCRfKY/2Ps3+M0n+oFXGe630Uj+Ux/sfZv8AGaT/AFAq4z3W+iCRaN/7yNT/APFGf6YVeUh0b/3kan/4oz/TCryAiIgIiICIiAiIgIiICIiAiIgIiICIiAiIgIiICIiAiIgIiICIiAiIgIiICIiAiIgIiICIiAiIgIiICIiAiIgIiICIiAiIgIiICIiAiIgIiICIiAiIgIiICIupLcqGGR0ctbTRyN5FrpWgj4boJb8pj/Y+zf4zSf6gVcZ7rfRRr5SFdR1GJWZlPV08r/pmkPCyRrj+sHcCrIz3W+iCR6N/7yNT/wDFGf6YVeUa0krKal1I1O+c1MMJNzZt2kgbv7A8VWW3W3uc1ra+kLnHYATN3J+9B3ETdEBERAREQEREBERAREQEREBERAREQEREBERAREQEREBERAREQEREBERAREQEREBERAREQEREBERAREQEREBERAREQEREBERAREQEREBERAREQEREBERAK8z6y6e2zG84jzK50dVcMTrXiO6QxzOD6ORxAEzdv2d9tx3fEL0wvhXUsFdRzUtZCyemnYY5Y3jdr2kbEEIJhZNGtPJhQXW3UTqmIFlTTyfOXSMdsQWnrzVUA5eShmO1VRozmEWNXaV8mEXeY/RVZIf/AAUx/uXn909x/wDlXMc+e+4QTvItHsKvV3q7vcre9tXUO7SeRk7ow4gc3Hb0UfxPTrH821J+cYrTVNLh1il4Z6z5w5xuFQCDwM5+4NuZ/MLfdSL5X57kkmneHTmOCPZ19ucfMU0R/uWn993/AF0KquNWOgxux0dptEDaeipYxHGxv8yfEk7knxKDJNaGgNaNgBsAv0iICIiAiIgIiICIiAiIgIiICIiAiIgIiICIiAiIgIiICIiAiIgIiICIiAiIgIiICIiAiIgIiICIiAiIgIiICIiAiIgIiICIiAiIgIiICIiAiIgIiICIiAiIgw2Y43bctx2sst6hE1HVM4XfvMPc5p7nA8wfJQcZVn+L079M46SWvyR7uwtV4Ld2GlPLtXnpxMHj4c9+/wBIr8mNhkDyxpeBsHbcx8UGq6aYVQ4NjUVtpHGepeTNWVb/AH6mZ3Nz3HqefTy2W2IiAiIgIiICIiAiIgIiICIiAiIgIiICIiAiIgIiICIiAiIgIiICIiAiIgIiICIiAuCeaOcACSdgOZJ7lA73fr3rDkFXYMRq5bbhlI8xXG7R8nVR6GOPy6/1QbTlutNktlydZ8apavKL90+a2xvGxh/jkHIDxI3271hm1mtWQiR8NLjuMUsg3bHUvdPOwerdxv6gKg4bh9jw61sobBQx08YHtSEbySHxc7qSs+gjYxHV9h7Rmf298nXs30p4D/y7r6SZDrFjLnS3awWXJqFg9o2uYwyAeOz+ZPkArAiDSsD1axvL6s25kk9qvjOT7bco+xm38ADyd6A7+SoIPNaDqFpzYc4pNrjB83uEfOCvp/Ymhd3EHvHktW09zW941lLME1Gk7Wtk52u7fs1rO5rj+/8A/wAKC0IuN1ygIiICIiAiIgIi1bUfNLdguMzXe5lzzuIqenZ788p91jfu+4IMtkN+tmO2uW43yugoaKP3pZnbDpvsB1J5HkNz5KSy6v5BlMj4dMcPq7jT82i6XAinp9/3mg++PiD5Lq4ngF0zm4Q5ZqqXTSE9pQWTc9jSsPTjb3nbu+9WeCKOCFsUEbIomjYMYNgB6IJDJZtaLsGPrMox60nb9VRQPcR68Q6pFYtZ7XxSUmWWC6Hb9XXU72g+nCFYUQR5mrOVYk5rNTMNqKekA9q6WtwnhHP3nNHNjfU7+Sq2MZLZ8ptbLjj9wgrqR/7cR5tPg5vVp8iAV2ZGMljdHIxr2OGxa4bg/BR7MdNq7G7lLlmlT/mF2Zu+qtTT/Z61nUjh7nILgOiLT9MM7oc9x1twpGOp6uF3Y1lI/wB+nlHVp8vArcAgIiICIiAiIgIi4JQCtLzvUzHMLc2nuVU+pukn6q20bO2qZD3DgHT47LW9S84u1TkLMH0+a2TI5WB9ZWu5x22I/tO/jI5geYKy2n+m9nw9r6pofcb5P7VTc6s8csjj12J90eSDXBleq2TbSY9i1tx6id7k97nLnuHiY2c2nyK5+gNXpPbkzKxxSfuR0Ti0ffzVYRBJzWazWPaSWmxrJado37KmkdTTO+LxwrK4vrJZq65MtGT0lZi97dybT3NvBHIf4JfdI9dlQ1hcsxezZba5bff6CKrgeORcNnsPi13UFBswO4BB3HX1XKhFuu150bvdLa8jq5rpgdZIIqO5S85Le89I5T+55q6se2RjXscHNcNwR0IQfpERAREQEREBERAXxqqmGjppKiqmjgp428T5ZHBrWgd5J5BfC8XOks1rqrjcpm09HTRmWWR/RrQNyV56DbzrdXur7u+pteAxSf2SgYS2Su2Pvv8AJbJpjbL3rlTVVfLbdPLHW5TWxu4HzxfoqVh85D+Wx7isW+o1nvUW81wxywxk7hkbHyStHgTzaVv1ntVDZqGKitVJDSUsQ4WxxNAAC7i6Tif10nP6mMNp1fpHiWDNrZVubz7KqpiGH14RuuxHqPqRizuLMcSp7vQcXtVdkk9pjfKJ3N38lRk8fNPCHjH6wHUPHM6pXSWCva+ojH6aklHBPCe/iYfXqNx5rbRuohnOm9LeKpt6x2d1kyin9qCtpvZD3eDwOo81ntHtRarIairxrK6cUOX20fp4ttm1DOnas8um/qFHXOIsxUkTdFLBERAREQEREBEJWg6r6gR4ZQU1NQ05uGR3F3ZW+gZ1kd04neDR3lBncyzKw4bbjW5HcoKKLb2GuO8kh8GsHN3wCmUmqWZZMT9RcNfBRH3bhepBCD4ERD2iD4r5Ynp843FuR51U/TeTy+3xSc4aXwZG3py6bqhjkAByA7grnH6ucp46n1fqzx1OUY/RuPPgpaR7mj4uXLarWK1+3HX4zeYm9YpI5IZHeQPQfFUJFfhG+LTbZrWy3VcdDqJYK7GZ3uDW1R/T0jj/APkb0+74qtUVXT19JFVUNRFUU0reKOWJ4ex48QRyIWn19FS3Glkpq+niqaeQcLo5W8TSFL6igvGkFW68Yn84uGIOfxV9mc4udTg9ZIfIeCi8Ym849EDoixmOXugyOyUd2tE7aihqoxJG8eHgfAg8iPEIoSmnygL9XSU9owfHpHMvGSymB8jDzhpm85Xfdy8xxLesRx2gxTHaKzWmIR0tKwNG3Vzu9x8ST3qZ4U36y/KCzK+T8EkNkp4rZSubzA4/aLh58nD4qxoCIuvcK2lt1HJVV88dPTRjd8kjtgEHYRSfHtWfrJqXFY7PBA+zOY7+0vDu0e5o33bz2DfgqwgLTNWcLhzjEpqIfo7lTf2igqBydFM3mNj4Hb/JbmiDS9EMwmzDCIZbkCy82+R1BcGHqJo+RPxGx9d1QVEsOYcZ+Uhk1phDY6K/W2O6Nb3CRjuAgeZ3cSragIiICIiAiE7LC0OT2etvVZaIq6IXSkdwy0rzwyDfmCAeoI5ghBmXEBpJIAHMkqC43EdVNW6/I68OkxrGZTR2uF3uS1I/WSkdNxy/5fBUrWC9yY9plkVypy0Tw0jhHxH9p3s/1WN0WsLMc0wsFE1oEr6cVMru9z5Pb3PnsQPgg3Y80RED/NFL8/1Fu1uyVuN4fZRdbuIxLJ2m5Y0ddgARvy7913dMNQajKa2vtN7t30de6HnLE0nhI8hudiPUoKGiIgiOocDtM9SLdnlta5lmusraK+Qs93c8my7Dv/rv4q8xua9gcxwc0jcEHcEeS0/Umwx5Ngl7tMjWk1FM/gJ/ZeBu13wWP+T/AHuW/wCkOOVdQQZ44DSvA6jsnGMb+ezQfigoSIiAiIgIi6N5ulLZrXU3CveY6SmbxyyBpPA3vcdu4dT5BB3lqGq2XMwnCa+78IkqgBDSxf8AmTO5NH3rY7TdKG70UdXa6uGrppBu2SF4cCpNqi36x6y4JjMgDqSlbJeKhm/JwYdmg/EIM5o7h78Vxntrm90+Q3R3zy51D+b3Su58O/g3fbbx38VviE79eqICfFcOIa0ucdgBuVCqPU3UK+VVdJi+L0Nwt8E7omyhj99geW/6QbnbwCC7IsHhdZebhjtNUZLQMoLo7i7WnYNgzmdupPUbd6ziDHZDZqLILJWWm6wiaiq4zFIw+B7x5g8we4gKf6GXevtlXedP8gndNcbC7elnf1npD7jvhyCqKkmo7fq/rFgORw7MbXzOs1T3BwePZJ9O5BaEREBERAREJ2QEKw1wye0W29U1puNbFS1tUwyU7JjwiUA7ENJ5bjluPMLLSSNZG6R7g1jRxFxPIDxQQbV6pmz/AFGoNP6WR7bLQtbXXlzDtxjqyPf7viqRTwxU1PFBTxtihiaGMY0bNa0DYABS/QNj7nQZBllW1vzu+XKWQuHc1riOEeW6qi7cT06cwRFoGq+ojcJhoaaioTcbzcHcFNTA7A92525nmRy81Vqtb+iieP6tZJQ5Pb7PqHjbLT9IODKeaHiABJ2G4Lnb8yO8K2LJdZuimes1iqoqejzTHQY8gx93btLDsZ4B+sjd4jbf4cXiqYvzJHHLG+OZofE8Fr2no4HkR9yWaX2y+GZBTZTi9tvVD+prYWygfuk9QfQrNqKfJqfLbBmGKTOaWWa5nsRvz4ZNz93L+atYXByEREBERARfl7uFpOxOw32CxOO5NaMihkks9dDUmJzo5Y2u2fE4HYtc3qCDyQd2719Pa7ZVV9a8R0tLE+aVx7mtBJP8lC9KqSpye7XDUS+tJq7k50duifzFNSg7Dh/4vH1Wy/KXr5WafU9mpnlk1+uNPbAW9Q1zuJx+5u3xWxW6jit9upaOnYGRU8TY2tHQbDZXxNVzHZXCIuroLlalqbmdLg2LT3So4ZKg+xTQk/rJD0Hp3ldfSDLK3NMMhvFyhpoKh8r2FlOHBmw6dST/ADWb7xjdFw5rXNLXAFpGxB7wuUWtTfAp3ac6qS4s5zhjeRB1VbWk+zT1I/WRjwBGx+5E15pHNw2G+QbiqsVZDXscOvCHBrh6HiH3IuPUyuVnt8PktOc+jy+Wb/xDrgztN+vJnJXJRvTVrcc1uz7HXxCCKvZDc6RncYwOA7fF38lZFLBYvJLFQZHa3W67RGajc9r3Rh23Ft3HyWURBCaehpbd8pCkpaCnjp6aKi4WRxt2AHC5XZS6bE7y7XOLI20jfodtN2Zn7Vm/FwkbcO/F3+CqKAiJ16IILqzPeaTXvD58WpKesu5oJg2Gok4GObueru7vW0fTusf2Tx/8cfyXRsR+sXynbvVxsElJj1oZRF46Nmkfxj/l4h8FbUEg+ndY/snj/wCOP5J9O6x/ZPH/AMcfyVfRBIPp3WP7J4/+OP5J9O6x/ZPH/wAcfyVfRBIPp3WP7J4/+OP5Lzx8o2uyeLLbTccgoKGy33sPYfbaoue9gJAc4gAgjoOfRe5SFqDdO7BJl1Tk1xpBX3iYjglqfbbC1o2a1jeg2H3oPK9zyLU27aQTx5bQufj3ziANrqtvZTu9rk0Dq5vTmQPUr19Yw1tjtoZ7gpYtvTgC17W6yyXzSjIqGmhElQKUyQt8HM2dy+AK/Wk96jyDTfHbjE4Hjo2Ru58w5g4Hb/FqDbEREGu5NFJV0Fwp8ZqrdTZI6IiKVxYJI/N3Iu2+Cl+jhdYNQLzY8kp3yZPUt7Z9cJeNkzeuwGw26g/lsslnGEZRQZs/LMBlgfVzs4Z6WZwAJ22J9ogEHbpuu5pvg99hyqqy3NZ4X3mZnZxwQkERjlvvty6AbAEoKoiIg+dQN6aYHoWOB+5ebNDrnqDR4xcocPsdrr7S251HBLVVJjcDxcwBt0V7zi8RY/h15u05AZS0sj+feduQ9VrvycbPLZtHrAypjLKmpY+rk36u7R7nNP8A7C1Bi/p3WP7J4/8Ajj+SfTusf2Tx/wDHH8lX0QSD6d1j+yeP/jj+SfTusf2Tx/8AHH8lX0QSD6d1j+yeP/jj+S+dReNXZ6eWGqxDHH08jCyRslceFzSNiDy6bKxrHZBa23mzVltlmlgiq4zDI+F2z+A8nAHuJG437t0H8+cIv2YWXLpYMClrPnBmdtSUm80Thv0LSNi3+LYcu9ekcAq8jr9d4p83oKWgvQsP6mnfxtALjue8A+IBPqrLiGHWHEKBtJj1tgpIwPae0bvefFzupKneoB+gde8JvcmzKW5U0tpe48hxk8TSfvQVhE6d2yIMfkDZZLFXsp5oYJnwPYyWZ3CxjiNgSe4KCUuk+QWrFprhbcxY2Sm4p44KFxMLyP4wRufVpV8v1shvVmrbbVbiGqidE4t6gEbbhQ2lwzVCy2yoxe01FFJYpi5vzovaHMa489tzxD7igpGjWUVWWYRTVtxPFWxvdDK8ftkdHfEbLeVrenuLRYfi1JaYpBK+Pd8sg/beeZI8lsiAo98ph1RHjmNy0DGSXCO8wOpmOOwc/cbA+CsKkuq5+m9T9Ocbi9p0dabtO0d0cQ7/AF2Qdj6d1j+yeP8A44/kn07rH9k8f/HH8lX0QSD6d1j+yeP/AI4/kn07rH9k8f8Axx/JV9EEg+ndY/snj/44/kn07rH9k8f/ABzvyVfQoPI/ykazNa3DKOXNbDZrfHBVt+a1NNVl8okIO7QNuhA3P/CFr2lGV6q1GN3Smt9PPdMdFHMJZq/cNhZwHcxyHmSPD2vh1Xq3KsCsuWXm31+RQOro6Brvm9LI79C1ztt3lveeTdvDbzWxfMab5i+ibBGykcwxmJjQG8JGxGwQRbQANGk1k4NuYeT68XNUNS35PcslJi90x2rHBW2W4zU8rCeY3cT9yqS78/HWfBYHIrTjxqIr/fqamEtuHaR1cziOxA58uazyjGv+PZvlUlDbsZt7Z7PGO1n4qmOMSyb8muDnAkD+qUrEtfWaw6i2y40dJLT4lZJeNlTIOE1Lwd/Z9SPgr6oVj0mtNAaCh+gbJS2uJzGObF83HDHuN9tpOuyuyzlnLhEXPIc3EBveT0CpSH2Osyug1yzf6kWyhuEj4ozUMqpjE1vMcwR1KoH07rH9k8f/ABx/JdD5ObXXa853lJi2huVy7Knk8WMBDgPLfZW5cL9cUg+ndY/snj/44/kn07rH9k8f/HH8lX0WCQfTusf2Tx/8cfyT6d1j+yeP/jj+Sr6IJB9O6x/ZPH/xzvyXlrUa6ZLaNXrjU0cbbRkUkjHTU9pmdI3tS0HYbD2ieRI58yV/QJ7SWkNOxI2B8PNalimnmPY1WVVwpKJs92qpHTT11R7cr3OO55noN+gHRB56rbtnt3fp4dRLbDSxfS7TTzH2JpjwHYvjHIHz5HyXoV3U7rT/AJTNM+PDLVfomuJsV2pq6QtHPsw4tcP+YLa6adlTTxVERDo5WB7SDuCCN10/zXw+i/E0rIIZJZnBscbS9zj3AcyV+18aynjrKSemm3MUzDG7Y7HYjY810U83366W7UStyS/3a40MNqtVLNT2mimqWNfNLwneTgJ39OXgt5+THW0j9NqekZVU7qtk0j3QCVpka3ccy3fcDzXTv3yfsTFmr32inuT7kIXmna+sHCZNvZB3A5b+JC7ugumhw62uuN4pZabIJg6KVvzhsjOz3BG3DuN+Xiokup96riIitbU9WWsdprkYk24fmjt9/UIsPr1WGHT2e2xn+03eoht8I7+J7weXwai59X2jr67evdvqrBdrBqPZoS+ayS9jcY2DnLSP9k7+PDvy8OLfuVPstzpL1aaS5W2Zs1HVRiWJ7TyIKylTTxVVNLT1MTJYJmGOSN44mvaRsQQeoIKgINz0JvckckVRcNOKyUvY9gLpLY9x5g/w/wCfquaF3RdKy3Wgvduhr7RVw1dHKOJksTtwR/T4ruoCIiB37LWtRMso8KxKtvNa72o28MEffLKR7LR8V2cwyuzYfaJLhkFdHTQNHst33fIfBre8qYYlY7vqtlNLl+YUjqLGKF3HZ7TKOcp/82QHr3df6INo+T/i9XYsPlud6b/37fpzcatx6t4ubGegHPbu4iFUFwuUBERAREQEREH4mjZLE+OVodG8FrmnoQeRChOmkztO9SbzgFycI7dcJDcrJI7k1wd78Q7httyH8J8VeStH1YwOHOrBHFHMaO80Mnzi3VrfeglHn+6dhuPIHuQbWilGnepkprxieoUYtOV0/wCja6T2Yq0Do9jum5VXQEREBP8AJOql+pGp7bZVjHMMiF5zCpPBHBF7UdNv+3IenLwQYXWSrkzbLbRprZn7iWRtXeJWdIYG8w0+Z67d+4VypIIqWmip6aNsUELBHGxo2DWgbADyA2Wh6RYB9TLXUVNyqPn+S3N/b3GtdzL3nnwA/ujf+qoAQcoiICIiAiIgLQ9acSly/B6mnoCGXakcKuhf0IlZzA38+i3xcHqg0XSzMIs2xCkuO3Z3CP8As9dARs6GobyeCO7nzHkVtykme43ecJyqozvBqZ1XT1IH01Zm9Kho/vmD98Dr/wDJW84RmVlzS1itsVW2XblLA72ZYXd7Xt6ghBsSIiAiLq3O4UdqoZq251UVJSRAuklldwtaAg/VwrKe3UNRWV0zYaWnjdJLI4+yxoG5P3KW6KU1RleT33Ue4xOjjrz8ztUTxsWUrD72x6F23XvWJqqi5a4XYUFuZUUGnVLKDVVbgWSXRzTuGM/g36lXWipYaKkgpaSJkNPCwRxxsGwa0DYABB2B0REQEREBERAQoiDz9n8f/Zvq/T5OQI8byMClr3AbNhnHR59eRJ9VUQQQCCCCNwR3hZfLMdt+VY9W2a8QiWjqmcLh3tPc4eBB5gqE2O/3PS26x4nn73yWjfgtd74SWOYPdZJ4EDl+avjrPSuar6L8wyxzwslgkbJE8btew7gjyK/S6ugiIgKe60ZLNaseZZrR+lyG+v8AmNFE3r7XJz/IAHr3bhZXPs9tOG0g+dPNVdJhw01vg9qWZ3cNh0G6+GkGDXaW+S53ngByCpYWUdH1bb4T3D+Ig7HyJ8So66xPVb7pti0OGYXa7JDwl1PEO1eBt2kh5ucfUrZ1wOq5XJzEREBERAREQY3JbPTX+w3C01zd6atgfA/l0DhtuPMdfUKMaO3Wpo4a7Cb8S292B5ibxf39Pv7Eg8R05q8Hqpnq5gNZe5qTJcUmbR5bawTA88mVLO+KTxB7lvNytlxnUWmYHn1FkvHQV0TrXkVN7FVbaj2XtcORLd/eatzXaXXSUREWtEXDnBjS97g1rRuXOOwHx8FLsgym5ZxdJMT04cXuJ4LjeQD2VIzo5rT3uWWyMtx97HGNR9ZI6iL9JjeJb+3t7M9Y7lsO4hoHwPqireDYrbsMxmkstoYRTwDd0jvflefee495J/oO5Fxt1yrYF8qmCGqgkgqYo5oJGlr45GhzXA9QQeRCIsEavOj1VYK2a76XZBPj059uS3ygzUkp8NjuW7952d5bLRq75Qd+w+7yWjMLFbq+rhPC6e21D4mnz2e07/yREHcf8qO0iLibjdcX7dDUMA+/b+i+Ni1mzHUiult2FW+z2VwBLp6+V8z2jxbwtA39QiIKHimjNHDdWXzOLpUZXfAQ5j6scMEJ/gi6ffy8lWW+XREQcoiICIiAiIgIiICHoiINYzvB7DnFtFHkNE2bg5xTsPBNCfFj+o9OY8QpJeLXqDpVRS1NoyWiv+PwNLvmt4Y8TRt391r278R8yR6IiDXrX8qeme3guOLzslbyc6CrDgT6Fo2X6ufyp6OKPagxeokkPIGarawD7mlEQZyxxaias0Mc9TkNvxzH5wSYrWx7ql7e9pc7bh69QfgqxgOn+P4JRuhsVIRUS/r6uZ3HPOfFzv6DYeSIg20dEREBERAREQEREBERBwVNMy0ktd3uhvmO1tTjWRHn89oOTZT/AOpH7rv5b9+6Ign+S6k5xpjtFl0NlyClHuz0z5KeZ48XAtLQfRdSH5UdpdFxSY3XNftvs2oYR9+w/wAkRB+LZr9e8xuJtmH2G3UVSeQmudU97ef8LGD/ADW723SSsyKrhuOqGQTX9zTxx22AGCjjPm0c37eJ2REFcpKaCjp46akijggiaGsjjaGtaB3ADovuiICIiAiIgIiICIiAsbkFktuQ2qa3XujhraGYbPilbuPUeB8xzREEWuelmSYOZKvTjJwy278RtN3DpIWjmSGvaC4DwGw8ytDg+UXPQVktDfcfjkqInFr5aOpIaSPBrm/1RFUtbK7NV8pO3RxF0OO1b37dH1DWj7wCu/ieU55qux4x2ptGOW4ODJJiHz1LQf3dwGn+SIttrdqs6e6S2PEKs3Sd895yB/N9zrncbwf4B0YPvPmqKO9EUJcoiICIiAiIgIiICHoiINI1A00x/OGsnuEUtLdYR+guVG/sqiI/8Q6jyO6leRyZ/pjSulq7tacks8fIOqmPgqgB0G7QWn1KItlbK1uj+UnQSM/tOO1UbxyIjqWvG/xaFx/9Qz7lWx0Fjx5ramU7Mkq6rZoPmGtJ/miK9rdb1bdOcpzlkdTnuTsitTtnfRdla6Njx4Okd7RHiNvirBjlgtWM2qG22KhhoqKPk2OIdT4knmT5ncoiipZYdERFg//Z)\n",
        "\n",
        "```\n",
        "Input: head = [1,2,3,4,5]\n",
        "Output: [1,3,5,2,4]\n",
        "\n",
        "```\n",
        "![3.jpg](data:image/jpeg;base64,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)\n",
        "\n",
        "```\n",
        "Input: head = [2,1,3,5,6,4,7]\n",
        "Output: [2,3,6,7,1,5,4]\n",
        "\n",
        "```\n"
      ],
      "metadata": {
        "id": "1F0AiSTqhjyU"
      }
    },
    {
      "cell_type": "code",
      "source": [
        "class ListNode:\n",
        "    def __init__(self, x):\n",
        "        self.val = x\n",
        "        self.next = None\n",
        "\n",
        "def oddEvenList(head: ListNode) -> ListNode:\n",
        "    if not head or not head.next:\n",
        "        return head\n",
        "\n",
        "    odd = head\n",
        "    even = head.next\n",
        "    evenHead = even\n",
        "\n",
        "    while even and even.next:\n",
        "        odd.next = even.next\n",
        "        odd = odd.next\n",
        "        even.next = odd.next\n",
        "        even = even.next\n",
        "\n",
        "    odd.next = evenHead\n",
        "\n",
        "    return head"
      ],
      "metadata": {
        "id": "DGaeMma_hZuI"
      },
      "execution_count": 1,
      "outputs": []
    },
    {
      "cell_type": "code",
      "source": [
        "# Create the linked list 1 -> 2 -> 3 -> 4 -> 5\n",
        "head = ListNode(1)\n",
        "head.next = ListNode(2)\n",
        "head.next.next = ListNode(3)\n",
        "head.next.next.next = ListNode(4)\n",
        "head.next.next.next.next = ListNode(5)\n",
        "\n",
        "# Group the nodes with odd indices together followed by the nodes with even indices\n",
        "new_head = oddEvenList(head)\n",
        "\n",
        "# Print the reordered list\n",
        "while new_head:\n",
        "    print(new_head.val, end=' ')\n",
        "    new_head = new_head.next"
      ],
      "metadata": {
        "colab": {
          "base_uri": "https://localhost:8080/"
        },
        "id": "0FUKYpE_05u2",
        "outputId": "82c1d5be-3459-43fc-cb64-04381463b6fd"
      },
      "execution_count": 2,
      "outputs": [
        {
          "output_type": "stream",
          "name": "stdout",
          "text": [
            "1 3 5 2 4 "
          ]
        }
      ]
    },
    {
      "cell_type": "markdown",
      "source": [
        "<aside>\n",
        "💡 **Question 6**\n",
        "\n",
        "Given a singly linked list of size **N**. The task is to **left-shift** the linked list by **k** nodes, where **k** is a given positive integer smaller than or equal to length of the linked list.\n",
        "\n",
        "**Example 1:**\n",
        "\n",
        "```\n",
        "Input:\n",
        "N = 5\n",
        "value[] = {2, 4, 7, 8, 9}\n",
        "k = 3\n",
        "Output:8 9 2 4 7\n",
        "Explanation:Rotate 1:4 -> 7 -> 8 -> 9 -> 2\n",
        "Rotate 2: 7 -> 8 -> 9 -> 2 -> 4\n",
        "Rotate 3: 8 -> 9 -> 2 -> 4 -> 7\n",
        "\n",
        "```\n",
        "```\n",
        "Input:\n",
        "N = 8\n",
        "value[] = {1, 2, 3, 4, 5, 6, 7, 8}\n",
        "k = 4\n",
        "Output:5 6 7 8 1 2 3 4\n",
        "```"
      ],
      "metadata": {
        "id": "-P8bxAthi6Fz"
      }
    },
    {
      "cell_type": "code",
      "source": [
        "class ListNode:\n",
        "    def __init__(self, x):\n",
        "        self.val = x\n",
        "        self.next = None\n",
        "\n",
        "def rotateLeft(head: ListNode, k: int) -> ListNode:\n",
        "    if not head or not head.next:\n",
        "        return head\n",
        "\n",
        "    # Find the length of the linked list\n",
        "    length = 0\n",
        "    curr = head\n",
        "    while curr:\n",
        "        length += 1\n",
        "        curr = curr.next\n",
        "\n",
        "    # Adjust k to be within the length of the linked list\n",
        "    k %= length\n",
        "\n",
        "    # If k is 0, the linked list remains the same\n",
        "    if k == 0:\n",
        "        return head\n",
        "\n",
        "    # Find the (k+1)th node from the end of the linked list\n",
        "    slow = fast = head\n",
        "    for i in range(k):\n",
        "        fast = fast.next\n",
        "    while fast.next:\n",
        "        slow = slow.next\n",
        "        fast = fast.next\n",
        "\n",
        "    # Rotate the linked list\n",
        "    new_head = slow.next\n",
        "    slow.next = None\n",
        "    fast.next = head\n",
        "\n",
        "    return new_head"
      ],
      "metadata": {
        "id": "UOjfAwIJidMC"
      },
      "execution_count": 3,
      "outputs": []
    },
    {
      "cell_type": "code",
      "source": [
        "# Create the linked list 2 -> 4 -> 7 -> 8 -> 9\n",
        "head = ListNode(2)\n",
        "head.next = ListNode(4)\n",
        "head.next.next = ListNode(7)\n",
        "head.next.next.next = ListNode(8)\n",
        "head.next.next.next.next = ListNode(9)\n",
        "\n",
        "# Left-shift the linked list by 3 nodes\n",
        "new_head = rotateLeft(head, 3)\n",
        "\n",
        "# Print the rotated list\n",
        "while new_head:\n",
        "    print(new_head.val, end=' ')\n",
        "    new_head = new_head.next"
      ],
      "metadata": {
        "colab": {
          "base_uri": "https://localhost:8080/"
        },
        "id": "-0eA8NHw1Vzj",
        "outputId": "3af0f1dc-4bac-441d-fa8e-38f2e06044b0"
      },
      "execution_count": 4,
      "outputs": [
        {
          "output_type": "stream",
          "name": "stdout",
          "text": [
            "7 8 9 2 4 "
          ]
        }
      ]
    },
    {
      "cell_type": "markdown",
      "source": [
        "<aside>\n",
        "💡 **Question 7**\n",
        "\n",
        "You are given the `head` of a linked list with `n` nodes.\n",
        "\n",
        "For each node in the list, find the value of the **next greater node**. That is, for each node, find the value of the first node that is next to it and has a **strictly larger** value than it.\n",
        "\n",
        "Return an integer array `answer` where `answer[i]` is the value of the next greater node of the `ith` node (**1-indexed**). If the `ith` node does not have a next greater node, set `answer[i] = 0`.\n",
        "\n",
        "**Example 1:**\n",
        "\n",
        "![4.jpg](data:image/jpeg;base64,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)\n",
        "\n",
        "```\n",
        "Input: head = [2,1,5]\n",
        "Output: [5,5,0]\n",
        "\n",
        "```\n",
        "![5.jpg](data:image/jpeg;base64,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)\n",
        "\n",
        "```\n",
        "Input: head = [2,7,4,3,5]\n",
        "Output: [7,0,5,5,0]\n",
        "```"
      ],
      "metadata": {
        "id": "q711fQyEjj6W"
      }
    },
    {
      "cell_type": "code",
      "source": [
        "class ListNode:\n",
        "    def __init__(self, x):\n",
        "        self.val = x\n",
        "        self.next = None\n",
        "\n",
        "def nextLargerNodes(head: ListNode):\n",
        "    stack = []\n",
        "    result = []\n",
        "\n",
        "    # Traverse the linked list from right to left\n",
        "    while head:\n",
        "        # Pop nodes from the stack until we find a node with a greater value\n",
        "        while stack and stack[-1].val <= head.val:\n",
        "            stack.pop()\n",
        "\n",
        "        # If we find a node with a greater value, its value is the next greater node\n",
        "        if stack:\n",
        "            result.append(stack[-1].val)\n",
        "        else:\n",
        "            result.append(0)\n",
        "\n",
        "        # Push the current node to the stack\n",
        "        stack.append(head)\n",
        "        head = head.next\n",
        "\n",
        "    # Reverse the result list to get the order of nodes in the original linked list\n",
        "    return result[::-1]"
      ],
      "metadata": {
        "id": "S7TuxoAcjcWA"
      },
      "execution_count": 6,
      "outputs": []
    },
    {
      "cell_type": "code",
      "source": [
        "# Create the linked list 2 -> 7 -> 4 -> 3 -> 5\n",
        "head = ListNode(2)\n",
        "head.next = ListNode(7)\n",
        "head.next.next = ListNode(4)\n",
        "head.next.next.next = ListNode(3)\n",
        "head.next.next.next.next = ListNode(5)\n",
        "\n",
        "# Find the next greater node for each node in the linked list\n",
        "result = nextLargerNodes(head)\n",
        "\n",
        "# Print the result\n",
        "print(result)"
      ],
      "metadata": {
        "colab": {
          "base_uri": "https://localhost:8080/"
        },
        "id": "ERxPSljI2HPO",
        "outputId": "02862e4c-77cb-425b-e430-fb7cd076cd25"
      },
      "execution_count": 7,
      "outputs": [
        {
          "output_type": "stream",
          "name": "stdout",
          "text": [
            "[7, 4, 7, 0, 0]\n"
          ]
        }
      ]
    },
    {
      "cell_type": "markdown",
      "source": [
        "<aside>\n",
        "💡 **Question 8**\n",
        "\n",
        "Given the `head` of a linked list, we repeatedly delete consecutive sequences of nodes that sum to `0` until there are no such sequences.\n",
        "\n",
        "After doing so, return the head of the final linked list.  You may return any such answer.\n",
        "\n",
        "(Note that in the examples below, all sequences are serializations of `ListNode` objects.)\n",
        "\n",
        "**Example 1:**\n",
        "```\n",
        "Input: head = [1,2,-3,3,1]\n",
        "Output: [3,1]\n",
        "Note: The answer [1,2,1] would also be accepted.\n",
        "\n",
        "Example 2:\n",
        "Input: head = [1,2,3,-3,4]\n",
        "Output: [1,2,4]\n",
        "```"
      ],
      "metadata": {
        "id": "9F3g-V7EkJ2T"
      }
    },
    {
      "cell_type": "code",
      "source": [
        "class ListNode:\n",
        "    def __init__(self, x):\n",
        "        self.val = x\n",
        "        self.next = None\n",
        "\n",
        "def removeZeroSumSublists(head: ListNode) -> ListNode:\n",
        "    dummy = ListNode(0)\n",
        "    dummy.next = head\n",
        "    prefix_sum = 0\n",
        "    node_map = {}\n",
        "\n",
        "    # Traverse the linked list and compute the prefix sum\n",
        "    while head:\n",
        "        prefix_sum += head.val\n",
        "\n",
        "        # If prefix sum is 0, remove all nodes from the beginning up to the current node\n",
        "        if prefix_sum == 0:\n",
        "            dummy.next = head.next\n",
        "            node_map.clear()\n",
        "        else:\n",
        "            # If prefix sum is not 0, check if we have seen this sum before\n",
        "            if prefix_sum in node_map:\n",
        "                # If we have seen this sum before, remove all nodes from the next node of the previous occurrence up to the current node\n",
        "                prev = node_map[prefix_sum]\n",
        "                prev.next = head.next\n",
        "                node = prev.next\n",
        "                while node != head:\n",
        "                    prefix_sum += node.val\n",
        "                    del node_map[prefix_sum]\n",
        "                    node = node.next\n",
        "            else:\n",
        "                # If we have not seen this sum before, add it to the map\n",
        "                node_map[prefix_sum] = head\n",
        "\n",
        "        head = head.next\n",
        "\n",
        "    return dummy.next"
      ],
      "metadata": {
        "id": "Y3jx7EXMj-3W"
      },
      "execution_count": 8,
      "outputs": []
    },
    {
      "cell_type": "code",
      "source": [
        "# Create the linked list 1 -> 2 -> -3 -> 3 -> 1\n",
        "head = ListNode(1)\n",
        "head.next = ListNode(2)\n",
        "head.next.next = ListNode(-3)\n",
        "head.next.next.next = ListNode(3)\n",
        "head.next.next.next.next = ListNode(1)\n",
        "\n",
        "# Remove consecutive sequences of nodes that sum to 0\n",
        "new_head = removeZeroSumSublists(head)\n",
        "\n",
        "# Print the final linked list\n",
        "while new_head:\n",
        "    print(new_head.val, end=' ')\n",
        "    new_head = new_head.next"
      ],
      "metadata": {
        "colab": {
          "base_uri": "https://localhost:8080/"
        },
        "id": "as8IYHHL2kFW",
        "outputId": "9ef4733f-c7fb-48f9-f5f3-f78a3de275b1"
      },
      "execution_count": 9,
      "outputs": [
        {
          "output_type": "stream",
          "name": "stdout",
          "text": [
            "3 1 "
          ]
        }
      ]
    }
  ]
}