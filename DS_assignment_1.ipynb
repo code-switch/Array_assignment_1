{
  "nbformat": 4,
  "nbformat_minor": 0,
  "metadata": {
    "colab": {
      "provenance": []
    },
    "kernelspec": {
      "name": "python3",
      "display_name": "Python 3"
    },
    "language_info": {
      "name": "python"
    }
  },
  "cells": [
    {
      "cell_type": "markdown",
      "source": [
        "1. Write a Python program to reverse a string without using any built-in string reversal functions."
      ],
      "metadata": {
        "id": "ILZD0pEVEtSn"
      }
    },
    {
      "cell_type": "code",
      "execution_count": 2,
      "metadata": {
        "id": "88g64gNQErFP"
      },
      "outputs": [],
      "source": [
        "def reverse_string(string):\n",
        "    reversed_string = \"\"\n",
        "    for i in range(len(string)-1, -1, -1):\n",
        "        reversed_string += string[i]\n",
        "    return reversed_string\n"
      ]
    },
    {
      "cell_type": "markdown",
      "source": [
        "2. Implement a function to check if a given string is a palindrome."
      ],
      "metadata": {
        "id": "MD3OoiglKMrH"
      }
    },
    {
      "cell_type": "code",
      "source": [
        "def is_palindrome(string):\n",
        "    return string == string[::-1]\n",
        "\n",
        "string1 = \"racecar\"\n",
        "string2 = \"hello world\"\n",
        "print(is_palindrome(string1))  # Output: True\n",
        "print(is_palindrome(string2))  # Output: False\n"
      ],
      "metadata": {
        "id": "dBtHBEtRKNNH",
        "colab": {
          "base_uri": "https://localhost:8080/"
        },
        "outputId": "b2f44f72-a080-45d0-9904-8015181382fa"
      },
      "execution_count": 1,
      "outputs": [
        {
          "output_type": "stream",
          "name": "stdout",
          "text": [
            "True\n",
            "False\n"
          ]
        }
      ]
    },
    {
      "cell_type": "markdown",
      "source": [
        "3. Write a program to find the largest element in a given list."
      ],
      "metadata": {
        "id": "sj80EcGyKFRy"
      }
    },
    {
      "cell_type": "code",
      "source": [
        "def find_largest_element(lst):\n",
        "    largest_element = lst[0]\n",
        "    for i in range(1, len(lst)):\n",
        "        if lst[i] > largest_element:\n",
        "            largest_element = lst[i]\n",
        "    return largest_element\n",
        "\n",
        "lst = [3, 7, 2, 9, 1, 4, 6, 8, 5]\n",
        "largest_element = find_largest_element(lst)\n",
        "print(largest_element)  # Output: 9\n"
      ],
      "metadata": {
        "colab": {
          "base_uri": "https://localhost:8080/"
        },
        "id": "8CUJCzeiKEzS",
        "outputId": "c07bb752-45d1-406b-a5f8-6ce3e665eae0"
      },
      "execution_count": 3,
      "outputs": [
        {
          "output_type": "stream",
          "name": "stdout",
          "text": [
            "9\n"
          ]
        }
      ]
    },
    {
      "cell_type": "markdown",
      "source": [
        "4. Implement a function to count the occurrence of each element in a list."
      ],
      "metadata": {
        "id": "cI9ES-AaKM8a"
      }
    },
    {
      "cell_type": "code",
      "source": [
        "def count_occurrences(lst):\n",
        "    counts = {}\n",
        "    for element in lst:\n",
        "        if element in counts:\n",
        "            counts[element] += 1\n",
        "        else:\n",
        "            counts[element] = 1\n",
        "    return counts\n",
        "lst = [1, 2, 3, 2, 1, 3, 1, 2, 3, 3]\n",
        "counts = count_occurrences(lst)\n",
        "print(counts)  # Output: {1: 3, 2: 3, 3: 4}\n"
      ],
      "metadata": {
        "colab": {
          "base_uri": "https://localhost:8080/"
        },
        "id": "s4229JWlKB3s",
        "outputId": "7e31c7f2-46ff-40fe-834b-4c8ca855fb65"
      },
      "execution_count": 4,
      "outputs": [
        {
          "output_type": "stream",
          "name": "stdout",
          "text": [
            "{1: 3, 2: 3, 3: 4}\n"
          ]
        }
      ]
    },
    {
      "cell_type": "markdown",
      "source": [
        "5. Write a Python program to find the second largest number in a list."
      ],
      "metadata": {
        "id": "WRK4FnfMKRZR"
      }
    },
    {
      "cell_type": "code",
      "source": [
        "def find_second_largest(lst):\n",
        "    largest = max(lst[0], lst[1])\n",
        "    second_largest = min(lst[0], lst[1])\n",
        "    for i in range(2, len(lst)):\n",
        "        if lst[i] > largest:\n",
        "            second_largest = largest\n",
        "            largest = lst[i]\n",
        "        elif lst[i] > second_largest and lst[i] != largest:\n",
        "            second_largest = lst[i]\n",
        "    return second_largest\n",
        "\n",
        "lst = [3, 7, 2, 9, 1, 4, 6, 8, 5]\n",
        "second_largest = find_second_largest(lst)\n",
        "print(second_largest)  # Output: 8\n"
      ],
      "metadata": {
        "colab": {
          "base_uri": "https://localhost:8080/"
        },
        "id": "cqE2_mIRKUb6",
        "outputId": "0e2c158e-8458-471d-fafb-7a1dc7179978"
      },
      "execution_count": 5,
      "outputs": [
        {
          "output_type": "stream",
          "name": "stdout",
          "text": [
            "8\n"
          ]
        }
      ]
    },
    {
      "cell_type": "markdown",
      "source": [
        "6. Implement a function to remove duplicate elements from a list."
      ],
      "metadata": {
        "id": "yv43QqfDKXdK"
      }
    },
    {
      "cell_type": "code",
      "source": [
        "def remove_duplicates(lst):\n",
        "    return list(set(lst))\n",
        "\n",
        "lst = [1, 2, 3, 2, 1, 3, 1, 2, 3, 3]\n",
        "unique_lst = remove_duplicates(lst)\n",
        "print(unique_lst)  # Output: [1, 2, 3]\n"
      ],
      "metadata": {
        "colab": {
          "base_uri": "https://localhost:8080/"
        },
        "id": "BmNARfT9KayT",
        "outputId": "e792fdd3-ba9d-4251-f788-833097dbccea"
      },
      "execution_count": 6,
      "outputs": [
        {
          "output_type": "stream",
          "name": "stdout",
          "text": [
            "[1, 2, 3]\n"
          ]
        }
      ]
    },
    {
      "cell_type": "markdown",
      "source": [
        "7. Write a program to calculate the factorial of a given number."
      ],
      "metadata": {
        "id": "Iw_uVw65KdNa"
      }
    },
    {
      "cell_type": "code",
      "source": [
        "def factorial(n):\n",
        "    result = 1\n",
        "    for i in range(1, n+1):\n",
        "        result *= i\n",
        "    return result\n",
        "\n",
        "n = 5\n",
        "fact = factorial(n)\n",
        "print(fact)  # Output: 120\n"
      ],
      "metadata": {
        "colab": {
          "base_uri": "https://localhost:8080/"
        },
        "id": "be9fhTcOKfID",
        "outputId": "1b8d09f9-9aa6-496a-f501-fea50fae6e21"
      },
      "execution_count": 7,
      "outputs": [
        {
          "output_type": "stream",
          "name": "stdout",
          "text": [
            "120\n"
          ]
        }
      ]
    },
    {
      "cell_type": "markdown",
      "source": [
        "8. Implement a function to check if a given number is prime."
      ],
      "metadata": {
        "id": "y8qPF9tbKiGK"
      }
    },
    {
      "cell_type": "code",
      "source": [
        "def is_prime(n):\n",
        "    if n <= 1:\n",
        "        return False\n",
        "    for i in range(2, int(n**0.5)+1):\n",
        "        if n % i == 0:\n",
        "            return False\n",
        "    return True\n",
        "\n",
        "n = 17\n",
        "if is_prime(n):\n",
        "    print(f\"{n} is prime\")\n",
        "else:\n",
        "    print(f\"{n} is not prime\")\n"
      ],
      "metadata": {
        "colab": {
          "base_uri": "https://localhost:8080/"
        },
        "id": "PZ7g8eFvKkKL",
        "outputId": "7eba901d-b701-4b4d-8c56-72e7a303d6d3"
      },
      "execution_count": 8,
      "outputs": [
        {
          "output_type": "stream",
          "name": "stdout",
          "text": [
            "17 is prime\n"
          ]
        }
      ]
    },
    {
      "cell_type": "markdown",
      "source": [
        "9. Write a Python program to sort a list of integers in ascending order."
      ],
      "metadata": {
        "id": "e31QDOvSKpiU"
      }
    },
    {
      "cell_type": "code",
      "source": [
        "lst = [3, 7, 2, 9, 1, 4, 6, 8, 5]\n",
        "lst.sort()\n",
        "print(lst)  # Output: [1, 2, 3, 4, 5, 6, 7, 8, 9]\n",
        "\n",
        "lst = [3, 7, 2, 9, 1, 4, 6, 8, 5]\n",
        "sorted_lst = sorted(lst)\n",
        "print(sorted_lst)  # Output: [1, 2, 3, 4, 5, 6, 7, 8, 9]\n",
        "\n"
      ],
      "metadata": {
        "colab": {
          "base_uri": "https://localhost:8080/"
        },
        "id": "DASHh0GOKrUa",
        "outputId": "bcf33780-8660-4fb7-a09e-4890c24c96aa"
      },
      "execution_count": 9,
      "outputs": [
        {
          "output_type": "stream",
          "name": "stdout",
          "text": [
            "[1, 2, 3, 4, 5, 6, 7, 8, 9]\n",
            "[1, 2, 3, 4, 5, 6, 7, 8, 9]\n"
          ]
        }
      ]
    },
    {
      "cell_type": "markdown",
      "source": [
        "10. Implement a function to find the sum of all numbers in a list."
      ],
      "metadata": {
        "id": "ALU62_j7KtQb"
      }
    },
    {
      "cell_type": "code",
      "source": [
        "def sum_list(lst):\n",
        "    total = 0\n",
        "    for num in lst:\n",
        "        total += num\n",
        "    return total\n",
        "\n",
        "lst = [1, 2, 3, 4, 5]\n",
        "total = sum_list(lst)\n",
        "print(total)  # Output: 15\n",
        "\n"
      ],
      "metadata": {
        "colab": {
          "base_uri": "https://localhost:8080/"
        },
        "id": "EtKz6s-QKvj6",
        "outputId": "79c09573-95dd-47ef-da1f-118222f1b572"
      },
      "execution_count": 10,
      "outputs": [
        {
          "output_type": "stream",
          "name": "stdout",
          "text": [
            "15\n"
          ]
        }
      ]
    },
    {
      "cell_type": "markdown",
      "source": [
        "11. Write a program to find the common elements between two lists."
      ],
      "metadata": {
        "id": "VV8PLKJJKxnS"
      }
    },
    {
      "cell_type": "code",
      "source": [
        "list1 = [1, 2, 3, 4, 5]\n",
        "list2 = [3, 4, 5, 6, 7]\n",
        "common_elements = set(list1).intersection(set(list2))\n",
        "print(common_elements)  # Output: {3, 4, 5}\n",
        "\n",
        "list1 = [1, 2, 3, 4, 5]\n",
        "list2 = [3, 4, 5, 6, 7]\n",
        "common_elements = []\n",
        "for element in list1:\n",
        "    if element in list2:\n",
        "        common_elements.append(element)\n",
        "print(common_elements)  # Output: [3, 4, 5]\n",
        "\n"
      ],
      "metadata": {
        "colab": {
          "base_uri": "https://localhost:8080/"
        },
        "id": "fg8T3Ns5Kz-U",
        "outputId": "d00bda3f-2cd4-4301-eec0-2ab8bb45cadb"
      },
      "execution_count": 11,
      "outputs": [
        {
          "output_type": "stream",
          "name": "stdout",
          "text": [
            "{3, 4, 5}\n",
            "[3, 4, 5]\n"
          ]
        }
      ]
    },
    {
      "cell_type": "markdown",
      "source": [
        "12. Implement a function to check if a given string is an anagram of another string."
      ],
      "metadata": {
        "id": "FzMj6mvFK2rr"
      }
    },
    {
      "cell_type": "code",
      "source": [
        "def is_anagram(s1, s2):\n",
        "    return sorted(s1) == sorted(s2)\n",
        "\n",
        "s1 = \"listen\"\n",
        "s2 = \"silent\"\n",
        "if is_anagram(s1, s2):\n",
        "    print(f\"{s1} and {s2} are anagrams\")\n",
        "else:\n",
        "    print(f\"{s1} and {s2} are not anagrams\")\n",
        "\n"
      ],
      "metadata": {
        "colab": {
          "base_uri": "https://localhost:8080/"
        },
        "id": "3bgyodpOK49a",
        "outputId": "f58bac40-940e-4bac-b5f9-d590cfd24664"
      },
      "execution_count": 12,
      "outputs": [
        {
          "output_type": "stream",
          "name": "stdout",
          "text": [
            "listen and silent are anagrams\n"
          ]
        }
      ]
    },
    {
      "cell_type": "markdown",
      "source": [
        "13. Write a Python program to generate all permutations of a given string."
      ],
      "metadata": {
        "id": "JhHZXd_0K7vE"
      }
    },
    {
      "cell_type": "code",
      "source": [
        "from itertools import permutations\n",
        "\n",
        "def generate_permutations(s):\n",
        "    perms = [''.join(p) for p in permutations(s)]\n",
        "    return perms\n",
        "\n",
        "s = \"abc\"\n",
        "perms = generate_permutations(s)\n",
        "print(perms)  # Output: ['abc', 'acb', 'bac', 'bca', 'cab', 'cba']\n",
        "\n"
      ],
      "metadata": {
        "colab": {
          "base_uri": "https://localhost:8080/"
        },
        "id": "zfFS29tlK96D",
        "outputId": "d44fbec1-63fd-4719-eed2-d50726809391"
      },
      "execution_count": 13,
      "outputs": [
        {
          "output_type": "stream",
          "name": "stdout",
          "text": [
            "['abc', 'acb', 'bac', 'bca', 'cab', 'cba']\n"
          ]
        }
      ]
    },
    {
      "cell_type": "markdown",
      "source": [
        "14. Implement a function to calculate the Fibonacci sequence up to a given number of terms."
      ],
      "metadata": {
        "id": "vOcgD4uFLAdU"
      }
    },
    {
      "cell_type": "code",
      "source": [
        "def fibonacci(n):\n",
        "    fib = [0, 1]\n",
        "    for i in range(2, n):\n",
        "        fib.append(fib[i-1] + fib[i-2])\n",
        "    return fib\n",
        "\n",
        "n = 10\n",
        "fib = fibonacci(n)\n",
        "print(fib)  # Output: [0, 1, 1, 2, 3, 5, 8, 13, 21, 34]\n"
      ],
      "metadata": {
        "id": "X7XYs53ZLDvS"
      },
      "execution_count": null,
      "outputs": []
    },
    {
      "cell_type": "markdown",
      "source": [
        "15. Write a program to find the median of a list of numbers."
      ],
      "metadata": {
        "id": "HGaO18c8LF1l"
      }
    },
    {
      "cell_type": "code",
      "source": [
        "def find_median(lst):\n",
        "    lst.sort()\n",
        "    n = len(lst)\n",
        "    if n % 2 == 0:\n",
        "        median = (lst[n//2-1] + lst[n//2]) / 2\n",
        "    else:\n",
        "        median = lst[n//2]\n",
        "    return median\n",
        "\n",
        "lst = [3, 7, 2, 9, 1, 4, 6, 8, 5]\n",
        "median = find_median(lst)\n",
        "print(median)  # Output: 5\n",
        "\n"
      ],
      "metadata": {
        "colab": {
          "base_uri": "https://localhost:8080/"
        },
        "id": "f2EGA_yQLISL",
        "outputId": "bb28e724-ff4f-435a-89ae-2d9a86e82832"
      },
      "execution_count": 14,
      "outputs": [
        {
          "output_type": "stream",
          "name": "stdout",
          "text": [
            "5\n"
          ]
        }
      ]
    },
    {
      "cell_type": "markdown",
      "source": [
        "16. Implement a function to check if a given list is sorted in non-decreasing order."
      ],
      "metadata": {
        "id": "SSDx7Tn7LLYz"
      }
    },
    {
      "cell_type": "code",
      "source": [
        "def is_sorted(lst):\n",
        "    n = len(lst)\n",
        "    for i in range(n-1):\n",
        "        if lst[i] > lst[i+1]:\n",
        "            return False\n",
        "    return True\n",
        "\n",
        "lst1 = [1, 2, 3, 4, 5]\n",
        "lst2 = [3, 1, 4, 1, 5, 9, 2, 6, 5, 3, 5]\n",
        "if is_sorted(lst1):\n",
        "    print(\"lst1 is sorted in non-decreasing order\")\n",
        "else:\n",
        "    print(\"lst1 is not sorted in non-decreasing order\")\n",
        "if is_sorted(lst2):\n",
        "    print(\"lst2 is sorted in non-decreasing order\")\n",
        "else:\n",
        "    print(\"lst2 is not sorted in non-decreasing order\")\n"
      ],
      "metadata": {
        "id": "o5hNMmZdLNYT"
      },
      "execution_count": null,
      "outputs": []
    },
    {
      "cell_type": "markdown",
      "source": [
        "17. Write a Python program to find the intersection of two lists."
      ],
      "metadata": {
        "id": "01hWUUURLS8D"
      }
    },
    {
      "cell_type": "code",
      "source": [
        "list1 = [1, 2, 3, 4, 5]\n",
        "list2 = [3, 4, 5, 6, 7]\n",
        "intersection = set(list1).intersection(set(list2))\n",
        "print(intersection)  # Output: {3, 4, 5}\n",
        "\n",
        "list1 = [1, 2, 3, 4, 5]\n",
        "list2 = [3, 4, 5, 6, 7]\n",
        "intersection = []\n",
        "for element in list1:\n",
        "    if element in list2:\n",
        "        intersection.append(element)\n",
        "print(intersection)  # Output: [3, 4, 5]\n"
      ],
      "metadata": {
        "colab": {
          "base_uri": "https://localhost:8080/"
        },
        "id": "9g_E42eKLUmS",
        "outputId": "5207a4c0-d7f3-47c4-cb9c-c21adeecce31"
      },
      "execution_count": 15,
      "outputs": [
        {
          "output_type": "stream",
          "name": "stdout",
          "text": [
            "{3, 4, 5}\n",
            "[3, 4, 5]\n"
          ]
        }
      ]
    },
    {
      "cell_type": "markdown",
      "source": [
        "18. Implement a function to find the maximum subarray sum in a given list."
      ],
      "metadata": {
        "id": "8_evVFnmLXsE"
      }
    },
    {
      "cell_type": "code",
      "source": [
        "def max_subarray_sum(lst):\n",
        "    max_sum = lst[0]\n",
        "    curr_sum = 0\n",
        "    for num in lst:\n",
        "        curr_sum += num\n",
        "        if curr_sum > max_sum:\n",
        "            max_sum = curr_sum\n",
        "        if curr_sum < 0:\n",
        "            curr_sum = 0\n",
        "    return max_sum\n",
        "\n",
        "lst = [-2, 1, -3, 4, -1, 2, 1, -5, 4]\n",
        "max_sum = max_subarray_sum(lst)\n",
        "print(max_sum)  # Output: 6\n"
      ],
      "metadata": {
        "colab": {
          "base_uri": "https://localhost:8080/"
        },
        "id": "jHPcoYEQLZr9",
        "outputId": "5d31f380-feea-4f1f-82fd-205871d6f705"
      },
      "execution_count": 16,
      "outputs": [
        {
          "output_type": "stream",
          "name": "stdout",
          "text": [
            "6\n"
          ]
        }
      ]
    },
    {
      "cell_type": "markdown",
      "source": [
        "19. Write a program to remove all vowels from a given string."
      ],
      "metadata": {
        "id": "SAwpwwy2Lc0z"
      }
    },
    {
      "cell_type": "code",
      "source": [
        "def remove_vowels(s):\n",
        "    vowels = \"aeiouAEIOU\"\n",
        "    s_without_vowels = \"\"\n",
        "    for char in s:\n",
        "        if char not in vowels:\n",
        "            s_without_vowels += char\n",
        "    return s_without_vowels\n",
        "\n",
        "s = \"Hello, World!\"\n",
        "s_without_vowels = remove_vowels(s)\n",
        "print(s_without_vowels)  # Output: \"Hll, Wrld!\"\n"
      ],
      "metadata": {
        "colab": {
          "base_uri": "https://localhost:8080/"
        },
        "id": "3b7l2MYiLh6z",
        "outputId": "1a29c0b6-7fd2-46fc-df3f-421f0455e363"
      },
      "execution_count": 17,
      "outputs": [
        {
          "output_type": "stream",
          "name": "stdout",
          "text": [
            "Hll, Wrld!\n"
          ]
        }
      ]
    },
    {
      "cell_type": "markdown",
      "source": [
        "20. Implement a function to reverse the order of words in a given sentence."
      ],
      "metadata": {
        "id": "sxsBcDbkLjfk"
      }
    },
    {
      "cell_type": "code",
      "source": [
        "def reverse_words(sentence):\n",
        "    words = sentence.split()\n",
        "    words.reverse()\n",
        "    reversed_sentence = \" \".join(words)\n",
        "    return reversed_sentence\n",
        "\n",
        "sentence = \"Hello, world! How are you?\"\n",
        "reversed_sentence = reverse_words(sentence)\n",
        "print(reversed_sentence)  # Output: \"you? are How world! Hello,\"\n"
      ],
      "metadata": {
        "colab": {
          "base_uri": "https://localhost:8080/"
        },
        "id": "WXdqHux5Ll8V",
        "outputId": "f045604b-4d34-4969-c46a-7479b23314a1"
      },
      "execution_count": 18,
      "outputs": [
        {
          "output_type": "stream",
          "name": "stdout",
          "text": [
            "you? are How world! Hello,\n"
          ]
        }
      ]
    },
    {
      "cell_type": "markdown",
      "source": [
        "21. Write a Python program to check if two strings are anagrams of each other."
      ],
      "metadata": {
        "id": "S0nFsppVLp8r"
      }
    },
    {
      "cell_type": "code",
      "source": [
        "def is_anagram(s1, s2):\n",
        "    return sorted(s1) == sorted(s2)\n",
        "\n",
        "s1 = \"listen\"\n",
        "s2 = \"silent\"\n",
        "if is_anagram(s1, s2):\n",
        "    print(f\"{s1} and {s2} are anagrams\")\n",
        "else:\n",
        "    print(f\"{s1} and {s2} are not anagrams\")\n",
        "\n"
      ],
      "metadata": {
        "colab": {
          "base_uri": "https://localhost:8080/"
        },
        "id": "f2uG9r6HLrs7",
        "outputId": "55f7f575-03b2-44e1-9c25-88f0307a82a7"
      },
      "execution_count": 19,
      "outputs": [
        {
          "output_type": "stream",
          "name": "stdout",
          "text": [
            "listen and silent are anagrams\n"
          ]
        }
      ]
    },
    {
      "cell_type": "markdown",
      "source": [
        "22. Implement a function to find the first non-repeating character in a string."
      ],
      "metadata": {
        "id": "jnDdm2VhLu56"
      }
    },
    {
      "cell_type": "code",
      "source": [
        "def first_non_repeating_char(s):\n",
        "    char_freq = {}\n",
        "    for char in s:\n",
        "        if char in char_freq:\n",
        "            char_freq[char] += 1\n",
        "        else:\n",
        "            char_freq[char] = 1\n",
        "    for char in s:\n",
        "        if char_freq[char] == 1:\n",
        "            return char\n",
        "    return None\n",
        "\n",
        "s = \"hello world\"\n",
        "first_non_repeating = first_non_repeating_char(s)\n",
        "print(first_non_repeating)  # Output: \"h\"\n"
      ],
      "metadata": {
        "colab": {
          "base_uri": "https://localhost:8080/"
        },
        "id": "05B_4xIRLxb6",
        "outputId": "ade43d5b-c4c9-4181-ad75-2c121b8ac076"
      },
      "execution_count": 20,
      "outputs": [
        {
          "output_type": "stream",
          "name": "stdout",
          "text": [
            "h\n"
          ]
        }
      ]
    },
    {
      "cell_type": "markdown",
      "source": [
        "23. Write a program to find the prime factors of a given number."
      ],
      "metadata": {
        "id": "XcDbKEEpLz7r"
      }
    },
    {
      "cell_type": "code",
      "source": [
        "def prime_factors(n):\n",
        "    factors = []\n",
        "    i = 2\n",
        "    while i <= n:\n",
        "        if n % i == 0:\n",
        "            factors.append(i)\n",
        "            n //= i\n",
        "        else:\n",
        "            i += 1\n",
        "    return factors\n",
        "\n",
        "n = 84\n",
        "factors = prime_factors(n)\n",
        "print(factors)  # Output: [2, 2, 3, 7]\n"
      ],
      "metadata": {
        "colab": {
          "base_uri": "https://localhost:8080/"
        },
        "id": "HuQXpvHHL5H8",
        "outputId": "9e14de44-5e13-4f81-aaa9-b9619081d010"
      },
      "execution_count": 21,
      "outputs": [
        {
          "output_type": "stream",
          "name": "stdout",
          "text": [
            "[2, 2, 3, 7]\n"
          ]
        }
      ]
    },
    {
      "cell_type": "markdown",
      "source": [
        "24. Implement a function to check if a given number is a power of two."
      ],
      "metadata": {
        "id": "r4ycORVsL8zj"
      }
    },
    {
      "cell_type": "code",
      "source": [
        "def is_power_of_two(n):\n",
        "    return n > 0 and (n & (n-1)) == 0\n",
        "\n",
        "n1 = 16\n",
        "n2 = 17\n",
        "if is_power_of_two(n1):\n",
        "    print(f\"{n1} is a power of two\")\n",
        "else:\n",
        "    print(f\"{n1} is not a power of two\")\n",
        "if is_power_of_two(n2):\n",
        "    print(f\"{n2} is a power of two\")\n",
        "else:\n",
        "    print(f\"{n2} is not a power of two\")\n"
      ],
      "metadata": {
        "colab": {
          "base_uri": "https://localhost:8080/"
        },
        "id": "EkMpzHwoL_9L",
        "outputId": "e7d15b94-670e-4d28-97eb-6610a0fa480b"
      },
      "execution_count": 22,
      "outputs": [
        {
          "output_type": "stream",
          "name": "stdout",
          "text": [
            "16 is a power of two\n",
            "17 is not a power of two\n"
          ]
        }
      ]
    },
    {
      "cell_type": "markdown",
      "source": [
        "25. Write a Python program to merge two sorted lists into a single sorted list."
      ],
      "metadata": {
        "id": "dU_Kyt70MHET"
      }
    },
    {
      "cell_type": "code",
      "source": [
        "def merge_sorted_lists(lst1, lst2):\n",
        "    merged_list = []\n",
        "    i = 0\n",
        "    j = 0\n",
        "    while i < len(lst1) and j < len(lst2):\n",
        "        if lst1[i] < lst2[j]:\n",
        "            merged_list.append(lst1[i])\n",
        "            i += 1\n",
        "        else:\n",
        "            merged_list.append(lst2[j])\n",
        "            j += 1\n",
        "    merged_list += lst1[i:]\n",
        "    merged_list += lst2[j:]\n",
        "    return merged_list\n",
        "\n",
        "lst1 = [1, 3, 5, 7]\n",
        "lst2 = [2, 4, 6, 8]\n",
        "merged_list = merge_sorted_lists(lst1, lst2)\n",
        "print(merged_list)  # Output: [1, 2, 3, 4, 5, 6, 7, 8]\n"
      ],
      "metadata": {
        "colab": {
          "base_uri": "https://localhost:8080/"
        },
        "id": "3cuoAZm6MI5q",
        "outputId": "b49b4d09-761a-4351-b365-e408777e4075"
      },
      "execution_count": 23,
      "outputs": [
        {
          "output_type": "stream",
          "name": "stdout",
          "text": [
            "[1, 2, 3, 4, 5, 6, 7, 8]\n"
          ]
        }
      ]
    },
    {
      "cell_type": "markdown",
      "source": [
        "26. Implement a function to find the mode of a list of numbers."
      ],
      "metadata": {
        "id": "W64_7u_YMNF6"
      }
    },
    {
      "cell_type": "code",
      "source": [
        "from collections import Counter\n",
        "\n",
        "def find_mode(numbers):\n",
        "    # Count the frequency of each number\n",
        "    freq = Counter(numbers)\n",
        "\n",
        "    # Find the highest frequency\n",
        "    max_freq = max(freq.values())\n",
        "\n",
        "    # Find all numbers with that frequency\n",
        "    mode = [num for num, count in freq.items() if count == max_freq]\n",
        "\n",
        "    return mode\n",
        "\n",
        "numbers = [1, 2, 3, 4, 5, 5, 6, 6, 6, 7, 8, 8, 8, 8, 9]\n",
        "mode = find_mode(numbers)\n",
        "print(\"Mode(s):\", mode)\n",
        "\n",
        "numbers = [1, 2, 3, 4, 5, 5, 6, 6, 6, 7, 8, 8, 8, 8, 9, 9]\n",
        "mode = find_mode(numbers)\n",
        "print(\"Mode(s):\", mode)\n",
        "\n"
      ],
      "metadata": {
        "colab": {
          "base_uri": "https://localhost:8080/"
        },
        "id": "kyimnujsMMg6",
        "outputId": "40c4be2a-ba5c-43d6-d51a-129912c19a58"
      },
      "execution_count": 24,
      "outputs": [
        {
          "output_type": "stream",
          "name": "stdout",
          "text": [
            "Mode(s): [8]\n",
            "Mode(s): [8]\n"
          ]
        }
      ]
    },
    {
      "cell_type": "markdown",
      "source": [
        "27. Write a program to find the greatest common divisor (GCD) of two numbers."
      ],
      "metadata": {
        "id": "ttFAD7BkMSKq"
      }
    },
    {
      "cell_type": "code",
      "source": [
        "def gcd(a, b):\n",
        "    while b != 0:\n",
        "        a, b = b, a % b\n",
        "    return a\n",
        "\n",
        "a = 252\n",
        "b = 105\n",
        "print(\"GCD of\", a, \"and\", b, \"is\", gcd(a, b))\n"
      ],
      "metadata": {
        "colab": {
          "base_uri": "https://localhost:8080/"
        },
        "id": "q6y97y1mMT3y",
        "outputId": "fd72fccf-574b-4694-8012-89d3ceabfe4c"
      },
      "execution_count": 25,
      "outputs": [
        {
          "output_type": "stream",
          "name": "stdout",
          "text": [
            "GCD of 252 and 105 is 21\n"
          ]
        }
      ]
    },
    {
      "cell_type": "markdown",
      "source": [
        "28. Implement a function to calculate the square root of a given number."
      ],
      "metadata": {
        "id": "vCPzh6GSMWGS"
      }
    },
    {
      "cell_type": "code",
      "source": [
        "def square_root(number):\n",
        "    x = number\n",
        "    y = 1\n",
        "    e = 0.000001\n",
        "    while x - y > e:\n",
        "        x = (x + y) / 2\n",
        "        y = number / x\n",
        "    return x\n",
        "\n",
        "number = 25\n",
        "square_root = square_root(number)\n",
        "print(\"Square root of\", number, \"=\", square_root)\n"
      ],
      "metadata": {
        "colab": {
          "base_uri": "https://localhost:8080/"
        },
        "id": "UrkzXb7PMZDC",
        "outputId": "0f8f3ece-9da4-44de-9810-ace9fab88af9"
      },
      "execution_count": 26,
      "outputs": [
        {
          "output_type": "stream",
          "name": "stdout",
          "text": [
            "Square root of 25 = 5.000000000053722\n"
          ]
        }
      ]
    },
    {
      "cell_type": "markdown",
      "source": [
        "29. Write a Python program to check if a given string is a valid palindrome ignoring non-alphanumeric characters."
      ],
      "metadata": {
        "id": "IHKKAQBYMbIj"
      }
    },
    {
      "cell_type": "code",
      "source": [
        "import re\n",
        "\n",
        "def is_palindrome(s):\n",
        "    # Remove non-alphanumeric characters and convert to lowercase\n",
        "    s = re.sub(r'\\W+', '', s).lower()\n",
        "    # Check if the string is equal to its reverse\n",
        "    return s == s[::-1]\n",
        "\n",
        "s = \"A man, a plan, a canal: Panama\"\n",
        "if is_palindrome(s):\n",
        "    print(s, \"is a valid palindrome\")\n",
        "else:\n",
        "    print(s, \"is not a valid palindrome\")\n"
      ],
      "metadata": {
        "colab": {
          "base_uri": "https://localhost:8080/"
        },
        "id": "c5JE1haOMdYr",
        "outputId": "c5f07dc2-ccef-48f3-ea91-e0338c55a94d"
      },
      "execution_count": 27,
      "outputs": [
        {
          "output_type": "stream",
          "name": "stdout",
          "text": [
            "A man, a plan, a canal: Panama is a valid palindrome\n"
          ]
        }
      ]
    },
    {
      "cell_type": "markdown",
      "source": [
        "30. Implement a function to find the minimum element in a rotated sorted list."
      ],
      "metadata": {
        "id": "sI-phXK0MgBL"
      }
    },
    {
      "cell_type": "code",
      "source": [
        "def find_min(nums):\n",
        "    left, right = 0, len(nums) - 1\n",
        "    while left < right:\n",
        "        mid = (left + right) // 2\n",
        "        if nums[mid] > nums[right]:\n",
        "            left = mid + 1\n",
        "        else:\n",
        "            right = mid\n",
        "    return nums[left]\n",
        "\n",
        "nums = [4, 5, 6, 7, 0, 1, 2]\n",
        "min_element = find_min(nums)\n",
        "print(\"Minimum element in\", nums, \"is\", min_element)\n",
        "\n"
      ],
      "metadata": {
        "colab": {
          "base_uri": "https://localhost:8080/"
        },
        "id": "Ig4LOLKzMiDb",
        "outputId": "d1732e6b-2a81-4d22-d86f-35a173134735"
      },
      "execution_count": 28,
      "outputs": [
        {
          "output_type": "stream",
          "name": "stdout",
          "text": [
            "Minimum element in [4, 5, 6, 7, 0, 1, 2] is 0\n"
          ]
        }
      ]
    },
    {
      "cell_type": "markdown",
      "source": [
        "31. Write a program to find the sum of all even numbers in a list."
      ],
      "metadata": {
        "id": "In4U5ocrMkYL"
      }
    },
    {
      "cell_type": "code",
      "source": [
        "def sum_even_numbers(numbers):\n",
        "    sum = 0\n",
        "    for number in numbers:\n",
        "        if number % 2 == 0:\n",
        "            sum += number\n",
        "    return sum\n",
        "\n",
        "numbers = [1, 2, 3, 4, 5, 6, 7, 8, 9, 10]\n",
        "sum_even = sum_even_numbers(numbers)\n",
        "print(\"Sum of even numbers in\", numbers, \"is\", sum_even)\n",
        "\n"
      ],
      "metadata": {
        "colab": {
          "base_uri": "https://localhost:8080/"
        },
        "id": "p5uYIWhYMkJT",
        "outputId": "289fa0a4-c939-42fe-c503-8ed0ffd913a4"
      },
      "execution_count": 29,
      "outputs": [
        {
          "output_type": "stream",
          "name": "stdout",
          "text": [
            "Sum of even numbers in [1, 2, 3, 4, 5, 6, 7, 8, 9, 10] is 30\n"
          ]
        }
      ]
    },
    {
      "cell_type": "markdown",
      "source": [
        "32. Implement a function to calculate the power of a number using recursion."
      ],
      "metadata": {
        "id": "htjCxmbxMoVz"
      }
    },
    {
      "cell_type": "code",
      "source": [
        "def power(base, exponent):\n",
        "    if exponent == 0:\n",
        "        return 1\n",
        "    elif exponent % 2 == 0:\n",
        "        return power(base, exponent // 2) ** 2\n",
        "    else:\n",
        "        return base * power(base, exponent - 1)\n",
        "\n",
        "base = 2\n",
        "exponent = 10\n",
        "result = power(base, exponent)\n",
        "print(base, \"^\", exponent, \"=\", result)\n",
        "\n"
      ],
      "metadata": {
        "colab": {
          "base_uri": "https://localhost:8080/"
        },
        "id": "NcPYN8pqMqNN",
        "outputId": "cc5efb50-e315-4f5d-fffd-842641c4f1dd"
      },
      "execution_count": 30,
      "outputs": [
        {
          "output_type": "stream",
          "name": "stdout",
          "text": [
            "2 ^ 10 = 1024\n"
          ]
        }
      ]
    },
    {
      "cell_type": "markdown",
      "source": [
        "33. Write a Python program to remove duplicates from a list while preserving the order."
      ],
      "metadata": {
        "id": "wOsB-h2AMs1L"
      }
    },
    {
      "cell_type": "code",
      "source": [
        "def remove_duplicates(lst):\n",
        "    seen = set()\n",
        "    result = []\n",
        "    for item in lst:\n",
        "        if item not in seen:\n",
        "            seen.add(item)\n",
        "            result.append(item)\n",
        "    return result\n",
        "\n",
        "lst = [1, 2, 3, 2, 1, 4, 5, 4, 6, 7, 6, 5]\n",
        "result = remove_duplicates(lst)\n",
        "print(\"Original list:\", lst)\n",
        "print(\"List with duplicates removed:\", result)\n",
        "\n"
      ],
      "metadata": {
        "colab": {
          "base_uri": "https://localhost:8080/"
        },
        "id": "5K0uUMTkMv8b",
        "outputId": "acaab828-2755-4838-f182-26ac1d9722e1"
      },
      "execution_count": 31,
      "outputs": [
        {
          "output_type": "stream",
          "name": "stdout",
          "text": [
            "Original list: [1, 2, 3, 2, 1, 4, 5, 4, 6, 7, 6, 5]\n",
            "List with duplicates removed: [1, 2, 3, 4, 5, 6, 7]\n"
          ]
        }
      ]
    },
    {
      "cell_type": "markdown",
      "source": [
        "34. Implement a function to find the longest common prefix among a list of strings."
      ],
      "metadata": {
        "id": "7Dwhvi1DMxG7"
      }
    },
    {
      "cell_type": "code",
      "source": [
        "def longest_common_prefix(strs):\n",
        "    if not strs:\n",
        "        return \"\"\n",
        "    prefix = strs[0]\n",
        "    for s in strs[1:]:\n",
        "        while not s.startswith(prefix):\n",
        "            prefix = prefix[:-1]\n",
        "            if not prefix:\n",
        "                return \"\"\n",
        "    return prefix\n",
        "\n",
        "strs = [\"flower\", \"flow\", \"flight\"]\n",
        "prefix = longest_common_prefix(strs)\n",
        "print(\"Longest common prefix of\", strs, \"is\", prefix)\n",
        "\n"
      ],
      "metadata": {
        "colab": {
          "base_uri": "https://localhost:8080/"
        },
        "id": "O8E-M-VPMytr",
        "outputId": "d623f103-9983-4302-e465-390c1777fba9"
      },
      "execution_count": 32,
      "outputs": [
        {
          "output_type": "stream",
          "name": "stdout",
          "text": [
            "Longest common prefix of ['flower', 'flow', 'flight'] is fl\n"
          ]
        }
      ]
    },
    {
      "cell_type": "markdown",
      "source": [
        "35. Write a program to check if a given number is a perfect square"
      ],
      "metadata": {
        "id": "BBHBpwopM1X7"
      }
    },
    {
      "cell_type": "code",
      "source": [
        "def is_perfect_square(n):\n",
        "    if n < 0:\n",
        "        return False\n",
        "    elif n == 0:\n",
        "        return True\n",
        "    else:\n",
        "        i = 1\n",
        "        while i * i <= n:\n",
        "            if i * i == n:\n",
        "                return True\n",
        "            i += 1\n",
        "        return False\n",
        "\n",
        "n = 16\n",
        "if is_perfect_square(n):\n",
        "    print(n, \"is a perfect square\")\n",
        "else:\n",
        "    print(n, \"is not a perfect square\")\n"
      ],
      "metadata": {
        "colab": {
          "base_uri": "https://localhost:8080/"
        },
        "id": "XIc_WSRzM3Oa",
        "outputId": "1b8672e0-36e0-49cf-9760-95b0ef617cc3"
      },
      "execution_count": 33,
      "outputs": [
        {
          "output_type": "stream",
          "name": "stdout",
          "text": [
            "16 is a perfect square\n"
          ]
        }
      ]
    },
    {
      "cell_type": "markdown",
      "source": [
        "36. Implement a function to calculate the product of all elements in a list."
      ],
      "metadata": {
        "id": "2VVBdHQqM6eU"
      }
    },
    {
      "cell_type": "code",
      "source": [
        "def product_of_list(lst):\n",
        "    product = 1\n",
        "    for num in lst:\n",
        "        product *= num\n",
        "    return product\n",
        "\n",
        "lst = [1, 2, 3, 4, 5]\n",
        "product = product_of_list(lst)\n",
        "print(\"Product of\", lst, \"is\", product)\n",
        "\n"
      ],
      "metadata": {
        "colab": {
          "base_uri": "https://localhost:8080/"
        },
        "id": "Rl1uM1dpM-eF",
        "outputId": "b785766e-0a24-4b33-d3fd-d50d115c69c7"
      },
      "execution_count": 34,
      "outputs": [
        {
          "output_type": "stream",
          "name": "stdout",
          "text": [
            "Product of [1, 2, 3, 4, 5] is 120\n"
          ]
        }
      ]
    },
    {
      "cell_type": "markdown",
      "source": [
        "37. Write a Python program to reverse the order of words in a sentence while preserving the word order."
      ],
      "metadata": {
        "id": "1PIZGVmfNA79"
      }
    },
    {
      "cell_type": "code",
      "source": [
        "def reverse_words(sentence):\n",
        "    words = sentence.split()\n",
        "    words.reverse()\n",
        "    return \" \".join(words)\n",
        "\n",
        "sentence = \"The quick brown fox jumps over the lazy dog\"\n",
        "reversed_sentence = reverse_words(sentence)\n",
        "print(\"Original sentence:\", sentence)\n",
        "print(\"Reversed sentence:\", reversed_sentence)\n",
        "\n"
      ],
      "metadata": {
        "colab": {
          "base_uri": "https://localhost:8080/"
        },
        "id": "H42M2Xx3NAl7",
        "outputId": "f0abaf45-0871-44f7-a790-c95e29660ee9"
      },
      "execution_count": 35,
      "outputs": [
        {
          "output_type": "stream",
          "name": "stdout",
          "text": [
            "Original sentence: The quick brown fox jumps over the lazy dog\n",
            "Reversed sentence: dog lazy the over jumps fox brown quick The\n"
          ]
        }
      ]
    },
    {
      "cell_type": "markdown",
      "source": [
        "38. Implement a function to find the missing number in a given list of consecutive numbers."
      ],
      "metadata": {
        "id": "yOefvfXRNDb2"
      }
    },
    {
      "cell_type": "code",
      "source": [
        "def find_missing_number(lst):\n",
        "    n = len(lst) + 1\n",
        "    expected_sum = n * (n + 1) // 2\n",
        "    actual_sum = sum(lst)\n",
        "    return expected_sum - actual_sum\n",
        "\n",
        "lst = [1, 2, 3, 5, 6, 7, 8, 9]\n",
        "missing_number = find_missing_number(lst)\n",
        "print(\"Missing number in\", lst, \"is\", missing_number)\n"
      ],
      "metadata": {
        "colab": {
          "base_uri": "https://localhost:8080/"
        },
        "id": "ULzkn-WqNFXT",
        "outputId": "db89a6e6-e9ee-412a-ffe3-8ff591438128"
      },
      "execution_count": 36,
      "outputs": [
        {
          "output_type": "stream",
          "name": "stdout",
          "text": [
            "Missing number in [1, 2, 3, 5, 6, 7, 8, 9] is 4\n"
          ]
        }
      ]
    },
    {
      "cell_type": "markdown",
      "source": [
        "39. Write a program to find the sum of digits of a given number."
      ],
      "metadata": {
        "id": "WQmbKd18NHZj"
      }
    },
    {
      "cell_type": "code",
      "source": [
        "def sum_of_digits(n):\n",
        "    sum = 0\n",
        "    while n > 0:\n",
        "        digit = n % 10\n",
        "        sum += digit\n",
        "        n //= 10\n",
        "    return sum\n",
        "\n",
        "n = 12345\n",
        "sum = sum_of_digits(n)\n",
        "print(\"Sum of digits of\", n, \"is\", sum)\n"
      ],
      "metadata": {
        "colab": {
          "base_uri": "https://localhost:8080/"
        },
        "id": "MV0JPznrNJmz",
        "outputId": "c1bb5517-0fd9-4469-df72-381e99674281"
      },
      "execution_count": 37,
      "outputs": [
        {
          "output_type": "stream",
          "name": "stdout",
          "text": [
            "Sum of digits of 12345 is 15\n"
          ]
        }
      ]
    },
    {
      "cell_type": "markdown",
      "source": [
        "40. Implement a function to check if a given string is a valid palindrome considering case sensitivity."
      ],
      "metadata": {
        "id": "eKBLnpJbNL67"
      }
    },
    {
      "cell_type": "code",
      "source": [
        "def is_palindrome(s):\n",
        "    return s == s[::-1]\n",
        "\n",
        "s = \"racecar\"\n",
        "if is_palindrome(s):\n",
        "    print(s, \"is a valid palindrome\")\n",
        "else:\n",
        "    print(s, \"is not a valid palindrome\")\n"
      ],
      "metadata": {
        "colab": {
          "base_uri": "https://localhost:8080/"
        },
        "id": "a-89XqGtNNyr",
        "outputId": "859dfd59-149b-45db-bf58-298ac9918646"
      },
      "execution_count": 38,
      "outputs": [
        {
          "output_type": "stream",
          "name": "stdout",
          "text": [
            "racecar is a valid palindrome\n"
          ]
        }
      ]
    },
    {
      "cell_type": "markdown",
      "source": [
        "41. Write a Python program to find the smallest missing positive integer in a list."
      ],
      "metadata": {
        "id": "knM_2kj7NRjr"
      }
    },
    {
      "cell_type": "code",
      "source": [
        "def smallest_missing_positive_integer(lst):\n",
        "    n = len(lst)\n",
        "    for i in range(n):\n",
        "        while 1 <= lst[i] <= n and lst[i] != lst[lst[i] - 1]:\n",
        "            lst[lst[i] - 1], lst[i] = lst[i], lst[lst[i] - 1]\n",
        "    for i in range(n):\n",
        "        if lst[i] != i + 1:\n",
        "            return i + 1\n",
        "    return n + 1\n",
        "\n",
        "lst = [3, 4, -1, 1]\n",
        "smallest_missing = smallest_missing_positive_integer(lst)\n",
        "print(\"Smallest missing positive integer in\", lst, \"is\", smallest_missing)\n"
      ],
      "metadata": {
        "colab": {
          "base_uri": "https://localhost:8080/"
        },
        "id": "_URGK97zNTos",
        "outputId": "6a0c65ad-cbd3-40d7-eabe-54f6624f2242"
      },
      "execution_count": 39,
      "outputs": [
        {
          "output_type": "stream",
          "name": "stdout",
          "text": [
            "Smallest missing positive integer in [1, -1, 3, 4] is 2\n"
          ]
        }
      ]
    },
    {
      "cell_type": "markdown",
      "source": [
        "42. Implement a function to find the longest palindrome substring in a given string."
      ],
      "metadata": {
        "id": "jtTcEM0WNU1s"
      }
    },
    {
      "cell_type": "code",
      "source": [
        "def longest_palindrome(s):\n",
        "    n = len(s)\n",
        "    longest = \"\"\n",
        "    for i in range(n):\n",
        "        for j in range(i, n):\n",
        "            substring = s[i:j+1]\n",
        "            if substring == substring[::-1] and len(substring) > len(longest):\n",
        "                longest = substring\n",
        "    return longest\n",
        "\n",
        "s = \"babad\"\n",
        "longest = longest_palindrome(s)\n",
        "print(\"Longest palindrome substring in\", s, \"is\", longest)\n",
        "\n"
      ],
      "metadata": {
        "colab": {
          "base_uri": "https://localhost:8080/"
        },
        "id": "gNSRvU0uNWwr",
        "outputId": "d0daada2-87f4-4300-a6b3-63e3d38c293d"
      },
      "execution_count": 40,
      "outputs": [
        {
          "output_type": "stream",
          "name": "stdout",
          "text": [
            "Longest palindrome substring in babad is bab\n"
          ]
        }
      ]
    },
    {
      "cell_type": "markdown",
      "source": [
        "43. Write a program to find the number of occurrences of a given element in a list."
      ],
      "metadata": {
        "id": "PWpUgeiNNab8"
      }
    },
    {
      "cell_type": "code",
      "source": [
        "def count_occurrences(lst, element):\n",
        "    count = 0\n",
        "    for item in lst:\n",
        "        if item == element:\n",
        "            count += 1\n",
        "    return count\n",
        "\n",
        "lst = [1, 2, 3, 2, 1, 4, 5, 4, 6, 7, 6, 5]\n",
        "element = 2\n",
        "count = count_occurrences(lst, element)\n",
        "print(\"Number of occurrences of\", element, \"in\", lst, \"is\", count)\n"
      ],
      "metadata": {
        "colab": {
          "base_uri": "https://localhost:8080/"
        },
        "id": "8yvSV1rtNbD1",
        "outputId": "cb6b381d-0efb-4dfc-a66d-e8cf4ed19ed3"
      },
      "execution_count": 41,
      "outputs": [
        {
          "output_type": "stream",
          "name": "stdout",
          "text": [
            "Number of occurrences of 2 in [1, 2, 3, 2, 1, 4, 5, 4, 6, 7, 6, 5] is 2\n"
          ]
        }
      ]
    },
    {
      "cell_type": "markdown",
      "source": [
        "44. Implement a function to check if a given number is a perfect number."
      ],
      "metadata": {
        "id": "AllawN9YNdqr"
      }
    },
    {
      "cell_type": "code",
      "source": [
        "def is_perfect_number(n):\n",
        "    if n <= 0:\n",
        "        return False\n",
        "    divisors = []\n",
        "    for i in range(1, n):\n",
        "        if n % i == 0:\n",
        "            divisors.append(i)\n",
        "    return (sum(divisors) == n)\n",
        "\n",
        "n = 28\n",
        "if is_perfect_number(n):\n",
        "    print(n, \"is a perfect number\")\n",
        "else:\n",
        "    print(n, \"is not a perfect number\")\n"
      ],
      "metadata": {
        "id": "QsD6BwjQNgXD"
      },
      "execution_count": null,
      "outputs": []
    },
    {
      "cell_type": "markdown",
      "source": [
        "45. Write a Python program to remove all duplicates from a string."
      ],
      "metadata": {
        "id": "d6BsSDoAQQVd"
      }
    },
    {
      "cell_type": "code",
      "source": [
        "def remove_duplicates(s):\n",
        "    return \"\".join(set(s))\n",
        "\n",
        "s = \"hello world\"\n",
        "new_s = remove_duplicates(s)\n",
        "print(\"Original string:\", s)\n",
        "print(\"String with duplicates removed:\", new_s)\n"
      ],
      "metadata": {
        "colab": {
          "base_uri": "https://localhost:8080/"
        },
        "id": "dhRwW-N1Qmjk",
        "outputId": "e2167ad9-7588-4e92-b74e-1bbf70a47c00"
      },
      "execution_count": 47,
      "outputs": [
        {
          "output_type": "stream",
          "name": "stdout",
          "text": [
            "Original string: hello world\n",
            "String with duplicates removed: ldowr he\n"
          ]
        }
      ]
    },
    {
      "cell_type": "markdown",
      "source": [
        "46. Implement a function to find the first missing positive"
      ],
      "metadata": {
        "id": "DsjmU7HoQn2U"
      }
    },
    {
      "cell_type": "code",
      "source": [
        "def first_missing_positive(lst):\n",
        "    n = len(lst)\n",
        "    for i in range(n):\n",
        "        while 1 <= lst[i] <= n and lst[i] != lst[lst[i] - 1]:\n",
        "            lst[lst[i] - 1], lst[i] = lst[i], lst[lst[i] - 1]\n",
        "    for i in range(n):\n",
        "        if lst[i] != i + 1:\n",
        "            return i + 1\n",
        "    return n + 1\n",
        "\n",
        "lst = [3, 4, -1, 1]\n",
        "first_missing = first_missing_positive(lst)\n",
        "print(\"First missing positive integer in\", lst, \"is\", first_missing)\n"
      ],
      "metadata": {
        "colab": {
          "base_uri": "https://localhost:8080/"
        },
        "id": "FmG-wj4dQrJc",
        "outputId": "225ac880-2d1d-46de-de3d-85ece72940d0"
      },
      "execution_count": 48,
      "outputs": [
        {
          "output_type": "stream",
          "name": "stdout",
          "text": [
            "First missing positive integer in [1, -1, 3, 4] is 2\n"
          ]
        }
      ]
    }
  ]
}