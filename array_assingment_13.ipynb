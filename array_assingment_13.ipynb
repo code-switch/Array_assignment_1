{
  "nbformat": 4,
  "nbformat_minor": 0,
  "metadata": {
    "colab": {
      "provenance": []
    },
    "kernelspec": {
      "name": "python3",
      "display_name": "Python 3"
    },
    "language_info": {
      "name": "python"
    }
  },
  "cells": [
    {
      "cell_type": "markdown",
      "source": [
        "<aside>\n",
        "💡 **Question 1**\n",
        "\n",
        "Given two linked list of the same size, the task is to create a new linked list using those linked lists. The condition is that the greater node among both linked list will be added to the new linked list.\n",
        "\n",
        "</aside>\n",
        "Examples:\n",
        "\n",
        "```\n",
        "Input: list1 = 5->2->3->8\n",
        "\n",
        "list2 = 1->7->4->5\n",
        "Output: New list = 5->7->4->8\n",
        "\n",
        "\n",
        "Input:list1 = 2->8->9->3\n",
        "list2 = 5->3->6->4\n",
        "Output: New list = 5->8->9->4\n",
        "```"
      ],
      "metadata": {
        "id": "ILZD0pEVEtSn"
      }
    },
    {
      "cell_type": "code",
      "execution_count": 9,
      "metadata": {
        "id": "88g64gNQErFP",
        "colab": {
          "base_uri": "https://localhost:8080/"
        },
        "outputId": "91040f60-0f86-4779-97f4-7de0fa1b8bae"
      },
      "outputs": [
        {
          "output_type": "stream",
          "name": "stdout",
          "text": [
            "First List: 0 9 14 12 \n",
            "Second List: 5 2 16 33 \n",
            "New List: 5 2 16 33 0 9 14 12 \n"
          ]
        }
      ],
      "source": [
        "class Node:\n",
        "    def __init__(self, data):\n",
        "        self.data = data\n",
        "        self.next = None\n",
        "\n",
        "def createNewList(l1, l2):\n",
        "    if l1 is None or l2 is None:\n",
        "        return None\n",
        "    if l1.data > l2.data:\n",
        "        head = Node(l1.data)\n",
        "        l1 = l1.next\n",
        "    else:\n",
        "        head = Node(l2.data)\n",
        "        l2 = l2.next\n",
        "    now = head\n",
        "    while l1 is not None and l2 is not None:\n",
        "        if l1.data > l2.data:\n",
        "            now.next = Node(l1.data)\n",
        "            l1 = l1.next\n",
        "        else:\n",
        "            now.next = Node(l2.data)\n",
        "            l2 = l2.next\n",
        "        now = now.next\n",
        "    while l1 is not None:\n",
        "        now.next = Node(l1.data)\n",
        "        l1 = l1.next\n",
        "        now = now.next\n",
        "    while l2 is not None:\n",
        "        now.next = Node(l2.data)\n",
        "        l2 = l2.next\n",
        "        now = now.next\n",
        "    return head\n",
        "\n",
        "def printList(head):\n",
        "    while head:\n",
        "        print(head.data, end=\" \")\n",
        "        head = head.next\n",
        "    print()\n",
        "\n",
        "l1 = Node(0)\n",
        "l1.next = Node(9)\n",
        "l1.next.next = Node(14)\n",
        "l1.next.next.next = Node(12)\n",
        "l2 = Node(5)\n",
        "l2.next = Node(2)\n",
        "l2.next.next = Node(16)\n",
        "l2.next.next.next = Node(33)\n",
        "print(\"First List: \", end=\"\")\n",
        "printList(l1)\n",
        "print(\"Second List: \", end=\"\")\n",
        "printList(l2)\n",
        "newList = createNewList(l1, l2)\n",
        "print(\"New List: \", end=\"\")\n",
        "printList(newList)"
      ]
    },
    {
      "cell_type": "markdown",
      "source": [
        "<aside>\n",
        "💡 **Question 2**\n",
        "\n",
        "Write a function that takes a list sorted in non-decreasing order and deletes any duplicate nodes from the list. The list should only be traversed once.\n",
        "\n",
        "For example if the linked list is 11->11->11->21->43->43->60 then removeDuplicates() should convert the list to 11->21->43->60.\n",
        "\n",
        "**Example 1:**\n",
        "\n",
        "```\n",
        "Input:\n",
        "LinkedList:\n",
        "11->11->11->21->43->43->60\n",
        "Output:\n",
        "11->21->43->60\n",
        "\n",
        "```"
      ],
      "metadata": {
        "id": "MD3OoiglKMrH"
      }
    },
    {
      "cell_type": "code",
      "source": [
        "class Node:\n",
        "    def __init__(self, data):\n",
        "        self.data = data\n",
        "        self.next = None\n",
        "\n",
        "def remove_duplicates(head):\n",
        "    if head is None:\n",
        "        return None\n",
        "    now = head\n",
        "    while now.next is not None:\n",
        "        if now.data == now.next.data:\n",
        "            now.next = now.next.next\n",
        "        else:\n",
        "            now = now.next\n",
        "    return head\n",
        "\n",
        "def printList(head):\n",
        "    while head:\n",
        "        print(head.data, end=\" \")\n",
        "        head = head.next\n",
        "    print()\n",
        "\n",
        "head = Node(1)\n",
        "head.next = Node(5)\n",
        "head.next.next = Node(5)\n",
        "head.next.next.next = Node(15)\n",
        "head.next.next.next.next = Node(15)\n",
        "head.next.next.next.next.next = Node(5)\n",
        "head.next.next.next.next.next.next = Node(32)\n",
        "print(\"Initial Linked List: \", end=\"\")\n",
        "printList(head)\n",
        "head = remove_duplicates(head)\n",
        "print(\"Linked List after removing duplicates: \", end=\"\")\n",
        "printList(head)"
      ],
      "metadata": {
        "id": "dBtHBEtRKNNH",
        "colab": {
          "base_uri": "https://localhost:8080/"
        },
        "outputId": "47dee534-d135-4d0a-8761-4b4d2587c9a6"
      },
      "execution_count": 8,
      "outputs": [
        {
          "output_type": "stream",
          "name": "stdout",
          "text": [
            "Initial Linked List: 1 5 5 15 15 5 32 \n",
            "Linked List after removing duplicates: 1 5 15 5 32 \n"
          ]
        }
      ]
    },
    {
      "cell_type": "markdown",
      "source": [
        "<aside>\n",
        "💡 **Question 3**\n",
        "\n",
        "Given a linked list of size **N**. The task is to reverse every **k** nodes (where k is an input to the function) in the linked list. If the number of nodes is not a multiple of *k* then left-out nodes, in the end, should be considered as a group and must be reversed (See Example 2 for clarification).\n",
        "\n",
        "**Example 1:**\n",
        "\n",
        "</aside>\n",
        "\n",
        "```\n",
        "Input:\n",
        "LinkedList: 1->2->2->4->5->6->7->8\n",
        "K = 4\n",
        "Output:4 2 2 1 8 7 6 5\n",
        "Explanation:\n",
        "The first 4 elements 1,2,2,4 are reversed first\n",
        "and then the next 4 elements 5,6,7,8. Hence, the\n",
        "resultant linked list is 4->2->2->1->8->7->6->5.\n",
        "```"
      ],
      "metadata": {
        "id": "ApEvzWIGeyT0"
      }
    },
    {
      "cell_type": "code",
      "source": [
        "class Node:\n",
        "    def __init__(self, data):\n",
        "        self.data = data\n",
        "        self.next = None\n",
        "\n",
        "def reverse(head, k):\n",
        "    if head is None:\n",
        "        return None\n",
        "    present_pos = head\n",
        "    ct = 0\n",
        "    while present_pos is not None and ct < k:\n",
        "        present_pos = present_pos.next\n",
        "        ct += 1\n",
        "    if ct == k:\n",
        "        present_pos = reverse(present_pos, k)\n",
        "        while ct > 0:\n",
        "            a = head.next\n",
        "            head.next = present_pos\n",
        "            present_pos = head\n",
        "            head = a\n",
        "            ct -= 1\n",
        "        head = present_pos\n",
        "    return head\n",
        "\n",
        "def printList(head):\n",
        "    while head:\n",
        "        print(head.data, end=\" \")\n",
        "        head = head.next\n",
        "    print()\n",
        "\n",
        "\n",
        "head = Node(1)\n",
        "head.next = Node(2)\n",
        "head.next.next = Node(11)\n",
        "head.next.next.next = Node(4)\n",
        "head.next.next.next.next = Node(23)\n",
        "head.next.next.next.next.next = Node(6)\n",
        "head.next.next.next.next.next.next = Node(0)\n",
        "head.next.next.next.next.next.next.next = Node(9)\n",
        "print(\"Linked List: \", end=\"\")\n",
        "printList(head)\n",
        "head = reverse(head, 4)\n",
        "print(\"Linked List after reversing: \", end=\"\")\n",
        "printList(head)"
      ],
      "metadata": {
        "colab": {
          "base_uri": "https://localhost:8080/"
        },
        "id": "yk1bBpvLekPZ",
        "outputId": "fcd316cf-b975-478e-b847-85671cd09af5"
      },
      "execution_count": 7,
      "outputs": [
        {
          "output_type": "stream",
          "name": "stdout",
          "text": [
            "Linked List: 1 2 11 4 23 6 0 9 \n",
            "Linked List after reversing in groups of 4: 4 11 2 1 9 0 6 23 \n"
          ]
        }
      ]
    },
    {
      "cell_type": "markdown",
      "source": [
        "<aside>\n",
        "💡 **Question 4**\n",
        "\n",
        "Given a linked list, write a function to reverse every alternate k nodes (where k is an input to the function) in an efficient way. Give the complexity of your algorithm.\n",
        "\n",
        "**Example:**\n",
        "\n",
        "```\n",
        "Inputs:   1->2->3->4->5->6->7->8->9->NULL and k = 3\n",
        "Output:   3->2->1->4->5->6->9->8->7->NULL.\n",
        "```"
      ],
      "metadata": {
        "id": "GWGY-S7ggjAF"
      }
    },
    {
      "cell_type": "code",
      "source": [
        "class Node:\n",
        "    def __init__(self, data):\n",
        "        self.data = data\n",
        "        self.next = None\n",
        "\n",
        "def alternate_rev(head, k):\n",
        "    if head is None:\n",
        "        return None\n",
        "    this_pos = head\n",
        "    prev = None\n",
        "    ct = 0\n",
        "    while this_pos is not None and ct < k:\n",
        "        next_pos = this_pos.next\n",
        "        this_pos.next = prev\n",
        "        prev = this_pos\n",
        "        this_pos = next_pos\n",
        "        ct += 1\n",
        "    if head is not None:\n",
        "        head.next = this_pos\n",
        "    ct = 0\n",
        "    while this_pos is not None and ct < k - 1:\n",
        "        this_pos = this_pos.next\n",
        "        ct += 1\n",
        "    if this_pos is not None:\n",
        "        this_pos.next = alternate_rev(this_pos.next, k)\n",
        "    return prev\n",
        "\n",
        "def printList(head):\n",
        "    while head:\n",
        "        print(head.data, end=\" \")\n",
        "        head = head.next\n",
        "    print()\n",
        "\n",
        "head = Node(1)\n",
        "head.next = Node(3)\n",
        "head.next.next = Node(5)\n",
        "head.next.next.next = Node(6)\n",
        "head.next.next.next.next = Node(9)\n",
        "head.next.next.next.next.next = Node(13)\n",
        "head.next.next.next.next.next.next = Node(14)\n",
        "head.next.next.next.next.next.next.next = Node(16)\n",
        "head.next.next.next.next.next.next.next.next = Node(19)\n",
        "print(\"Linked List: \", end=\"\\n\")\n",
        "printList(head)\n",
        "head = alternate_rev(head, 3)\n",
        "print(\"Linked List after reversing: \", end=\"\\n\")\n",
        "printList(head)"
      ],
      "metadata": {
        "colab": {
          "base_uri": "https://localhost:8080/"
        },
        "id": "t9M1eEM7fdLC",
        "outputId": "7e60c35b-f0fe-435d-d309-a7dda75a998b"
      },
      "execution_count": 11,
      "outputs": [
        {
          "output_type": "stream",
          "name": "stdout",
          "text": [
            "Linked List: \n",
            "1 3 5 6 9 13 14 16 19 \n",
            "Linked List after reversing: \n",
            "5 3 1 6 9 13 19 16 14 \n"
          ]
        }
      ]
    },
    {
      "cell_type": "markdown",
      "source": [
        "<aside>\n",
        "💡 **Question 5**\n",
        "\n",
        "Given a linked list and a key to be deleted. Delete last occurrence of key from linked. The list may have duplicates.\n",
        "\n",
        "**Examples**:\n",
        "\n",
        "```\n",
        "Input:   1->2->3->5->2->10, key = 2\n",
        "Output:  1->2->3->5->10\n",
        "```\n"
      ],
      "metadata": {
        "id": "1F0AiSTqhjyU"
      }
    },
    {
      "cell_type": "code",
      "source": [
        "class Node:\n",
        "    def __init__(self, data):\n",
        "        self.data = data\n",
        "        self.next = None\n",
        "\n",
        "def deleteLastOccurrence(head, key):\n",
        "    if head is None:\n",
        "        return None\n",
        "    this_pos = head\n",
        "    last = None\n",
        "    prev_pos = None\n",
        "\n",
        "    while this_pos is not None:\n",
        "        if this_pos.data == key:\n",
        "            last = this_pos\n",
        "            last_pre = prev_pos\n",
        "        prev_pos = this_pos\n",
        "        this_pos = this_pos.next\n",
        "    if last is not None:\n",
        "        last_pre.next = last.next\n",
        "    else:\n",
        "        print(\"Key not found in linked list\")\n",
        "\n",
        "def printList(head):\n",
        "    while head:\n",
        "        print(head.data, end=\" \")\n",
        "        head = head.next\n",
        "    print()\n",
        "\n",
        "head = Node(2)\n",
        "head.next = Node(5)\n",
        "head.next.next = Node(6)\n",
        "head.next.next.next = Node(9)\n",
        "head.next.next.next.next = Node(10)\n",
        "head.next.next.next.next.next = Node(16)\n",
        "print(\"linked list: \")\n",
        "printList(head)\n",
        "deleteLastOccurrence(head, 2)\n",
        "print(\"linked list after deleting : \")\n",
        "printList(head)"
      ],
      "metadata": {
        "id": "DGaeMma_hZuI"
      },
      "execution_count": null,
      "outputs": []
    },
    {
      "cell_type": "markdown",
      "source": [
        "<aside>\n",
        "💡 **Question 6**\n",
        "\n",
        "Given two sorted linked lists consisting of **N** and **M** nodes respectively. The task is to merge both of the lists (in place) and return the head of the merged list.\n",
        "\n",
        "**Examples:**\n",
        "\n",
        "Input: a: 5->10->15, b: 2->3->20\n",
        "\n",
        "Output: 2->3->5->10->15->20\n",
        "\n",
        "Input: a: 1->1, b: 2->4\n",
        "\n",
        "Output: 1->1->2->4\n",
        "\n",
        "</aside>"
      ],
      "metadata": {
        "id": "-P8bxAthi6Fz"
      }
    },
    {
      "cell_type": "code",
      "source": [
        "class Node:\n",
        "    def __init__(self, data):\n",
        "        self.data = data\n",
        "        self.next = None\n",
        "\n",
        "def merging(l1, l2):\n",
        "    if l1 is None:\n",
        "        return l2\n",
        "    if l2 is None:\n",
        "        return l1\n",
        "    if l1.data < l2.data:\n",
        "        l1.next = merging(l1.next, l2)\n",
        "        return l1\n",
        "    else:\n",
        "        l2.next = merging(l1, l2.next)\n",
        "        return l2\n",
        "\n",
        "def printList(head):\n",
        "    while head:\n",
        "        print(head.data, end=\" \")\n",
        "        head = head.next\n",
        "    print()\n",
        "\n",
        "a = Node(8)\n",
        "a.next = Node(13)\n",
        "a.next.next = Node(15)\n",
        "b = Node(0)\n",
        "b.next = Node(7)\n",
        "b.next.next = Node(44)\n",
        "print(\"l1 Linked List: \")\n",
        "printList(a)\n",
        "print(\"l2 Linked List: \")\n",
        "printList(b)\n",
        "head = merging(a, b)\n",
        "print(\"Merged Linked List: \")\n",
        "printList(head)"
      ],
      "metadata": {
        "colab": {
          "base_uri": "https://localhost:8080/"
        },
        "id": "UOjfAwIJidMC",
        "outputId": "e4aa5d0e-f371-4980-c97d-2f1391950ad3"
      },
      "execution_count": 13,
      "outputs": [
        {
          "output_type": "stream",
          "name": "stdout",
          "text": [
            "l1 Linked List: \n",
            "8 13 15 \n",
            "l2 Linked List: \n",
            "0 7 44 \n",
            "Merged Linked List: \n",
            "0 7 8 13 15 44 \n"
          ]
        }
      ]
    },
    {
      "cell_type": "markdown",
      "source": [
        "<aside>\n",
        "💡 **Question 7**\n",
        "\n",
        "Given a **Doubly Linked List**, the task is to reverse the given Doubly Linked List.\n",
        "\n",
        "**Example:**\n",
        "\n",
        "```\n",
        "Original Linked list 10 8 4 2\n",
        "Reversed Linked list 2 4 8 10\n",
        "```"
      ],
      "metadata": {
        "id": "q711fQyEjj6W"
      }
    },
    {
      "cell_type": "code",
      "source": [
        "class Node:\n",
        "    def __init__(self, data):\n",
        "        self.data = data\n",
        "        self.prev = None\n",
        "        self.next = None\n",
        "\n",
        "def reverse(head):\n",
        "    if head is None:\n",
        "        return None\n",
        "    this_pos = head\n",
        "    while this_pos is not None:\n",
        "        a = this_pos.prev\n",
        "        this_pos.prev = this_pos.next\n",
        "        this_pos.next = a\n",
        "        this_pos = this_pos.prev\n",
        "    if a is not None:\n",
        "        head = a.prev\n",
        "    return head\n",
        "\n",
        "def printList(head):\n",
        "    while head:\n",
        "        print(head.data, end=\" \")\n",
        "        head = head.next\n",
        "    print()\n",
        "\n",
        "head = Node(13)\n",
        "head.next = Node(5)\n",
        "head.next.prev = head\n",
        "head.next.next = Node(2)\n",
        "head.next.next.prev = head.next\n",
        "head.next.next.next = Node(0)\n",
        "head.next.next.next.prev = head.next.next\n",
        "print(\"doubly linked list: \")\n",
        "printList(head)\n",
        "head = reverse(head)\n",
        "print(\"Reversed: \")\n",
        "printList(head)"
      ],
      "metadata": {
        "colab": {
          "base_uri": "https://localhost:8080/"
        },
        "id": "S7TuxoAcjcWA",
        "outputId": "4091555a-c328-4df8-dc88-272184b45573"
      },
      "execution_count": 15,
      "outputs": [
        {
          "output_type": "stream",
          "name": "stdout",
          "text": [
            "doubly linked list: \n",
            "13 5 2 0 \n",
            "Reversed: \n",
            "0 2 5 13 \n"
          ]
        }
      ]
    },
    {
      "cell_type": "markdown",
      "source": [
        "<aside>\n",
        "💡 **Question 8**\n",
        "\n",
        "Given a doubly linked list and a position. The task is to delete a node from given position in a doubly linked list.\n",
        "\n",
        "**Example 1:**\n",
        "\n",
        "```\n",
        "Input:\n",
        "LinkedList = 1 <--> 3 <--> 4\n",
        "x = 3\n",
        "Output:1 3\n",
        "Explanation:After deleting the node at\n",
        "position 3 (position starts from 1),\n",
        "the linked list will be now as 1->3.\n",
        "```\n",
        "Example 2:\n",
        "\n",
        "```\n",
        "Input:\n",
        "LinkedList = 1 <--> 5 <--> 2 <--> 9\n",
        "x = 1\n",
        "Output:5 2 9\n",
        "```"
      ],
      "metadata": {
        "id": "9F3g-V7EkJ2T"
      }
    },
    {
      "cell_type": "code",
      "source": [
        "class Node:\n",
        "    def __init__(self, data):\n",
        "        self.data = data\n",
        "        self.prev = None\n",
        "        self.next = None\n",
        "\n",
        "def delete(head, pos):\n",
        "    if head is None:\n",
        "        return None\n",
        "    if pos == 1:\n",
        "        head = head.next\n",
        "        head.prev = None\n",
        "        return head\n",
        "    this_pos = head\n",
        "    ct = 1\n",
        "    while this_pos is not None and ct < pos:\n",
        "        this_pos = this_pos.next\n",
        "        ct += 1\n",
        "    if this_pos is not None:\n",
        "        this_pos.prev.next = this_pos.next\n",
        "        if this_pos.next is not None:\n",
        "            this_pos.next.prev = this_pos.prev\n",
        "    return head\n",
        "\n",
        "def printList(head):\n",
        "    while head:\n",
        "        print(head.data, end=\" \")\n",
        "        head = head.next\n",
        "    print()\n",
        "\n",
        "head = Node(5)\n",
        "head.next = Node(67)\n",
        "head.next.prev = head\n",
        "head.next.next = Node(78)\n",
        "head.next.next.prev = head.next\n",
        "head.next.next.next = Node(111)\n",
        "head.next.next.next.prev = head.next\n",
        "print(\"doubly linked list: \")\n",
        "printList(head)\n",
        "head = delete(head, 3)\n",
        "print(\"doubly linked list after deleting node : \")\n",
        "printList(head)"
      ],
      "metadata": {
        "colab": {
          "base_uri": "https://localhost:8080/"
        },
        "id": "Y3jx7EXMj-3W",
        "outputId": "30c71b6a-2082-4f74-9333-53414b728d28"
      },
      "execution_count": 18,
      "outputs": [
        {
          "output_type": "stream",
          "name": "stdout",
          "text": [
            "doubly linked list: \n",
            "5 67 78 111 \n",
            "doubly linked list after deleting node : \n",
            "5 67 111 \n"
          ]
        }
      ]
    },
    {
      "cell_type": "code",
      "source": [],
      "metadata": {
        "id": "EY_ANPL9kvIS"
      },
      "execution_count": null,
      "outputs": []
    }
  ]
}