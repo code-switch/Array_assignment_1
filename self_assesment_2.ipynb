{
  "nbformat": 4,
  "nbformat_minor": 0,
  "metadata": {
    "colab": {
      "provenance": []
    },
    "kernelspec": {
      "name": "python3",
      "display_name": "Python 3"
    },
    "language_info": {
      "name": "python"
    }
  },
  "cells": [
    {
      "cell_type": "markdown",
      "source": [
        "Implement a stack using a list in Python. Include the necessary methods such as push, pop, and isEmpty."
      ],
      "metadata": {
        "id": "ILZD0pEVEtSn"
      }
    },
    {
      "cell_type": "code",
      "execution_count": 1,
      "metadata": {
        "id": "88g64gNQErFP",
        "colab": {
          "base_uri": "https://localhost:8080/"
        },
        "outputId": "14e93654-01be-467c-d8c5-da2129b88c9f"
      },
      "outputs": [
        {
          "output_type": "stream",
          "name": "stdout",
          "text": [
            "3\n",
            "2\n",
            "1\n",
            "Stack is empty\n"
          ]
        }
      ],
      "source": [
        "stack = []\n",
        "\n",
        "# push items onto the stack\n",
        "stack.append(1)\n",
        "stack.append(2)\n",
        "stack.append(3)\n",
        "\n",
        "# pop items from the stack\n",
        "print(stack.pop())  # 3\n",
        "print(stack.pop())  # 2\n",
        "print(stack.pop())  # 1\n",
        "\n",
        "# check if the stack is empty\n",
        "if len(stack) == 0:\n",
        "    print(\"Stack is empty\")\n",
        "else:\n",
        "    print(\"Stack is not empty\")"
      ]
    },
    {
      "cell_type": "markdown",
      "source": [
        "Implement a queue using a list in Python. Include the necessary methods such as enqueue, dequeue, and isEmpty."
      ],
      "metadata": {
        "id": "MD3OoiglKMrH"
      }
    },
    {
      "cell_type": "code",
      "source": [
        "queue = []\n",
        "\n",
        "# enqueue items into the queue\n",
        "queue.append(1)\n",
        "queue.append(2)\n",
        "queue.append(3)\n",
        "\n",
        "# dequeue items from the queue\n",
        "print(queue.pop(0))  # 1\n",
        "print(queue.pop(0))  # 2\n",
        "print(queue.pop(0))  # 3\n",
        "\n",
        "# check if the queue is empty\n",
        "if len(queue) == 0:\n",
        "    print(\"Queue is empty\")\n",
        "else:\n",
        "    print(\"Queue is not empty\")"
      ],
      "metadata": {
        "id": "dBtHBEtRKNNH",
        "colab": {
          "base_uri": "https://localhost:8080/"
        },
        "outputId": "0e048bf9-9e02-4a4b-f6d9-ced3f2edd704"
      },
      "execution_count": 2,
      "outputs": [
        {
          "output_type": "stream",
          "name": "stdout",
          "text": [
            "1\n",
            "2\n",
            "3\n",
            "Queue is empty\n"
          ]
        }
      ]
    }
  ]
}