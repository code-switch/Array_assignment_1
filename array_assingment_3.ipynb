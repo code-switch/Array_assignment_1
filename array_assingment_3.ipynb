{
  "nbformat": 4,
  "nbformat_minor": 0,
  "metadata": {
    "colab": {
      "provenance": []
    },
    "kernelspec": {
      "name": "python3",
      "display_name": "Python 3"
    },
    "language_info": {
      "name": "python"
    }
  },
  "cells": [
    {
      "cell_type": "markdown",
      "source": [
        "Question 1\n",
        "\n",
        "Given an integer array nums of length n and an integer target, find three integers\n",
        "in nums such that the sum is closest to the target.\n",
        "Return the sum of the three integers.\n",
        "\n",
        "You may assume that each input would have exactly one solution.\n",
        "\n",
        "Example 1:\n",
        "Input: nums = [-1,2,1,-4], target = 1\n",
        "Output: 2\n",
        "\n",
        "Explanation: The sum that is closest to the target is 2. (-1 + 2 + 1 = 2)."
      ],
      "metadata": {
        "id": "xGsVb_UDrpGj"
      }
    },
    {
      "cell_type": "code",
      "source": [
        "def sum_of_three(nums, target): \n",
        "  nums.sort()\n",
        "  sum = 0\n",
        "  l = len(nums)\n",
        "  k = l-1\n",
        "  sum_diff =[]\n",
        "  idx_lst = []\n",
        "  for i in range(l-1):\n",
        "    for j in range(i+1, l-1):\n",
        "      if k!=j:\n",
        "        sum = nums[i] + nums[j] + nums[k]\n",
        "        sum_diff.append(abs(sum-target))\n",
        "        idx_lst.append((i,j,k))\n",
        "        if sum == target:\n",
        "          return sum\n",
        "        elif sum < target:\n",
        "          j+=1\n",
        "        else:\n",
        "          k-=1\n",
        "      else:\n",
        "        break\n",
        "  # print(sum_diff)\n",
        "  idx = sum_diff.index(min(sum_diff))    \n",
        "  sum = nums[idx_lst[idx][0]] + nums[idx_lst[idx][1]] + nums[idx_lst[idx][2]] \n",
        " \n",
        "  return sum\n",
        "  "
      ],
      "metadata": {
        "id": "5iI3dahTaIWU"
      },
      "execution_count": null,
      "outputs": []
    },
    {
      "cell_type": "code",
      "execution_count": null,
      "metadata": {
        "colab": {
          "base_uri": "https://localhost:8080/"
        },
        "id": "UyEWRSzTiIu0",
        "outputId": "66be5e0c-bf99-41c3-ba3b-cdead3fa7f01"
      },
      "outputs": [
        {
          "output_type": "stream",
          "name": "stdout",
          "text": [
            "[ 23  -7 -42 -16  14 -46 -28  39]\n",
            "Enter the target number:22\n",
            "21\n"
          ]
        }
      ],
      "source": [
        "#creating a array of random numbers of length 10\n",
        "import numpy as np\n",
        "\n",
        "arr_size = np.random.randint(3,10,size=(1,))[0]\n",
        "arr = np.random.randint(-50,50,size=(arr_size,))\n",
        "print(arr)\n",
        "n = int(input('Enter the target number:'))\n",
        "result = sum_of_three(arr,n)\n",
        "print(result)"
      ]
    },
    {
      "cell_type": "markdown",
      "source": [
        "Question 2\n",
        "\n",
        "Given an array nums of n integers, return an array of all the unique quadruplets\n",
        "[nums[a], nums[b], nums[c], nums[d]] such that:\n",
        "           ● 0 <= a, b, c, d < n\n",
        "           ● a, b, c, and d are distinct.\n",
        "           ● nums[a] + nums[b] + nums[c] + nums[d] == target\n",
        "\n",
        "You may return the answer in any order.\n",
        "\n",
        "Example 1:\n",
        "Input: nums = [1,0,-1,0,-2,2], target = 0\n",
        "Output: [[-2,-1,1,2],[-2,0,0,2],[-1,0,0,1]]"
      ],
      "metadata": {
        "id": "imk0izrrefwD"
      }
    },
    {
      "cell_type": "code",
      "source": [
        "def quadruplets(nums, target):\n",
        "  nums.sort()\n",
        "  sum = 0\n",
        "  l = len(nums)\n",
        "  result =[]\n",
        "  \n",
        "  for a in range(l-3):\n",
        "    if a == 0:\n",
        "      \n",
        "      for b in range(a+1, l-1):\n",
        "        if b == 1:\n",
        "          c = b+1\n",
        "          d = l-1\n",
        "        elif b > 1 and nums[b]==nums[b-1]:\n",
        "          continue\n",
        "        while d < b:\n",
        "          sum = nums[a] + nums[b] + nums[c] + nums[d] \n",
        "          \n",
        "          if sum == target:\n",
        "            result.append([nums[a], nums[b], nums[c], nums[d]])\n",
        "            while c < d and nums[c] == nums[c+1]:\n",
        "              c += 1\n",
        "            while c < d and nums[d] == nums[d-1]:\n",
        "              d -= 1\n",
        "            c +=1\n",
        "            d -=1\n",
        "          elif sum < target:\n",
        "            c+=1\n",
        "          else:\n",
        "            d-=1\n",
        "\n",
        "        \n",
        "    elif a > 0 and nums[a]==nums[a-1]:\n",
        "      continue\n",
        " \n",
        "  return sum\n",
        "  "
      ],
      "metadata": {
        "id": "A6iooGpBhTrY"
      },
      "execution_count": null,
      "outputs": []
    },
    {
      "cell_type": "code",
      "source": [
        "#creating a array of random numbers of length 10\n",
        "import numpy as np\n",
        "\n",
        "arr_size = np.random.randint(6,10,size=(1,))[0]\n",
        "arr = np.random.randint(-50,50,size=(arr_size,))\n",
        "print(arr)\n",
        "n = int(input('Enter the target number:'))\n",
        "result = quadruplets(arr,n)\n",
        "print(result)"
      ],
      "metadata": {
        "colab": {
          "base_uri": "https://localhost:8080/"
        },
        "id": "nUzWh78acFsS",
        "outputId": "d4ab428d-a9d7-421f-bdc2-58b6aebc57fc"
      },
      "execution_count": null,
      "outputs": [
        {
          "output_type": "stream",
          "name": "stdout",
          "text": [
            "[ 45  26   6  48 -48   9 -10]\n",
            "Enter the target number:31\n",
            "0\n"
          ]
        }
      ]
    },
    {
      "cell_type": "markdown",
      "source": [
        "<aside>\n",
        "💡 **Question 3**\n",
        "\n",
        "A permutation of an array of integers is an arrangement of its members into a\n",
        "sequence or linear order.\n",
        "\n",
        "For example, for arr = [1,2,3], the following are all the permutations of arr:\n",
        "[1,2,3], [1,3,2], [2, 1, 3], [2, 3, 1], [3,1,2], [3,2,1].\n",
        "\n",
        "The next permutation of an array of integers is the next lexicographically greater\n",
        "permutation of its integer. More formally, if all the permutations of the array are\n",
        "sorted in one container according to their lexicographical order, then the next\n",
        "permutation of that array is the permutation that follows it in the sorted container.\n",
        "\n",
        "If such an arrangement is not possible, the array must be rearranged as the\n",
        "lowest possible order (i.e., sorted in ascending order).\n",
        "\n",
        "● For example, the next permutation of arr = [1,2,3] is [1,3,2].\n",
        "● Similarly, the next permutation of arr = [2,3,1] is [3,1,2].\n",
        "● While the next permutation of arr = [3,2,1] is [1,2,3] because [3,2,1] does not\n",
        "have a lexicographical larger rearrangement.\n",
        "\n",
        "Given an array of integers nums, find the next permutation of nums.\n",
        "The replacement must be in place and use only constant extra memory.\n",
        "\n",
        "**Example 1:**\n",
        "Input: nums = [1,2,3]\n",
        "Output: [1,3,2]\n",
        "\n",
        "</aside>"
      ],
      "metadata": {
        "id": "s17SvhecwJxA"
      }
    },
    {
      "cell_type": "code",
      "source": [
        "def nextPermutation(nums):\n",
        "    n = len(nums)\n",
        "    i = n - 2\n",
        "    while i >= 0 and nums[i] >= nums[i + 1]:\n",
        "        i -= 1\n",
        "    if i >= 0:\n",
        "        j = n - 1\n",
        "        while j >= 0 and nums[i] >= nums[j]:\n",
        "            j -= 1\n",
        "        nums[i], nums[j] = nums[j], nums[i]\n",
        "    nums[i + 1:] = reversed(nums[i + 1:])"
      ],
      "metadata": {
        "id": "VzTRDaD0F6H4"
      },
      "execution_count": null,
      "outputs": []
    },
    {
      "cell_type": "code",
      "source": [
        "#creating a array of random numbers of length 10\n",
        "import numpy as np\n",
        "nums = [1,2,3]\n",
        "nextPermutation(nums)\n",
        "print(nums)"
      ],
      "metadata": {
        "colab": {
          "base_uri": "https://localhost:8080/"
        },
        "id": "vo166EZJQrf5",
        "outputId": "4ae56082-bddc-4282-9a6a-634af093ba7a"
      },
      "execution_count": null,
      "outputs": [
        {
          "output_type": "stream",
          "name": "stdout",
          "text": [
            "[1, 3, 2]\n"
          ]
        }
      ]
    },
    {
      "cell_type": "markdown",
      "source": [
        "Question 4\n",
        "\n",
        "\n",
        "Given a sorted array of distinct integers and a target value, return the index if the\n",
        "target is found. If not, return the index where it would be if it were inserted in\n",
        "order.\n",
        "\n",
        "You must write an algorithm with O(log n) runtime complexity.\n",
        "\n",
        "Example 1:\n",
        "Input: nums = [1,3,5,6], target = 5\n",
        "Output: 2"
      ],
      "metadata": {
        "id": "X9OQhpRC5hnG"
      }
    },
    {
      "cell_type": "code",
      "source": [
        "def findTarget(arr, target):\n",
        "  start= 0\n",
        "  end =  len(arr) - 1\n",
        "  while start <= end:\n",
        "      mid = (start + end) // 2\n",
        "      if arr[mid] == target:\n",
        "          return mid\n",
        "      elif arr[mid] < target:\n",
        "          start = mid + 1\n",
        "      else:\n",
        "          end = mid - 1\n",
        "  return f\"Number should be index:{start}\"\n"
      ],
      "metadata": {
        "id": "AzmQif-NpbRr"
      },
      "execution_count": null,
      "outputs": []
    },
    {
      "cell_type": "code",
      "source": [
        "import numpy as np\n",
        "\n",
        "A= np.random.randint(-50,50,size=(10,))\n",
        "num = np.random.choice(A,1, replace = False)[0]\n",
        "A= np.sort(A)\n",
        "print(A)\n",
        "findTarget(A,16)"
      ],
      "metadata": {
        "colab": {
          "base_uri": "https://localhost:8080/",
          "height": 53
        },
        "id": "Akgl3wCRg5PU",
        "outputId": "202f74da-dcb7-4dda-e9ae-76d99a475572"
      },
      "execution_count": null,
      "outputs": [
        {
          "output_type": "stream",
          "name": "stdout",
          "text": [
            "[-47 -43 -36 -33 -20  -3  -1  13  31  46]\n"
          ]
        },
        {
          "output_type": "execute_result",
          "data": {
            "text/plain": [
              "'Number should be index:8'"
            ],
            "application/vnd.google.colaboratory.intrinsic+json": {
              "type": "string"
            }
          },
          "metadata": {},
          "execution_count": 15
        }
      ]
    },
    {
      "cell_type": "markdown",
      "source": [
        "<aside>\n",
        "💡 **Question 5**\n",
        "\n",
        "You are given a large integer represented as an integer array digits, where each\n",
        "digits[i] is the ith digit of the integer. The digits are ordered from most significant\n",
        "to least significant in left-to-right order. The large integer does not contain any\n",
        "leading 0's.\n",
        "\n",
        "Increment the large integer by one and return the resulting array of digits.\n",
        "\n",
        "**Example 1:**\n",
        "Input: digits = [1,2,3]\n",
        "Output: [1,2,4]\n",
        "\n",
        "**Explanation:** The array represents the integer 123.\n",
        "Incrementing by one gives 123 + 1 = 124.\n",
        "Thus, the result should be [1,2,4].\n",
        "\n",
        "</aside>"
      ],
      "metadata": {
        "id": "QELQT1VosvTr"
      }
    },
    {
      "cell_type": "code",
      "source": [
        "integer = str(input('Enter a large integer='))\n",
        "print(integer)\n",
        "int_lst = integer.split(',')\n",
        "int_lst[-1] = str(int(int_lst[-1])+1)\n",
        "integer = ''.join(int_lst)\n",
        "print(integer)"
      ],
      "metadata": {
        "id": "mS3VFX9Asv6Q",
        "colab": {
          "base_uri": "https://localhost:8080/"
        },
        "outputId": "51e610db-a1bc-46db-e7fe-e396c4b538cc"
      },
      "execution_count": null,
      "outputs": [
        {
          "output_type": "stream",
          "name": "stdout",
          "text": [
            "Enter a large integer=567\n",
            "567\n",
            "568\n"
          ]
        }
      ]
    },
    {
      "cell_type": "markdown",
      "source": [
        "Question 6\n",
        "\n",
        "Given a non-empty array of integers nums, every element appears twice except\n",
        "for one. Find that single one.\n",
        "\n",
        "You must implement a solution with a linear runtime complexity and use only\n",
        "constant extra space.\n",
        "\n",
        "Example 1:\n",
        "Input: nums = [2,2,1]\n",
        "Output: 1"
      ],
      "metadata": {
        "id": "VN6LVNw7vRaH"
      }
    },
    {
      "cell_type": "code",
      "source": [
        "def single_one(nums):\n",
        "  for ele in nums:\n",
        "    if nums.count(ele)==1:\n",
        "      return ele\n",
        "    else:\n",
        "      continue\n",
        "  "
      ],
      "metadata": {
        "id": "Q1JLoaUAvR9B"
      },
      "execution_count": null,
      "outputs": []
    },
    {
      "cell_type": "code",
      "source": [
        "import numpy as np\n",
        "nums = [1,1,4,5,6,5,4,2,7,7]\n",
        "result = single_one(nums)\n",
        "print(result)"
      ],
      "metadata": {
        "colab": {
          "base_uri": "https://localhost:8080/"
        },
        "id": "6kJYtpQsiEqq",
        "outputId": "61c4cf7e-48b0-47b1-9482-fa4f8c358126"
      },
      "execution_count": null,
      "outputs": [
        {
          "output_type": "stream",
          "name": "stdout",
          "text": [
            "6\n"
          ]
        }
      ]
    },
    {
      "cell_type": "markdown",
      "source": [
        "Question 7\n",
        "\n",
        "You are given an inclusive range [lower, upper] and a sorted unique integer array\n",
        "nums, where all elements are within the inclusive range.\n",
        "\n",
        "A number x is considered missing if x is in the range [lower, upper] and x is not in\n",
        "nums.\n",
        "\n",
        "Return the shortest sorted list of ranges that exactly covers all the missing\n",
        "numbers. That is, no element of nums is included in any of the ranges, and each\n",
        "missing number is covered by one of the ranges.\n",
        "\n",
        "Example 1:\n",
        "Input: nums = [0,1,3,50,75], lower = 0, upper = 99\n",
        "Output: [[2,2],[4,49],[51,74],[76,99]]\n",
        "\n",
        "Explanation: The ranges are:\n",
        "[2,2]\n",
        "[4,49]\n",
        "[51,74]\n",
        "[76,99]"
      ],
      "metadata": {
        "id": "4isZu8GFpGPL"
      }
    },
    {
      "cell_type": "code",
      "source": [
        "def find_ranges(nums, n_range):\n",
        "  nums.sort()\n",
        "  nums = list(nums)\n",
        "  range_lst =[]\n",
        "  l =len(nums)\n",
        "  print(l)\n",
        "  if nums[0]!=n_range[0]:\n",
        "      range_lst.append([n_range[0],nums[0]])\n",
        "\n",
        "  for i in range(0,l):\n",
        "    if (nums[i] != nums[-1]) and (nums[i]-nums[i+1] > 1):\n",
        "      range_lst.append([nums[i]+1,nums[i+1]-1])\n",
        "\n",
        "  if nums[-1]!=n_range[1]:\n",
        "    range_lst.append([nums[-1],n_range[1]])    \n",
        "\n",
        "  return range_lst"
      ],
      "metadata": {
        "id": "UyCoThQ2pAy0"
      },
      "execution_count": 52,
      "outputs": []
    },
    {
      "cell_type": "code",
      "source": [
        "import numpy as np\n",
        "arr_size = np.random.randint(3,10,size=(1,))[0]\n",
        "arr = np.random.randint(0,50,size=(arr_size,))\n",
        "print(arr)\n",
        "r = [0,99]\n",
        "result = find_ranges(arr, r)\n",
        "print(result)"
      ],
      "metadata": {
        "id": "_sfKTgUisNS9"
      },
      "execution_count": null,
      "outputs": []
    },
    {
      "cell_type": "markdown",
      "source": [
        "Question 8\n",
        "\n",
        "Given an array of meeting time intervals where intervals[i] = [starti, endi],\n",
        "determine if a person could attend all meetings.\n",
        "\n",
        "Example 1:\n",
        "Input: intervals = [[0,30],[5,10],[15,20]]\n",
        "Output: false"
      ],
      "metadata": {
        "id": "765dWanruLv7"
      }
    },
    {
      "cell_type": "code",
      "source": [
        "def canAttendMeetings(intervals):\n",
        "    intervals.sort(key=lambda x: x[0])\n",
        "    for i in range(1, len(intervals)):\n",
        "        if intervals[i][0] < intervals[i-1][1]:\n",
        "            return False\n",
        "    return True\n",
        "    "
      ],
      "metadata": {
        "id": "-_J_nI48uMaS"
      },
      "execution_count": 50,
      "outputs": []
    },
    {
      "cell_type": "code",
      "source": [
        "import numpy as np\n",
        "intervals = [[0,30],[5,10],[15,20]] \n",
        "canAttendMeetings(intervals)"
      ],
      "metadata": {
        "id": "34CKWOXez0ah"
      },
      "execution_count": null,
      "outputs": []
    }
  ]
}