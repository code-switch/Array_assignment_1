{
  "nbformat": 4,
  "nbformat_minor": 0,
  "metadata": {
    "colab": {
      "provenance": []
    },
    "kernelspec": {
      "name": "python3",
      "display_name": "Python 3"
    },
    "language_info": {
      "name": "python"
    }
  },
  "cells": [
    {
      "cell_type": "markdown",
      "source": [
        " **Question 1**\n",
        "\n",
        "A permutation perm of n + 1 integers of all the integers in the range [0, n] can be represented as a string s of length n where:\n",
        "\n",
        "- s[i] == 'I' if perm[i] < perm[i + 1], and\n",
        "- s[i] == 'D' if perm[i] > perm[i + 1].\n",
        "\n",
        "Given a string s, reconstruct the permutation perm and return it. If there are multiple valid permutations perm, return **any of them**.\n",
        "\n",
        "**Example 1:**\n",
        "\n",
        "**Input:** s = \"IDID\"\n",
        "\n",
        "**Output:**\n",
        "\n",
        "[0,4,1,3,2]\n"
      ],
      "metadata": {
        "id": "xGsVb_UDrpGj"
      }
    },
    {
      "cell_type": "code",
      "source": [
        "def permutation_perm(strg): \n",
        "  \n",
        "  l = len(strg)\n",
        "  lst = list(range(l+1))\n",
        "  print(lst)\n",
        "  permutation_perm=[]\n",
        "  for c in strg:\n",
        "    if c==\"I\" and strg.index(c)==0:\n",
        "      ele = max(lst)\n",
        "      while ele==max(lst) or (ele in permutation_perm):\n",
        "        ele=random.choice(lst)\n",
        "    elif c==\"D\" and strg.index(c)==0:\n",
        "      while ele==min(lst) or (ele in permutation_perm):\n",
        "        ele = random.choice(lst)\n",
        "    elif (c==\"I\" and strg.index(c)==-1) or (c==\"D\" and strg.index(c)==-1):\n",
        "      while ele in permutation_perm:\n",
        "        ele = random.choice(lst)\n",
        "    elif c=='I':\n",
        "      while ele != min(lst):\n",
        "        ele = random.choice(lst)\n",
        "    else:\n",
        "      while ele != max(lst):\n",
        "        ele= random.choice(lst)\n",
        "\n",
        "    permutation_perm.append(ele)\n",
        "    lst.remove(ele)\n",
        "  return permutation_perm"
      ],
      "metadata": {
        "id": "5iI3dahTaIWU"
      },
      "execution_count": null,
      "outputs": []
    },
    {
      "cell_type": "code",
      "execution_count": null,
      "metadata": {
        "colab": {
          "base_uri": "https://localhost:8080/"
        },
        "id": "UyEWRSzTiIu0",
        "outputId": "0485f88d-cf2b-46b3-ecda-4eb799ab0498"
      },
      "outputs": [
        {
          "output_type": "stream",
          "name": "stdout",
          "text": [
            "[0, 1, 2, 3, 4, 5]\n",
            "[3, 5, 4, 1, 2]\n"
          ]
        }
      ],
      "source": [
        "#creating a array of random numbers of length 10\n",
        "import numpy as np\n",
        "import random\n",
        "strg = 'IDDID'\n",
        "result = permutation_perm(strg)\n",
        "print(result)"
      ]
    },
    {
      "cell_type": "markdown",
      "source": [
        "**Question 2**\n",
        "\n",
        "You are given an m x n integer matrix matrix with the following two properties:\n",
        "\n",
        "- Each row is sorted in non-decreasing order.\n",
        "- The first integer of each row is greater than the last integer of the previous row.\n",
        "\n",
        "Given an integer target, return true *if* target *is in* matrix *or* false *otherwise*.\n",
        "\n",
        "You must write a solution in O(log(m * n)) time complexity.\n",
        "\n",
        "**Example 1:**\n",
        "**Input:** matrix = [[1,3,5,7],[10,11,16,20],[23,30,34,60]], target = 3\n",
        "\n",
        "**Output:** true"
      ],
      "metadata": {
        "id": "imk0izrrefwD"
      }
    },
    {
      "cell_type": "code",
      "source": [
        "def searchMatrix(matrix, target):\n",
        "    m, n = len(matrix), len(matrix[0])\n",
        "    left, right = 0, m * n - 1\n",
        "    while left <= right:\n",
        "        mid = (left + right) // 2\n",
        "        row, col = divmod(mid, n)\n",
        "        if matrix[row][col] == target:\n",
        "            return True\n",
        "        elif matrix[row][col] < target:\n",
        "            left = mid + 1\n",
        "        else:\n",
        "            right = mid - 1\n",
        "    return False"
      ],
      "metadata": {
        "id": "A6iooGpBhTrY"
      },
      "execution_count": null,
      "outputs": []
    },
    {
      "cell_type": "code",
      "source": [
        "import math\n",
        "\n",
        "matrix = [[1,3,5,7],[10,11,16,20],[23,30,34,60]]\n",
        "target = 34\n",
        "result = searchMatrix(matrix, target)\n",
        "print(result)"
      ],
      "metadata": {
        "colab": {
          "base_uri": "https://localhost:8080/"
        },
        "id": "nUzWh78acFsS",
        "outputId": "30a3a6f2-2285-4aa5-9f04-840e6b21f35d"
      },
      "execution_count": null,
      "outputs": [
        {
          "output_type": "stream",
          "name": "stdout",
          "text": [
            "True\n"
          ]
        }
      ]
    },
    {
      "cell_type": "markdown",
      "source": [
        "*Question 3**\n",
        "\n",
        "Given an array of integers arr, return *true if and only if it is a valid mountain array*.\n",
        "\n",
        "Recall that arr is a mountain array if and only if:\n",
        "\n",
        "- arr.length >= 3\n",
        "- There exists some i with 0 < i < arr.length - 1 such that:\n",
        "    - arr[0] < arr[1] < ... < arr[i - 1] < arr[i]\n",
        "    - arr[i] > arr[i + 1] > ... > arr[arr.length - 1]\n",
        "    \n",
        "**Example 1:**\n",
        "\n",
        "**Input:** arr = [2,1]\n",
        "\n",
        "**Output:**\n",
        "\n",
        "false"
      ],
      "metadata": {
        "id": "s17SvhecwJxA"
      }
    },
    {
      "cell_type": "code",
      "source": [
        "def mountain_array(arr):\n",
        "  arr = list(arr)\n",
        "  count = 0\n",
        "  for i in range(len(arr)):\n",
        "    if i < (len(arr)-1) and arr[i] < arr[i+1]:\n",
        "      if count == 0:\n",
        "        continue\n",
        "      else:\n",
        "        return False\n",
        "    elif i < (len(arr)-1) and arr[i] > arr[i+1]:\n",
        "      count = 1\n",
        "      continue\n",
        "    elif i== len(arr)-1:\n",
        "      return True\n",
        "    else:\n",
        "      return False\n",
        "      \n",
        "  return True"
      ],
      "metadata": {
        "id": "VzTRDaD0F6H4"
      },
      "execution_count": null,
      "outputs": []
    },
    {
      "cell_type": "code",
      "source": [
        "import numpy as np\n",
        "arr = [1,3,4,5,6,7,5,4,2,0]\n",
        "result = mountain_array(arr)\n",
        "print(result)"
      ],
      "metadata": {
        "colab": {
          "base_uri": "https://localhost:8080/"
        },
        "id": "vo166EZJQrf5",
        "outputId": "d2ed00bf-795d-498f-9e01-b461876c3f8d"
      },
      "execution_count": null,
      "outputs": [
        {
          "output_type": "stream",
          "name": "stdout",
          "text": [
            "True\n"
          ]
        }
      ]
    },
    {
      "cell_type": "markdown",
      "source": [
        "**Question 4**\n",
        "\n",
        "Given a binary array nums, return *the maximum length of a contiguous subarray with an equal number of* 0 *and* 1.\n",
        "\n",
        "**Example 1:**\n",
        "\n",
        "**Input:** nums = [0,1]\n",
        "\n",
        "**Output:** 2\n",
        "\n",
        "**Explanation:**\n",
        "\n",
        "[0, 1] is the longest contiguous subarray with an equal number of 0 and 1.\n"
      ],
      "metadata": {
        "id": "X9OQhpRC5hnG"
      }
    },
    {
      "cell_type": "code",
      "source": [
        "def contiguous_subarray(nums):\n",
        "  idx_lst=[]\n",
        "  # l = len(nums)\n",
        "  zero_counts=0\n",
        "  one_counts=0\n",
        "  for i,ele in enumerate(nums):\n",
        "    if ele==0:\n",
        "      zero_counts +=1\n",
        "    else:\n",
        "      one_counts +=1\n",
        "    \n",
        "    if zero_counts==one_counts:\n",
        "      idx_lst.append(i)\n",
        "      \n",
        "    else:\n",
        "      continue  \n",
        "\n",
        "  max_length = max(idx_lst)+1\n",
        "  return max_length    "
      ],
      "metadata": {
        "id": "Z47pVR8gVj_Z"
      },
      "execution_count": 1,
      "outputs": []
    },
    {
      "cell_type": "code",
      "source": [
        "#creating a array of random numbers of length 10\n",
        "import numpy as np\n",
        "nums = [1,1,1,0,0,1,0,0,1,0,1]\n",
        "result = contiguous_subarray(nums)\n",
        "print(result)"
      ],
      "metadata": {
        "colab": {
          "base_uri": "https://localhost:8080/"
        },
        "id": "Akgl3wCRg5PU",
        "outputId": "cad1ff0d-57bf-4f32-f108-8283f542409c"
      },
      "execution_count": 2,
      "outputs": [
        {
          "output_type": "stream",
          "name": "stdout",
          "text": [
            "10\n"
          ]
        }
      ]
    },
    {
      "cell_type": "markdown",
      "source": [
        "**Question 5**\n",
        "\n",
        "The **product sum** of two equal-length arrays a and b is equal to the sum of a[i] * b[i] for all 0 <= i < a.length (**0-indexed**).\n",
        "\n",
        "- For example, if a = [1,2,3,4] and b = [5,2,3,1], the **product sum** would be 1*5 + 2*2 + 3*3 + 4*1 = 22.\n",
        "\n",
        "Given two arrays nums1 and nums2 of length n, return *the **minimum product sum** if you are allowed to **rearrange** the **order** of the elements in* nums1.\n",
        "\n",
        "**Example 1:**\n",
        "\n",
        "**Input:** nums1 = [5,3,4,2], nums2 = [4,2,2,5]\n",
        "\n",
        "**Output:** 40\n",
        "\n",
        "**Explanation:**\n",
        "\n",
        "We can rearrange nums1 to become [3,5,4,2]. The product sum of [3,5,4,2] and [4,2,2,5] is 3*4 + 5*2 + 4*2 + 2*5 = 40.\n"
      ],
      "metadata": {
        "id": "QELQT1VosvTr"
      }
    },
    {
      "cell_type": "code",
      "source": [
        "def product_sum(arr1, arr2):\n",
        "  l=len(arr1)\n",
        "  arr1.sort()\n",
        "  arr2.sort(reverse=True)\n",
        "  sum = 0\n",
        "  for i in range(l):\n",
        "    sum += arr1[i]*arr2[i]\n",
        "\n",
        "  return sum"
      ],
      "metadata": {
        "id": "mS3VFX9Asv6Q"
      },
      "execution_count": 7,
      "outputs": []
    },
    {
      "cell_type": "code",
      "source": [
        "arr1=[5,3,4,2]\n",
        "arr2 = [4,2,2,5]\n",
        "\n",
        "result =product_sum(arr1, arr2)\n",
        "print(result)"
      ],
      "metadata": {
        "colab": {
          "base_uri": "https://localhost:8080/"
        },
        "id": "g6qolupI35sM",
        "outputId": "16d6343d-2b92-4450-ae3d-82fe0a6148eb"
      },
      "execution_count": 10,
      "outputs": [
        {
          "output_type": "stream",
          "name": "stdout",
          "text": [
            "40\n"
          ]
        }
      ]
    },
    {
      "cell_type": "markdown",
      "source": [
        "**Question 6**\n",
        "\n",
        "An integer array original is transformed into a **doubled** array changed by appending **twice the value** of every element in original, and then randomly **shuffling** the resulting array.\n",
        "\n",
        "Given an array changed, return original *if* changed *is a **doubled** array. If* changed *is not a **doubled** array, return an empty array. The elements in* original *may be returned in **any** order*.\n",
        "\n",
        "**Example 1:**\n",
        "\n",
        "**Input:** changed = [1,3,4,2,6,8]\n",
        "\n",
        "**Output:** [1,3,4]\n",
        "\n",
        "**Explanation:** One possible original array could be [1,3,4]:\n",
        "\n",
        "- Twice the value of 1 is 1 * 2 = 2.\n",
        "- Twice the value of 3 is 3 * 2 = 6.\n",
        "- Twice the value of 4 is 4 * 2 = 8.\n",
        "\n",
        "Other original arrays could be [4,3,1] or [3,1,4].\n"
      ],
      "metadata": {
        "id": "VN6LVNw7vRaH"
      }
    },
    {
      "cell_type": "code",
      "source": [
        "def doubled_array(nums):\n",
        "  nums.sort()\n",
        "  nums = list(nums)\n",
        "  l = len(nums)\n",
        "  for ele in nums:\n",
        "    if ele*2 in nums:\n",
        "      nums.remove(ele*2)\n",
        "      continue\n",
        "    else:\n",
        "      return [] \n",
        "    \n",
        "  return np.array(nums)\n",
        "    "
      ],
      "metadata": {
        "id": "Q1JLoaUAvR9B"
      },
      "execution_count": 11,
      "outputs": []
    },
    {
      "cell_type": "code",
      "source": [
        "import numpy as np\n",
        "nums= [2,4,8,4,10,14,6,5,7,3]\n",
        "result =doubled_array(nums)\n",
        "print(result)"
      ],
      "metadata": {
        "colab": {
          "base_uri": "https://localhost:8080/"
        },
        "id": "6kJYtpQsiEqq",
        "outputId": "d58cb242-b9aa-44b2-a6c0-595cb325cb0e"
      },
      "execution_count": 12,
      "outputs": [
        {
          "output_type": "stream",
          "name": "stdout",
          "text": [
            "[2 3 4 5 7]\n"
          ]
        }
      ]
    },
    {
      "cell_type": "markdown",
      "source": [
        "**Question 7**\n",
        "\n",
        "Given a positive integer n, generate an n x n matrix filled with elements from 1 to n2 in spiral order.\n",
        "\n",
        "**Example 1:**\n",
        "**Input:** n = 3\n",
        "\n",
        "**Output:** [[1,2,3],[8,9,4],[7,6,5]]"
      ],
      "metadata": {
        "id": "4isZu8GFpGPL"
      }
    },
    {
      "cell_type": "code",
      "source": [
        "def generateMatrix(n: int):\n",
        "    matrix = [[0 for i in range(n)] for j in range(n)]\n",
        "    row_start, row_end = 0, n - 1\n",
        "    col_start, col_end = 0, n - 1\n",
        "    num = 1\n",
        "    while row_start <= row_end and col_start <= col_end:\n",
        "        for i in range(col_start, col_end + 1):\n",
        "            matrix[row_start][i] = num\n",
        "            num += 1\n",
        "        row_start += 1\n",
        "        for i in range(row_start, row_end + 1):\n",
        "            matrix[i][col_end] = num\n",
        "            num += 1\n",
        "        col_end -= 1\n",
        "        if row_start <= row_end:\n",
        "            for i in range(col_end, col_start - 1, -1):\n",
        "                matrix[row_end][i] = num\n",
        "                num += 1\n",
        "            row_end -= 1\n",
        "        if col_start <= col_end:\n",
        "            for i in range(row_end, row_start - 1, -1):\n",
        "                matrix[i][col_start] = num\n",
        "                num += 1\n",
        "            col_start += 1\n",
        "    return matrix"
      ],
      "metadata": {
        "id": "UyCoThQ2pAy0"
      },
      "execution_count": 14,
      "outputs": []
    },
    {
      "cell_type": "code",
      "source": [
        "n = 3\n",
        "result = generateMatrix(n)\n",
        "print(result)"
      ],
      "metadata": {
        "id": "_sfKTgUisNS9",
        "colab": {
          "base_uri": "https://localhost:8080/"
        },
        "outputId": "194834b2-5d8e-4f35-a5d5-ec5aee1cf4a0"
      },
      "execution_count": 15,
      "outputs": [
        {
          "output_type": "stream",
          "name": "stdout",
          "text": [
            "[[1, 2, 3], [8, 9, 4], [7, 6, 5]]\n"
          ]
        }
      ]
    },
    {
      "cell_type": "markdown",
      "source": [
        "**Question 8**\n",
        "\n",
        "Given two [sparse matrices](https://en.wikipedia.org/wiki/Sparse_matrix) mat1 of size m x k and mat2 of size k x n, return the result of mat1 x mat2. You may assume that multiplication is always possible.\n",
        "\n",
        "**Example 1:**\n",
        "**Input:** mat1 = [[1,0,0],[-1,0,3]], mat2 = [[7,0,0],[0,0,0],[0,0,1]]\n",
        "\n",
        "**Output:**\n",
        "\n",
        "[[7,0,0],[-7,0,3]]"
      ],
      "metadata": {
        "id": "765dWanruLv7"
      }
    },
    {
      "cell_type": "code",
      "source": [
        "import numpy as np\n",
        "from scipy.sparse import csr_matrix\n",
        "\n",
        "# define mat1 and mat2 as csr matrices\n",
        "mat1 = csr_matrix([[1, 0, 0], [-1, 0, 3]])\n",
        "mat2 = csr_matrix([[7, 0, 0], [0, 0, 0], [0, 0, 1]])\n",
        "\n",
        "# perform matrix multiplication\n",
        "result = mat1.dot(mat2)\n",
        "\n",
        "# convert result to a dense matrix for printing\n",
        "print(result.todense())"
      ],
      "metadata": {
        "id": "-_J_nI48uMaS",
        "colab": {
          "base_uri": "https://localhost:8080/"
        },
        "outputId": "2308f1f3-57a5-450c-d05b-88afebd7261a"
      },
      "execution_count": 16,
      "outputs": [
        {
          "output_type": "stream",
          "name": "stdout",
          "text": [
            "[[ 7  0  0]\n",
            " [-7  0  3]]\n"
          ]
        }
      ]
    }
  ]
}